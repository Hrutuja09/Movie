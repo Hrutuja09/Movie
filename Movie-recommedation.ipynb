{
 "cells": [
  {
   "cell_type": "markdown",
   "metadata": {},
   "source": [
    "# Movie recommendation system"
   ]
  },
  {
   "cell_type": "markdown",
   "metadata": {},
   "source": [
    "## 1. Introduction "
   ]
  },
  {
   "cell_type": "markdown",
   "metadata": {},
   "source": [
    "<br> \n",
    "<center><img src=\"https://machinelearningmarvel.in/wp-content/uploads/2020/12/jakob-owens-CiUR8zISX60-unsplash-768x519.jpg\" width=\"500\" height=\"300\" /></center>\n",
    "<br>"
   ]
  },
  {
   "cell_type": "markdown",
   "metadata": {},
   "source": [
    "**Recommender System** is a system that **seeks to predict or filter preferences according to the user’s choices.** Recommender systems are utilized in a variety of areas including **movies, music, news, books, research articles, search queries, social tags, and products in general.**"
   ]
  },
  {
   "cell_type": "markdown",
   "metadata": {},
   "source": [
    "**Why do we need recommendation systems?**"
   ]
  },
  {
   "cell_type": "markdown",
   "metadata": {},
   "source": [
    "For any given product, there are sometimes thousands of options to choose from. Think of the examples above: streaming videos, social networking, online shopping; the list goes on. Recommender systems help to personalize a platform and help the user find something they like.\n",
    "**The easiest and simplest way to do this is to recommend the most popular items. However, to really enhance the user experience through personalized recommendations, we need dedicated recommender systems.**"
   ]
  },
  {
   "cell_type": "markdown",
   "metadata": {},
   "source": [
    "<br> \n",
    "<center><img src=\"https://i.ytimg.com/vi/dhVePtyECFw/maxresdefault.jpg\" width=\"500\" height=\"300\" /></center>\n",
    "<br>"
   ]
  },
  {
   "cell_type": "markdown",
   "metadata": {},
   "source": [
    "## 2. Types of Recommender Systems"
   ]
  },
  {
   "cell_type": "markdown",
   "metadata": {},
   "source": [
    "### 2.1 Content Based Filtering"
   ]
  },
  {
   "cell_type": "markdown",
   "metadata": {},
   "source": [
    "**Content-based methods** are based on the **similarity of movie attributes.** Using this type of recommender system, **if a user watches one movie, similar movies are recommended.** "
   ]
  },
  {
   "cell_type": "markdown",
   "metadata": {},
   "source": [
    "For example, **if a user watches a comedy movie** starring Adam Sandler, **the system will recommend them movies in the same genre or starring the same actor, or both.** With this in mind, the input for building a content-based recommender system is movie attributes.\n"
   ]
  },
  {
   "cell_type": "markdown",
   "metadata": {},
   "source": [
    "<br> \n",
    "<center><img src=\"https://miro.medium.com/max/2400/1*dsuGJVJSqhhhNySFnt7EVw.png\" width=\"500\" height=\"300\" /></center>\n",
    "<br>\n"
   ]
  },
  {
   "cell_type": "markdown",
   "metadata": {},
   "source": [
    "### 2.2 Collaborative Filtering"
   ]
  },
  {
   "cell_type": "markdown",
   "metadata": {},
   "source": [
    "**Collaborative filtering**, the system is based on **past interactions between users and movies.** With this in mind, the input for a collaborative filtering system is made up of past data of user interactions with the movies they watch."
   ]
  },
  {
   "cell_type": "markdown",
   "metadata": {},
   "source": [
    "**For example, if user A watches M1, M2, and M3, and user B watches M1, M3, M4, we recommend M1 and M3 to a similar user C. You can see how this looks in the figure below for clearer reference.**"
   ]
  },
  {
   "cell_type": "markdown",
   "metadata": {},
   "source": [
    "<br> \n",
    "<center><img src=\"https://miro.medium.com/max/548/1*pv6CDVqPgITYi_Nr0RygUw.png\" width=\"500\" height=\"300\" /></center>\n",
    "<br>\n"
   ]
  },
  {
   "cell_type": "markdown",
   "metadata": {},
   "source": [
    "**Another example :**\n",
    "**Content based filtering:**If a particular movie is watched by a particular person then based on the features of that movie like for example genere or cast the similar kind of movie is recommended."
   ]
  },
  {
   "cell_type": "markdown",
   "metadata": {},
   "source": [
    "**Collaborative Filtering:** Here, two similar users have watched the movie and if a girl watches another movie then that movie watched by her is recommended to him."
   ]
  },
  {
   "cell_type": "markdown",
   "metadata": {},
   "source": [
    "<br> \n",
    "<center><img src=\"https://d2h0cx97tjks2p.cloudfront.net/blogs/wp-content/uploads/sites/2/2019/07/data-science-movie-recommendation-project.jpg\" width=\"500\" height=\"300\" /></center>\n",
    "<br>\n"
   ]
  },
  {
   "cell_type": "markdown",
   "metadata": {},
   "source": [
    "## 2. Problem Statement"
   ]
  },
  {
   "cell_type": "markdown",
   "metadata": {},
   "source": [
    "To search for a particular movie people often browse but people can spend hours scrolling through hundreds, of movie but never find the movie that they like.Hence recommendation systems are made which provides suggestions based on their likes which helps people to spend less time on internet. "
   ]
  },
  {
   "cell_type": "markdown",
   "metadata": {},
   "source": [
    "**We will be using Movie Lens dataset**"
   ]
  },
  {
   "cell_type": "markdown",
   "metadata": {},
   "source": [
    "**The goal of this analysis is to analyse the data set, explore it and suggest top recommendations based on the past performance of the user**"
   ]
  },
  {
   "cell_type": "markdown",
   "metadata": {},
   "source": [
    "## 3. Importing library"
   ]
  },
  {
   "cell_type": "code",
   "execution_count": 1,
   "metadata": {},
   "outputs": [],
   "source": [
    "import numpy as np                                                \n",
    "import pandas as pd                                                                      \n",
    "import matplotlib.pyplot as plt                                   \n",
    "import seaborn as sns                                             \n",
    "%matplotlib inline\n",
    "import warnings\n",
    "warnings.filterwarnings('ignore')"
   ]
  },
  {
   "cell_type": "markdown",
   "metadata": {},
   "source": [
    "## 4. Loading and understanding the dataset"
   ]
  },
  {
   "cell_type": "code",
   "execution_count": 2,
   "metadata": {},
   "outputs": [
    {
     "data": {
      "text/html": [
       "<div>\n",
       "<style scoped>\n",
       "    .dataframe tbody tr th:only-of-type {\n",
       "        vertical-align: middle;\n",
       "    }\n",
       "\n",
       "    .dataframe tbody tr th {\n",
       "        vertical-align: top;\n",
       "    }\n",
       "\n",
       "    .dataframe thead th {\n",
       "        text-align: right;\n",
       "    }\n",
       "</style>\n",
       "<table border=\"1\" class=\"dataframe\">\n",
       "  <thead>\n",
       "    <tr style=\"text-align: right;\">\n",
       "      <th></th>\n",
       "      <th>movie_id</th>\n",
       "      <th>title</th>\n",
       "      <th>cast</th>\n",
       "      <th>crew</th>\n",
       "    </tr>\n",
       "  </thead>\n",
       "  <tbody>\n",
       "    <tr>\n",
       "      <th>0</th>\n",
       "      <td>19995</td>\n",
       "      <td>Avatar</td>\n",
       "      <td>[{\"cast_id\": 242, \"character\": \"Jake Sully\", \"...</td>\n",
       "      <td>[{\"credit_id\": \"52fe48009251416c750aca23\", \"de...</td>\n",
       "    </tr>\n",
       "    <tr>\n",
       "      <th>1</th>\n",
       "      <td>285</td>\n",
       "      <td>Pirates of the Caribbean: At World's End</td>\n",
       "      <td>[{\"cast_id\": 4, \"character\": \"Captain Jack Spa...</td>\n",
       "      <td>[{\"credit_id\": \"52fe4232c3a36847f800b579\", \"de...</td>\n",
       "    </tr>\n",
       "    <tr>\n",
       "      <th>2</th>\n",
       "      <td>206647</td>\n",
       "      <td>Spectre</td>\n",
       "      <td>[{\"cast_id\": 1, \"character\": \"James Bond\", \"cr...</td>\n",
       "      <td>[{\"credit_id\": \"54805967c3a36829b5002c41\", \"de...</td>\n",
       "    </tr>\n",
       "    <tr>\n",
       "      <th>3</th>\n",
       "      <td>49026</td>\n",
       "      <td>The Dark Knight Rises</td>\n",
       "      <td>[{\"cast_id\": 2, \"character\": \"Bruce Wayne / Ba...</td>\n",
       "      <td>[{\"credit_id\": \"52fe4781c3a36847f81398c3\", \"de...</td>\n",
       "    </tr>\n",
       "    <tr>\n",
       "      <th>4</th>\n",
       "      <td>49529</td>\n",
       "      <td>John Carter</td>\n",
       "      <td>[{\"cast_id\": 5, \"character\": \"John Carter\", \"c...</td>\n",
       "      <td>[{\"credit_id\": \"52fe479ac3a36847f813eaa3\", \"de...</td>\n",
       "    </tr>\n",
       "  </tbody>\n",
       "</table>\n",
       "</div>"
      ],
      "text/plain": [
       "   movie_id                                     title  \\\n",
       "0     19995                                    Avatar   \n",
       "1       285  Pirates of the Caribbean: At World's End   \n",
       "2    206647                                   Spectre   \n",
       "3     49026                     The Dark Knight Rises   \n",
       "4     49529                               John Carter   \n",
       "\n",
       "                                                cast  \\\n",
       "0  [{\"cast_id\": 242, \"character\": \"Jake Sully\", \"...   \n",
       "1  [{\"cast_id\": 4, \"character\": \"Captain Jack Spa...   \n",
       "2  [{\"cast_id\": 1, \"character\": \"James Bond\", \"cr...   \n",
       "3  [{\"cast_id\": 2, \"character\": \"Bruce Wayne / Ba...   \n",
       "4  [{\"cast_id\": 5, \"character\": \"John Carter\", \"c...   \n",
       "\n",
       "                                                crew  \n",
       "0  [{\"credit_id\": \"52fe48009251416c750aca23\", \"de...  \n",
       "1  [{\"credit_id\": \"52fe4232c3a36847f800b579\", \"de...  \n",
       "2  [{\"credit_id\": \"54805967c3a36829b5002c41\", \"de...  \n",
       "3  [{\"credit_id\": \"52fe4781c3a36847f81398c3\", \"de...  \n",
       "4  [{\"credit_id\": \"52fe479ac3a36847f813eaa3\", \"de...  "
      ]
     },
     "execution_count": 2,
     "metadata": {},
     "output_type": "execute_result"
    }
   ],
   "source": [
    "df1 = pd.read_csv('C:\\\\Users\\\\Lenovo\\\\downloads\\\\tmdb_5000_credits.csv')\n",
    "df1.head()"
   ]
  },
  {
   "cell_type": "code",
   "execution_count": 3,
   "metadata": {},
   "outputs": [
    {
     "data": {
      "text/plain": [
       "(4803, 4)"
      ]
     },
     "execution_count": 3,
     "metadata": {},
     "output_type": "execute_result"
    }
   ],
   "source": [
    "df1.shape"
   ]
  },
  {
   "cell_type": "code",
   "execution_count": 4,
   "metadata": {},
   "outputs": [
    {
     "data": {
      "text/html": [
       "<div>\n",
       "<style scoped>\n",
       "    .dataframe tbody tr th:only-of-type {\n",
       "        vertical-align: middle;\n",
       "    }\n",
       "\n",
       "    .dataframe tbody tr th {\n",
       "        vertical-align: top;\n",
       "    }\n",
       "\n",
       "    .dataframe thead th {\n",
       "        text-align: right;\n",
       "    }\n",
       "</style>\n",
       "<table border=\"1\" class=\"dataframe\">\n",
       "  <thead>\n",
       "    <tr style=\"text-align: right;\">\n",
       "      <th></th>\n",
       "      <th>movie_id</th>\n",
       "    </tr>\n",
       "  </thead>\n",
       "  <tbody>\n",
       "    <tr>\n",
       "      <th>count</th>\n",
       "      <td>4803.000000</td>\n",
       "    </tr>\n",
       "    <tr>\n",
       "      <th>mean</th>\n",
       "      <td>57165.484281</td>\n",
       "    </tr>\n",
       "    <tr>\n",
       "      <th>std</th>\n",
       "      <td>88694.614033</td>\n",
       "    </tr>\n",
       "    <tr>\n",
       "      <th>min</th>\n",
       "      <td>5.000000</td>\n",
       "    </tr>\n",
       "    <tr>\n",
       "      <th>25%</th>\n",
       "      <td>9014.500000</td>\n",
       "    </tr>\n",
       "    <tr>\n",
       "      <th>50%</th>\n",
       "      <td>14629.000000</td>\n",
       "    </tr>\n",
       "    <tr>\n",
       "      <th>75%</th>\n",
       "      <td>58610.500000</td>\n",
       "    </tr>\n",
       "    <tr>\n",
       "      <th>max</th>\n",
       "      <td>459488.000000</td>\n",
       "    </tr>\n",
       "  </tbody>\n",
       "</table>\n",
       "</div>"
      ],
      "text/plain": [
       "            movie_id\n",
       "count    4803.000000\n",
       "mean    57165.484281\n",
       "std     88694.614033\n",
       "min         5.000000\n",
       "25%      9014.500000\n",
       "50%     14629.000000\n",
       "75%     58610.500000\n",
       "max    459488.000000"
      ]
     },
     "execution_count": 4,
     "metadata": {},
     "output_type": "execute_result"
    }
   ],
   "source": [
    "df1.describe()"
   ]
  },
  {
   "cell_type": "code",
   "execution_count": 5,
   "metadata": {},
   "outputs": [
    {
     "data": {
      "text/plain": [
       "Index(['movie_id', 'title', 'cast', 'crew'], dtype='object')"
      ]
     },
     "execution_count": 5,
     "metadata": {},
     "output_type": "execute_result"
    }
   ],
   "source": [
    "df1.columns"
   ]
  },
  {
   "cell_type": "code",
   "execution_count": 6,
   "metadata": {},
   "outputs": [
    {
     "data": {
      "text/html": [
       "<div>\n",
       "<style scoped>\n",
       "    .dataframe tbody tr th:only-of-type {\n",
       "        vertical-align: middle;\n",
       "    }\n",
       "\n",
       "    .dataframe tbody tr th {\n",
       "        vertical-align: top;\n",
       "    }\n",
       "\n",
       "    .dataframe thead th {\n",
       "        text-align: right;\n",
       "    }\n",
       "</style>\n",
       "<table border=\"1\" class=\"dataframe\">\n",
       "  <thead>\n",
       "    <tr style=\"text-align: right;\">\n",
       "      <th></th>\n",
       "      <th>budget</th>\n",
       "      <th>genres</th>\n",
       "      <th>homepage</th>\n",
       "      <th>id</th>\n",
       "      <th>keywords</th>\n",
       "      <th>original_language</th>\n",
       "      <th>original_title</th>\n",
       "      <th>overview</th>\n",
       "      <th>popularity</th>\n",
       "      <th>production_companies</th>\n",
       "      <th>production_countries</th>\n",
       "      <th>release_date</th>\n",
       "      <th>revenue</th>\n",
       "      <th>runtime</th>\n",
       "      <th>spoken_languages</th>\n",
       "      <th>status</th>\n",
       "      <th>tagline</th>\n",
       "      <th>title</th>\n",
       "      <th>vote_average</th>\n",
       "      <th>vote_count</th>\n",
       "    </tr>\n",
       "  </thead>\n",
       "  <tbody>\n",
       "    <tr>\n",
       "      <th>0</th>\n",
       "      <td>237000000</td>\n",
       "      <td>[{\"id\": 28, \"name\": \"Action\"}, {\"id\": 12, \"nam...</td>\n",
       "      <td>http://www.avatarmovie.com/</td>\n",
       "      <td>19995</td>\n",
       "      <td>[{\"id\": 1463, \"name\": \"culture clash\"}, {\"id\":...</td>\n",
       "      <td>en</td>\n",
       "      <td>Avatar</td>\n",
       "      <td>In the 22nd century, a paraplegic Marine is di...</td>\n",
       "      <td>150.437577</td>\n",
       "      <td>[{\"name\": \"Ingenious Film Partners\", \"id\": 289...</td>\n",
       "      <td>[{\"iso_3166_1\": \"US\", \"name\": \"United States o...</td>\n",
       "      <td>2009-12-10</td>\n",
       "      <td>2787965087</td>\n",
       "      <td>162.0</td>\n",
       "      <td>[{\"iso_639_1\": \"en\", \"name\": \"English\"}, {\"iso...</td>\n",
       "      <td>Released</td>\n",
       "      <td>Enter the World of Pandora.</td>\n",
       "      <td>Avatar</td>\n",
       "      <td>7.2</td>\n",
       "      <td>11800</td>\n",
       "    </tr>\n",
       "    <tr>\n",
       "      <th>1</th>\n",
       "      <td>300000000</td>\n",
       "      <td>[{\"id\": 12, \"name\": \"Adventure\"}, {\"id\": 14, \"...</td>\n",
       "      <td>http://disney.go.com/disneypictures/pirates/</td>\n",
       "      <td>285</td>\n",
       "      <td>[{\"id\": 270, \"name\": \"ocean\"}, {\"id\": 726, \"na...</td>\n",
       "      <td>en</td>\n",
       "      <td>Pirates of the Caribbean: At World's End</td>\n",
       "      <td>Captain Barbossa, long believed to be dead, ha...</td>\n",
       "      <td>139.082615</td>\n",
       "      <td>[{\"name\": \"Walt Disney Pictures\", \"id\": 2}, {\"...</td>\n",
       "      <td>[{\"iso_3166_1\": \"US\", \"name\": \"United States o...</td>\n",
       "      <td>2007-05-19</td>\n",
       "      <td>961000000</td>\n",
       "      <td>169.0</td>\n",
       "      <td>[{\"iso_639_1\": \"en\", \"name\": \"English\"}]</td>\n",
       "      <td>Released</td>\n",
       "      <td>At the end of the world, the adventure begins.</td>\n",
       "      <td>Pirates of the Caribbean: At World's End</td>\n",
       "      <td>6.9</td>\n",
       "      <td>4500</td>\n",
       "    </tr>\n",
       "  </tbody>\n",
       "</table>\n",
       "</div>"
      ],
      "text/plain": [
       "      budget                                             genres  \\\n",
       "0  237000000  [{\"id\": 28, \"name\": \"Action\"}, {\"id\": 12, \"nam...   \n",
       "1  300000000  [{\"id\": 12, \"name\": \"Adventure\"}, {\"id\": 14, \"...   \n",
       "\n",
       "                                       homepage     id  \\\n",
       "0                   http://www.avatarmovie.com/  19995   \n",
       "1  http://disney.go.com/disneypictures/pirates/    285   \n",
       "\n",
       "                                            keywords original_language  \\\n",
       "0  [{\"id\": 1463, \"name\": \"culture clash\"}, {\"id\":...                en   \n",
       "1  [{\"id\": 270, \"name\": \"ocean\"}, {\"id\": 726, \"na...                en   \n",
       "\n",
       "                             original_title  \\\n",
       "0                                    Avatar   \n",
       "1  Pirates of the Caribbean: At World's End   \n",
       "\n",
       "                                            overview  popularity  \\\n",
       "0  In the 22nd century, a paraplegic Marine is di...  150.437577   \n",
       "1  Captain Barbossa, long believed to be dead, ha...  139.082615   \n",
       "\n",
       "                                production_companies  \\\n",
       "0  [{\"name\": \"Ingenious Film Partners\", \"id\": 289...   \n",
       "1  [{\"name\": \"Walt Disney Pictures\", \"id\": 2}, {\"...   \n",
       "\n",
       "                                production_countries release_date     revenue  \\\n",
       "0  [{\"iso_3166_1\": \"US\", \"name\": \"United States o...   2009-12-10  2787965087   \n",
       "1  [{\"iso_3166_1\": \"US\", \"name\": \"United States o...   2007-05-19   961000000   \n",
       "\n",
       "   runtime                                   spoken_languages    status  \\\n",
       "0    162.0  [{\"iso_639_1\": \"en\", \"name\": \"English\"}, {\"iso...  Released   \n",
       "1    169.0           [{\"iso_639_1\": \"en\", \"name\": \"English\"}]  Released   \n",
       "\n",
       "                                          tagline  \\\n",
       "0                     Enter the World of Pandora.   \n",
       "1  At the end of the world, the adventure begins.   \n",
       "\n",
       "                                      title  vote_average  vote_count  \n",
       "0                                    Avatar           7.2       11800  \n",
       "1  Pirates of the Caribbean: At World's End           6.9        4500  "
      ]
     },
     "execution_count": 6,
     "metadata": {},
     "output_type": "execute_result"
    }
   ],
   "source": [
    "df2 = pd.read_csv('C:\\\\Users\\\\Lenovo\\\\downloads\\\\tmdb_5000_movies.csv')\n",
    "df2.head(2)"
   ]
  },
  {
   "cell_type": "code",
   "execution_count": 7,
   "metadata": {},
   "outputs": [
    {
     "data": {
      "text/plain": [
       "(4803, 20)"
      ]
     },
     "execution_count": 7,
     "metadata": {},
     "output_type": "execute_result"
    }
   ],
   "source": [
    "df2.shape"
   ]
  },
  {
   "cell_type": "code",
   "execution_count": 8,
   "metadata": {},
   "outputs": [
    {
     "data": {
      "text/html": [
       "<div>\n",
       "<style scoped>\n",
       "    .dataframe tbody tr th:only-of-type {\n",
       "        vertical-align: middle;\n",
       "    }\n",
       "\n",
       "    .dataframe tbody tr th {\n",
       "        vertical-align: top;\n",
       "    }\n",
       "\n",
       "    .dataframe thead th {\n",
       "        text-align: right;\n",
       "    }\n",
       "</style>\n",
       "<table border=\"1\" class=\"dataframe\">\n",
       "  <thead>\n",
       "    <tr style=\"text-align: right;\">\n",
       "      <th></th>\n",
       "      <th>budget</th>\n",
       "      <th>id</th>\n",
       "      <th>popularity</th>\n",
       "      <th>revenue</th>\n",
       "      <th>runtime</th>\n",
       "      <th>vote_average</th>\n",
       "      <th>vote_count</th>\n",
       "    </tr>\n",
       "  </thead>\n",
       "  <tbody>\n",
       "    <tr>\n",
       "      <th>count</th>\n",
       "      <td>4.803000e+03</td>\n",
       "      <td>4803.000000</td>\n",
       "      <td>4803.000000</td>\n",
       "      <td>4.803000e+03</td>\n",
       "      <td>4801.000000</td>\n",
       "      <td>4803.000000</td>\n",
       "      <td>4803.000000</td>\n",
       "    </tr>\n",
       "    <tr>\n",
       "      <th>mean</th>\n",
       "      <td>2.904504e+07</td>\n",
       "      <td>57165.484281</td>\n",
       "      <td>21.492301</td>\n",
       "      <td>8.226064e+07</td>\n",
       "      <td>106.875859</td>\n",
       "      <td>6.092172</td>\n",
       "      <td>690.217989</td>\n",
       "    </tr>\n",
       "    <tr>\n",
       "      <th>std</th>\n",
       "      <td>4.072239e+07</td>\n",
       "      <td>88694.614033</td>\n",
       "      <td>31.816650</td>\n",
       "      <td>1.628571e+08</td>\n",
       "      <td>22.611935</td>\n",
       "      <td>1.194612</td>\n",
       "      <td>1234.585891</td>\n",
       "    </tr>\n",
       "    <tr>\n",
       "      <th>min</th>\n",
       "      <td>0.000000e+00</td>\n",
       "      <td>5.000000</td>\n",
       "      <td>0.000000</td>\n",
       "      <td>0.000000e+00</td>\n",
       "      <td>0.000000</td>\n",
       "      <td>0.000000</td>\n",
       "      <td>0.000000</td>\n",
       "    </tr>\n",
       "    <tr>\n",
       "      <th>25%</th>\n",
       "      <td>7.900000e+05</td>\n",
       "      <td>9014.500000</td>\n",
       "      <td>4.668070</td>\n",
       "      <td>0.000000e+00</td>\n",
       "      <td>94.000000</td>\n",
       "      <td>5.600000</td>\n",
       "      <td>54.000000</td>\n",
       "    </tr>\n",
       "    <tr>\n",
       "      <th>50%</th>\n",
       "      <td>1.500000e+07</td>\n",
       "      <td>14629.000000</td>\n",
       "      <td>12.921594</td>\n",
       "      <td>1.917000e+07</td>\n",
       "      <td>103.000000</td>\n",
       "      <td>6.200000</td>\n",
       "      <td>235.000000</td>\n",
       "    </tr>\n",
       "    <tr>\n",
       "      <th>75%</th>\n",
       "      <td>4.000000e+07</td>\n",
       "      <td>58610.500000</td>\n",
       "      <td>28.313505</td>\n",
       "      <td>9.291719e+07</td>\n",
       "      <td>118.000000</td>\n",
       "      <td>6.800000</td>\n",
       "      <td>737.000000</td>\n",
       "    </tr>\n",
       "    <tr>\n",
       "      <th>max</th>\n",
       "      <td>3.800000e+08</td>\n",
       "      <td>459488.000000</td>\n",
       "      <td>875.581305</td>\n",
       "      <td>2.787965e+09</td>\n",
       "      <td>338.000000</td>\n",
       "      <td>10.000000</td>\n",
       "      <td>13752.000000</td>\n",
       "    </tr>\n",
       "  </tbody>\n",
       "</table>\n",
       "</div>"
      ],
      "text/plain": [
       "             budget             id   popularity       revenue      runtime  \\\n",
       "count  4.803000e+03    4803.000000  4803.000000  4.803000e+03  4801.000000   \n",
       "mean   2.904504e+07   57165.484281    21.492301  8.226064e+07   106.875859   \n",
       "std    4.072239e+07   88694.614033    31.816650  1.628571e+08    22.611935   \n",
       "min    0.000000e+00       5.000000     0.000000  0.000000e+00     0.000000   \n",
       "25%    7.900000e+05    9014.500000     4.668070  0.000000e+00    94.000000   \n",
       "50%    1.500000e+07   14629.000000    12.921594  1.917000e+07   103.000000   \n",
       "75%    4.000000e+07   58610.500000    28.313505  9.291719e+07   118.000000   \n",
       "max    3.800000e+08  459488.000000   875.581305  2.787965e+09   338.000000   \n",
       "\n",
       "       vote_average    vote_count  \n",
       "count   4803.000000   4803.000000  \n",
       "mean       6.092172    690.217989  \n",
       "std        1.194612   1234.585891  \n",
       "min        0.000000      0.000000  \n",
       "25%        5.600000     54.000000  \n",
       "50%        6.200000    235.000000  \n",
       "75%        6.800000    737.000000  \n",
       "max       10.000000  13752.000000  "
      ]
     },
     "execution_count": 8,
     "metadata": {},
     "output_type": "execute_result"
    }
   ],
   "source": [
    "df2.describe()"
   ]
  },
  {
   "cell_type": "code",
   "execution_count": 9,
   "metadata": {},
   "outputs": [
    {
     "data": {
      "text/plain": [
       "Index(['budget', 'genres', 'homepage', 'id', 'keywords', 'original_language',\n",
       "       'original_title', 'overview', 'popularity', 'production_companies',\n",
       "       'production_countries', 'release_date', 'revenue', 'runtime',\n",
       "       'spoken_languages', 'status', 'tagline', 'title', 'vote_average',\n",
       "       'vote_count'],\n",
       "      dtype='object')"
      ]
     },
     "execution_count": 9,
     "metadata": {},
     "output_type": "execute_result"
    }
   ],
   "source": [
    "df2.columns"
   ]
  },
  {
   "cell_type": "code",
   "execution_count": 10,
   "metadata": {},
   "outputs": [
    {
     "data": {
      "text/plain": [
       "Index(['id', 'title', 'cast', 'crew'], dtype='object')"
      ]
     },
     "execution_count": 10,
     "metadata": {},
     "output_type": "execute_result"
    }
   ],
   "source": [
    "df1.columns = ['id', 'title', 'cast', 'crew']\n",
    "df1.columns"
   ]
  },
  {
   "cell_type": "markdown",
   "metadata": {},
   "source": [
    "**Observations:**\n",
    "- We have **id coloumn** same in **df1 and df2** hence we will use **one id column** while merging "
   ]
  },
  {
   "cell_type": "code",
   "execution_count": 11,
   "metadata": {},
   "outputs": [],
   "source": [
    "df2 = df2.merge(df1,on='id')"
   ]
  },
  {
   "cell_type": "code",
   "execution_count": 12,
   "metadata": {},
   "outputs": [
    {
     "data": {
      "text/plain": [
       "(4803, 23)"
      ]
     },
     "execution_count": 12,
     "metadata": {},
     "output_type": "execute_result"
    }
   ],
   "source": [
    "df2.shape"
   ]
  },
  {
   "cell_type": "markdown",
   "metadata": {},
   "source": [
    "**Observations:**\n",
    " - **Before merging** we have **4** coloumns in **df1** and **20** coloumns in **df2.**\n",
    " - **After merging** we have altogether **23 columns.**"
   ]
  },
  {
   "cell_type": "code",
   "execution_count": 13,
   "metadata": {},
   "outputs": [
    {
     "data": {
      "text/html": [
       "<div>\n",
       "<style scoped>\n",
       "    .dataframe tbody tr th:only-of-type {\n",
       "        vertical-align: middle;\n",
       "    }\n",
       "\n",
       "    .dataframe tbody tr th {\n",
       "        vertical-align: top;\n",
       "    }\n",
       "\n",
       "    .dataframe thead th {\n",
       "        text-align: right;\n",
       "    }\n",
       "</style>\n",
       "<table border=\"1\" class=\"dataframe\">\n",
       "  <thead>\n",
       "    <tr style=\"text-align: right;\">\n",
       "      <th></th>\n",
       "      <th>budget</th>\n",
       "      <th>genres</th>\n",
       "      <th>homepage</th>\n",
       "      <th>id</th>\n",
       "      <th>keywords</th>\n",
       "      <th>original_language</th>\n",
       "      <th>original_title</th>\n",
       "      <th>overview</th>\n",
       "      <th>popularity</th>\n",
       "      <th>production_companies</th>\n",
       "      <th>...</th>\n",
       "      <th>runtime</th>\n",
       "      <th>spoken_languages</th>\n",
       "      <th>status</th>\n",
       "      <th>tagline</th>\n",
       "      <th>title_x</th>\n",
       "      <th>vote_average</th>\n",
       "      <th>vote_count</th>\n",
       "      <th>title_y</th>\n",
       "      <th>cast</th>\n",
       "      <th>crew</th>\n",
       "    </tr>\n",
       "  </thead>\n",
       "  <tbody>\n",
       "    <tr>\n",
       "      <th>0</th>\n",
       "      <td>237000000</td>\n",
       "      <td>[{\"id\": 28, \"name\": \"Action\"}, {\"id\": 12, \"nam...</td>\n",
       "      <td>http://www.avatarmovie.com/</td>\n",
       "      <td>19995</td>\n",
       "      <td>[{\"id\": 1463, \"name\": \"culture clash\"}, {\"id\":...</td>\n",
       "      <td>en</td>\n",
       "      <td>Avatar</td>\n",
       "      <td>In the 22nd century, a paraplegic Marine is di...</td>\n",
       "      <td>150.437577</td>\n",
       "      <td>[{\"name\": \"Ingenious Film Partners\", \"id\": 289...</td>\n",
       "      <td>...</td>\n",
       "      <td>162.0</td>\n",
       "      <td>[{\"iso_639_1\": \"en\", \"name\": \"English\"}, {\"iso...</td>\n",
       "      <td>Released</td>\n",
       "      <td>Enter the World of Pandora.</td>\n",
       "      <td>Avatar</td>\n",
       "      <td>7.2</td>\n",
       "      <td>11800</td>\n",
       "      <td>Avatar</td>\n",
       "      <td>[{\"cast_id\": 242, \"character\": \"Jake Sully\", \"...</td>\n",
       "      <td>[{\"credit_id\": \"52fe48009251416c750aca23\", \"de...</td>\n",
       "    </tr>\n",
       "    <tr>\n",
       "      <th>1</th>\n",
       "      <td>300000000</td>\n",
       "      <td>[{\"id\": 12, \"name\": \"Adventure\"}, {\"id\": 14, \"...</td>\n",
       "      <td>http://disney.go.com/disneypictures/pirates/</td>\n",
       "      <td>285</td>\n",
       "      <td>[{\"id\": 270, \"name\": \"ocean\"}, {\"id\": 726, \"na...</td>\n",
       "      <td>en</td>\n",
       "      <td>Pirates of the Caribbean: At World's End</td>\n",
       "      <td>Captain Barbossa, long believed to be dead, ha...</td>\n",
       "      <td>139.082615</td>\n",
       "      <td>[{\"name\": \"Walt Disney Pictures\", \"id\": 2}, {\"...</td>\n",
       "      <td>...</td>\n",
       "      <td>169.0</td>\n",
       "      <td>[{\"iso_639_1\": \"en\", \"name\": \"English\"}]</td>\n",
       "      <td>Released</td>\n",
       "      <td>At the end of the world, the adventure begins.</td>\n",
       "      <td>Pirates of the Caribbean: At World's End</td>\n",
       "      <td>6.9</td>\n",
       "      <td>4500</td>\n",
       "      <td>Pirates of the Caribbean: At World's End</td>\n",
       "      <td>[{\"cast_id\": 4, \"character\": \"Captain Jack Spa...</td>\n",
       "      <td>[{\"credit_id\": \"52fe4232c3a36847f800b579\", \"de...</td>\n",
       "    </tr>\n",
       "  </tbody>\n",
       "</table>\n",
       "<p>2 rows × 23 columns</p>\n",
       "</div>"
      ],
      "text/plain": [
       "      budget                                             genres  \\\n",
       "0  237000000  [{\"id\": 28, \"name\": \"Action\"}, {\"id\": 12, \"nam...   \n",
       "1  300000000  [{\"id\": 12, \"name\": \"Adventure\"}, {\"id\": 14, \"...   \n",
       "\n",
       "                                       homepage     id  \\\n",
       "0                   http://www.avatarmovie.com/  19995   \n",
       "1  http://disney.go.com/disneypictures/pirates/    285   \n",
       "\n",
       "                                            keywords original_language  \\\n",
       "0  [{\"id\": 1463, \"name\": \"culture clash\"}, {\"id\":...                en   \n",
       "1  [{\"id\": 270, \"name\": \"ocean\"}, {\"id\": 726, \"na...                en   \n",
       "\n",
       "                             original_title  \\\n",
       "0                                    Avatar   \n",
       "1  Pirates of the Caribbean: At World's End   \n",
       "\n",
       "                                            overview  popularity  \\\n",
       "0  In the 22nd century, a paraplegic Marine is di...  150.437577   \n",
       "1  Captain Barbossa, long believed to be dead, ha...  139.082615   \n",
       "\n",
       "                                production_companies  ... runtime  \\\n",
       "0  [{\"name\": \"Ingenious Film Partners\", \"id\": 289...  ...   162.0   \n",
       "1  [{\"name\": \"Walt Disney Pictures\", \"id\": 2}, {\"...  ...   169.0   \n",
       "\n",
       "                                    spoken_languages    status  \\\n",
       "0  [{\"iso_639_1\": \"en\", \"name\": \"English\"}, {\"iso...  Released   \n",
       "1           [{\"iso_639_1\": \"en\", \"name\": \"English\"}]  Released   \n",
       "\n",
       "                                          tagline  \\\n",
       "0                     Enter the World of Pandora.   \n",
       "1  At the end of the world, the adventure begins.   \n",
       "\n",
       "                                    title_x vote_average vote_count  \\\n",
       "0                                    Avatar          7.2      11800   \n",
       "1  Pirates of the Caribbean: At World's End          6.9       4500   \n",
       "\n",
       "                                    title_y  \\\n",
       "0                                    Avatar   \n",
       "1  Pirates of the Caribbean: At World's End   \n",
       "\n",
       "                                                cast  \\\n",
       "0  [{\"cast_id\": 242, \"character\": \"Jake Sully\", \"...   \n",
       "1  [{\"cast_id\": 4, \"character\": \"Captain Jack Spa...   \n",
       "\n",
       "                                                crew  \n",
       "0  [{\"credit_id\": \"52fe48009251416c750aca23\", \"de...  \n",
       "1  [{\"credit_id\": \"52fe4232c3a36847f800b579\", \"de...  \n",
       "\n",
       "[2 rows x 23 columns]"
      ]
     },
     "execution_count": 13,
     "metadata": {},
     "output_type": "execute_result"
    }
   ],
   "source": [
    "df2.head(2)"
   ]
  },
  {
   "cell_type": "markdown",
   "metadata": {},
   "source": [
    "## 5.  Preprosessing"
   ]
  },
  {
   "cell_type": "code",
   "execution_count": 14,
   "metadata": {},
   "outputs": [
    {
     "data": {
      "text/plain": [
       "budget                     0\n",
       "genres                     0\n",
       "homepage                3091\n",
       "id                         0\n",
       "keywords                   0\n",
       "original_language          0\n",
       "original_title             0\n",
       "overview                   3\n",
       "popularity                 0\n",
       "production_companies       0\n",
       "production_countries       0\n",
       "release_date               1\n",
       "revenue                    0\n",
       "runtime                    2\n",
       "spoken_languages           0\n",
       "status                     0\n",
       "tagline                  844\n",
       "title_x                    0\n",
       "vote_average               0\n",
       "vote_count                 0\n",
       "title_y                    0\n",
       "cast                       0\n",
       "crew                       0\n",
       "dtype: int64"
      ]
     },
     "execution_count": 14,
     "metadata": {},
     "output_type": "execute_result"
    }
   ],
   "source": [
    "df2.isnull().sum()"
   ]
  },
  {
   "cell_type": "markdown",
   "metadata": {},
   "source": [
    "**Observations:**\n",
    "- We observe that **homepage** and **tagline** consists of many null values"
   ]
  },
  {
   "cell_type": "code",
   "execution_count": 15,
   "metadata": {},
   "outputs": [],
   "source": [
    "df2.drop(['homepage','tagline',\"id\"],axis=1,inplace=True)"
   ]
  },
  {
   "cell_type": "markdown",
   "metadata": {},
   "source": [
    "**Observations:**\n",
    "- We will drop **homepage, tagline** and **id column.** "
   ]
  },
  {
   "cell_type": "code",
   "execution_count": 16,
   "metadata": {},
   "outputs": [
    {
     "data": {
      "text/plain": [
       "(4803, 20)"
      ]
     },
     "execution_count": 16,
     "metadata": {},
     "output_type": "execute_result"
    }
   ],
   "source": [
    "df2.shape"
   ]
  },
  {
   "cell_type": "code",
   "execution_count": 17,
   "metadata": {},
   "outputs": [
    {
     "data": {
      "text/html": [
       "<div>\n",
       "<style scoped>\n",
       "    .dataframe tbody tr th:only-of-type {\n",
       "        vertical-align: middle;\n",
       "    }\n",
       "\n",
       "    .dataframe tbody tr th {\n",
       "        vertical-align: top;\n",
       "    }\n",
       "\n",
       "    .dataframe thead th {\n",
       "        text-align: right;\n",
       "    }\n",
       "</style>\n",
       "<table border=\"1\" class=\"dataframe\">\n",
       "  <thead>\n",
       "    <tr style=\"text-align: right;\">\n",
       "      <th></th>\n",
       "      <th>budget</th>\n",
       "      <th>genres</th>\n",
       "      <th>keywords</th>\n",
       "      <th>original_language</th>\n",
       "      <th>original_title</th>\n",
       "      <th>overview</th>\n",
       "      <th>popularity</th>\n",
       "      <th>production_companies</th>\n",
       "      <th>production_countries</th>\n",
       "      <th>release_date</th>\n",
       "      <th>revenue</th>\n",
       "      <th>runtime</th>\n",
       "      <th>spoken_languages</th>\n",
       "      <th>status</th>\n",
       "      <th>title_x</th>\n",
       "      <th>vote_average</th>\n",
       "      <th>vote_count</th>\n",
       "      <th>title_y</th>\n",
       "      <th>cast</th>\n",
       "      <th>crew</th>\n",
       "    </tr>\n",
       "  </thead>\n",
       "  <tbody>\n",
       "    <tr>\n",
       "      <th>0</th>\n",
       "      <td>237000000</td>\n",
       "      <td>[{\"id\": 28, \"name\": \"Action\"}, {\"id\": 12, \"nam...</td>\n",
       "      <td>[{\"id\": 1463, \"name\": \"culture clash\"}, {\"id\":...</td>\n",
       "      <td>en</td>\n",
       "      <td>Avatar</td>\n",
       "      <td>In the 22nd century, a paraplegic Marine is di...</td>\n",
       "      <td>150.437577</td>\n",
       "      <td>[{\"name\": \"Ingenious Film Partners\", \"id\": 289...</td>\n",
       "      <td>[{\"iso_3166_1\": \"US\", \"name\": \"United States o...</td>\n",
       "      <td>2009-12-10</td>\n",
       "      <td>2787965087</td>\n",
       "      <td>162.0</td>\n",
       "      <td>[{\"iso_639_1\": \"en\", \"name\": \"English\"}, {\"iso...</td>\n",
       "      <td>Released</td>\n",
       "      <td>Avatar</td>\n",
       "      <td>7.2</td>\n",
       "      <td>11800</td>\n",
       "      <td>Avatar</td>\n",
       "      <td>[{\"cast_id\": 242, \"character\": \"Jake Sully\", \"...</td>\n",
       "      <td>[{\"credit_id\": \"52fe48009251416c750aca23\", \"de...</td>\n",
       "    </tr>\n",
       "    <tr>\n",
       "      <th>1</th>\n",
       "      <td>300000000</td>\n",
       "      <td>[{\"id\": 12, \"name\": \"Adventure\"}, {\"id\": 14, \"...</td>\n",
       "      <td>[{\"id\": 270, \"name\": \"ocean\"}, {\"id\": 726, \"na...</td>\n",
       "      <td>en</td>\n",
       "      <td>Pirates of the Caribbean: At World's End</td>\n",
       "      <td>Captain Barbossa, long believed to be dead, ha...</td>\n",
       "      <td>139.082615</td>\n",
       "      <td>[{\"name\": \"Walt Disney Pictures\", \"id\": 2}, {\"...</td>\n",
       "      <td>[{\"iso_3166_1\": \"US\", \"name\": \"United States o...</td>\n",
       "      <td>2007-05-19</td>\n",
       "      <td>961000000</td>\n",
       "      <td>169.0</td>\n",
       "      <td>[{\"iso_639_1\": \"en\", \"name\": \"English\"}]</td>\n",
       "      <td>Released</td>\n",
       "      <td>Pirates of the Caribbean: At World's End</td>\n",
       "      <td>6.9</td>\n",
       "      <td>4500</td>\n",
       "      <td>Pirates of the Caribbean: At World's End</td>\n",
       "      <td>[{\"cast_id\": 4, \"character\": \"Captain Jack Spa...</td>\n",
       "      <td>[{\"credit_id\": \"52fe4232c3a36847f800b579\", \"de...</td>\n",
       "    </tr>\n",
       "  </tbody>\n",
       "</table>\n",
       "</div>"
      ],
      "text/plain": [
       "      budget                                             genres  \\\n",
       "0  237000000  [{\"id\": 28, \"name\": \"Action\"}, {\"id\": 12, \"nam...   \n",
       "1  300000000  [{\"id\": 12, \"name\": \"Adventure\"}, {\"id\": 14, \"...   \n",
       "\n",
       "                                            keywords original_language  \\\n",
       "0  [{\"id\": 1463, \"name\": \"culture clash\"}, {\"id\":...                en   \n",
       "1  [{\"id\": 270, \"name\": \"ocean\"}, {\"id\": 726, \"na...                en   \n",
       "\n",
       "                             original_title  \\\n",
       "0                                    Avatar   \n",
       "1  Pirates of the Caribbean: At World's End   \n",
       "\n",
       "                                            overview  popularity  \\\n",
       "0  In the 22nd century, a paraplegic Marine is di...  150.437577   \n",
       "1  Captain Barbossa, long believed to be dead, ha...  139.082615   \n",
       "\n",
       "                                production_companies  \\\n",
       "0  [{\"name\": \"Ingenious Film Partners\", \"id\": 289...   \n",
       "1  [{\"name\": \"Walt Disney Pictures\", \"id\": 2}, {\"...   \n",
       "\n",
       "                                production_countries release_date     revenue  \\\n",
       "0  [{\"iso_3166_1\": \"US\", \"name\": \"United States o...   2009-12-10  2787965087   \n",
       "1  [{\"iso_3166_1\": \"US\", \"name\": \"United States o...   2007-05-19   961000000   \n",
       "\n",
       "   runtime                                   spoken_languages    status  \\\n",
       "0    162.0  [{\"iso_639_1\": \"en\", \"name\": \"English\"}, {\"iso...  Released   \n",
       "1    169.0           [{\"iso_639_1\": \"en\", \"name\": \"English\"}]  Released   \n",
       "\n",
       "                                    title_x  vote_average  vote_count  \\\n",
       "0                                    Avatar           7.2       11800   \n",
       "1  Pirates of the Caribbean: At World's End           6.9        4500   \n",
       "\n",
       "                                    title_y  \\\n",
       "0                                    Avatar   \n",
       "1  Pirates of the Caribbean: At World's End   \n",
       "\n",
       "                                                cast  \\\n",
       "0  [{\"cast_id\": 242, \"character\": \"Jake Sully\", \"...   \n",
       "1  [{\"cast_id\": 4, \"character\": \"Captain Jack Spa...   \n",
       "\n",
       "                                                crew  \n",
       "0  [{\"credit_id\": \"52fe48009251416c750aca23\", \"de...  \n",
       "1  [{\"credit_id\": \"52fe4232c3a36847f800b579\", \"de...  "
      ]
     },
     "execution_count": 17,
     "metadata": {},
     "output_type": "execute_result"
    }
   ],
   "source": [
    "df2.head(2)"
   ]
  },
  {
   "cell_type": "code",
   "execution_count": 18,
   "metadata": {},
   "outputs": [
    {
     "data": {
      "text/plain": [
       "0"
      ]
     },
     "execution_count": 18,
     "metadata": {},
     "output_type": "execute_result"
    }
   ],
   "source": [
    "df2.duplicated().sum()"
   ]
  },
  {
   "cell_type": "code",
   "execution_count": 19,
   "metadata": {},
   "outputs": [
    {
     "data": {
      "text/plain": [
       "array([[<matplotlib.axes._subplots.AxesSubplot object at 0x0000011B61B5D6A0>,\n",
       "        <matplotlib.axes._subplots.AxesSubplot object at 0x0000011B61BA9B50>],\n",
       "       [<matplotlib.axes._subplots.AxesSubplot object at 0x0000011B61BD6FA0>,\n",
       "        <matplotlib.axes._subplots.AxesSubplot object at 0x0000011B61C11460>],\n",
       "       [<matplotlib.axes._subplots.AxesSubplot object at 0x0000011B61C3C8B0>,\n",
       "        <matplotlib.axes._subplots.AxesSubplot object at 0x0000011B61C68C40>]],\n",
       "      dtype=object)"
      ]
     },
     "execution_count": 19,
     "metadata": {},
     "output_type": "execute_result"
    },
    {
     "data": {
      "image/png": "[encoded data removed]",
      "text/plain": [
       "<Figure size 1296x1152 with 6 Axes>"
      ]
     },
     "metadata": {
      "needs_background": "light"
     },
     "output_type": "display_data"
    }
   ],
   "source": [
    "df2.hist(bins=20,figsize=(18, 16))"
   ]
  },
  {
   "cell_type": "markdown",
   "metadata": {},
   "source": [
    "**Observations:**\n",
    "- Budget and revenue are very high.\n",
    "- Popularity rate is high between 0 to 140.The movies popularity rate between 50 to 120 is very high.\n",
    "- Average vote was high between 5 to 8.\n",
    "- Vote count is high around 1000"
   ]
  },
  {
   "cell_type": "markdown",
   "metadata": {},
   "source": [
    "##  6. EDA"
   ]
  },
  {
   "cell_type": "markdown",
   "metadata": {},
   "source": [
    "### 6.1 What are the average vote given to the movies"
   ]
  },
  {
   "cell_type": "code",
   "execution_count": 20,
   "metadata": {},
   "outputs": [
    {
     "data": {
      "text/plain": [
       "7.0    179\n",
       "6.5    216\n",
       "7.5     66\n",
       "5.5    152\n",
       "6.0    216\n",
       "      ... \n",
       "5.1     60\n",
       "3.4      4\n",
       "4.2     21\n",
       "7.8     36\n",
       "5.9    196\n",
       "Name: vote_average, Length: 71, dtype: int64"
      ]
     },
     "execution_count": 20,
     "metadata": {},
     "output_type": "execute_result"
    }
   ],
   "source": [
    "df2[\"vote_average\"].value_counts(sort=False)"
   ]
  },
  {
   "cell_type": "code",
   "execution_count": 21,
   "metadata": {},
   "outputs": [
    {
     "data": {
      "text/plain": [
       "Text(0.5, 1.0, 'Count plot for Vote')"
      ]
     },
     "execution_count": 21,
     "metadata": {},
     "output_type": "execute_result"
    },
    {
     "data": {
      "image/png": "[encoded data removed]",
      "text/plain": [
       "<Figure size 720x1080 with 1 Axes>"
      ]
     },
     "metadata": {
      "needs_background": "light"
     },
     "output_type": "display_data"
    }
   ],
   "source": [
    "countplt, ax = plt.subplots(figsize = (10,15))\n",
    "sns.countplot(y='vote_average', data=df2).set_title('Count plot for Vote')"
   ]
  },
  {
   "cell_type": "markdown",
   "metadata": {},
   "source": [
    "**Observations:**\n",
    "\n",
    "On an average **6 to 6.5 votes** given for the movie."
   ]
  },
  {
   "cell_type": "markdown",
   "metadata": {},
   "source": [
    "### 6.2 What is the Vote Average for specific movies? "
   ]
  },
  {
   "cell_type": "code",
   "execution_count": 22,
   "metadata": {},
   "outputs": [
    {
     "data": {
      "text/plain": [
       "count       4803\n",
       "unique      4801\n",
       "top       Batman\n",
       "freq           2\n",
       "Name: original_title, dtype: object"
      ]
     },
     "execution_count": 22,
     "metadata": {},
     "output_type": "execute_result"
    }
   ],
   "source": [
    "df2[\"original_title\"].describe()"
   ]
  },
  {
   "cell_type": "code",
   "execution_count": 23,
   "metadata": {},
   "outputs": [
    {
     "data": {
      "text/html": [
       "<div>\n",
       "<style scoped>\n",
       "    .dataframe tbody tr th:only-of-type {\n",
       "        vertical-align: middle;\n",
       "    }\n",
       "\n",
       "    .dataframe tbody tr th {\n",
       "        vertical-align: top;\n",
       "    }\n",
       "\n",
       "    .dataframe thead th {\n",
       "        text-align: right;\n",
       "    }\n",
       "</style>\n",
       "<table border=\"1\" class=\"dataframe\">\n",
       "  <thead>\n",
       "    <tr style=\"text-align: right;\">\n",
       "      <th></th>\n",
       "      <th>vote_average</th>\n",
       "    </tr>\n",
       "    <tr>\n",
       "      <th>original_title</th>\n",
       "      <th></th>\n",
       "    </tr>\n",
       "  </thead>\n",
       "  <tbody>\n",
       "    <tr>\n",
       "      <th>Batman</th>\n",
       "      <td>13.1</td>\n",
       "    </tr>\n",
       "    <tr>\n",
       "      <th>Out of the Blue</th>\n",
       "      <td>12.4</td>\n",
       "    </tr>\n",
       "    <tr>\n",
       "      <th>Dancer, Texas Pop. 81</th>\n",
       "      <td>10.0</td>\n",
       "    </tr>\n",
       "    <tr>\n",
       "      <th>Little Big Top</th>\n",
       "      <td>10.0</td>\n",
       "    </tr>\n",
       "    <tr>\n",
       "      <th>Me You and Five Bucks</th>\n",
       "      <td>10.0</td>\n",
       "    </tr>\n",
       "    <tr>\n",
       "      <th>Stiff Upper Lips</th>\n",
       "      <td>10.0</td>\n",
       "    </tr>\n",
       "    <tr>\n",
       "      <th>Sardaarji</th>\n",
       "      <td>9.5</td>\n",
       "    </tr>\n",
       "    <tr>\n",
       "      <th>One Man's Hero</th>\n",
       "      <td>9.3</td>\n",
       "    </tr>\n",
       "    <tr>\n",
       "      <th>The Shawshank Redemption</th>\n",
       "      <td>8.5</td>\n",
       "    </tr>\n",
       "    <tr>\n",
       "      <th>There Goes My Baby</th>\n",
       "      <td>8.5</td>\n",
       "    </tr>\n",
       "  </tbody>\n",
       "</table>\n",
       "</div>"
      ],
      "text/plain": [
       "                          vote_average\n",
       "original_title                        \n",
       "Batman                            13.1\n",
       "Out of the Blue                   12.4\n",
       "Dancer, Texas Pop. 81             10.0\n",
       "Little Big Top                    10.0\n",
       "Me You and Five Bucks             10.0\n",
       "Stiff Upper Lips                  10.0\n",
       "Sardaarji                          9.5\n",
       "One Man's Hero                     9.3\n",
       "The Shawshank Redemption           8.5\n",
       "There Goes My Baby                 8.5"
      ]
     },
     "execution_count": 23,
     "metadata": {},
     "output_type": "execute_result"
    }
   ],
   "source": [
    "vote=df2.groupby(\"original_title\").agg({\n",
    "    \"vote_average\" : \"sum\"\n",
    "}).sort_values('vote_average',ascending=False)[:10]\n",
    "\n",
    "vote.head(10)"
   ]
  },
  {
   "cell_type": "markdown",
   "metadata": {},
   "source": [
    "**Observations:**\n",
    "- We see that **Batman** has **maximum** Vote Average."
   ]
  },
  {
   "cell_type": "markdown",
   "metadata": {},
   "source": [
    "**Its Visualisation:**"
   ]
  },
  {
   "cell_type": "code",
   "execution_count": 24,
   "metadata": {},
   "outputs": [
    {
     "data": {
      "image/png": "[encoded data removed]",
      "text/plain": [
       "<Figure size 432x288 with 1 Axes>"
      ]
     },
     "metadata": {
      "needs_background": "light"
     },
     "output_type": "display_data"
    }
   ],
   "source": [
    "vote.plot(kind =\"bar\")\n",
    "plt.ylabel(\"vote_average\")\n",
    "plt.show()"
   ]
  },
  {
   "cell_type": "markdown",
   "metadata": {},
   "source": [
    "**Observations:** \n",
    "\n",
    "- We can see that **Batman** is having **highest vote** amoung the others"
   ]
  },
  {
   "cell_type": "markdown",
   "metadata": {},
   "source": [
    "### 6.3 How is the status of the movie dependent on title of the movie?"
   ]
  },
  {
   "cell_type": "code",
   "execution_count": 25,
   "metadata": {},
   "outputs": [
    {
     "data": {
      "text/plain": [
       "count         4803\n",
       "unique           3\n",
       "top       Released\n",
       "freq          4795\n",
       "Name: status, dtype: object"
      ]
     },
     "execution_count": 25,
     "metadata": {},
     "output_type": "execute_result"
    }
   ],
   "source": [
    "df2[\"status\"].describe()"
   ]
  },
  {
   "cell_type": "markdown",
   "metadata": {},
   "source": [
    "**Observations:**\n",
    "- We have 3 unique values "
   ]
  },
  {
   "cell_type": "code",
   "execution_count": 26,
   "metadata": {},
   "outputs": [
    {
     "data": {
      "text/html": [
       "<div>\n",
       "<style scoped>\n",
       "    .dataframe tbody tr th:only-of-type {\n",
       "        vertical-align: middle;\n",
       "    }\n",
       "\n",
       "    .dataframe tbody tr th {\n",
       "        vertical-align: top;\n",
       "    }\n",
       "\n",
       "    .dataframe thead th {\n",
       "        text-align: right;\n",
       "    }\n",
       "</style>\n",
       "<table border=\"1\" class=\"dataframe\">\n",
       "  <thead>\n",
       "    <tr style=\"text-align: right;\">\n",
       "      <th></th>\n",
       "      <th>Post Production</th>\n",
       "      <th>Released</th>\n",
       "      <th>Rumored</th>\n",
       "    </tr>\n",
       "  </thead>\n",
       "  <tbody>\n",
       "    <tr>\n",
       "      <th>0</th>\n",
       "      <td>0</td>\n",
       "      <td>1</td>\n",
       "      <td>0</td>\n",
       "    </tr>\n",
       "    <tr>\n",
       "      <th>1</th>\n",
       "      <td>0</td>\n",
       "      <td>1</td>\n",
       "      <td>0</td>\n",
       "    </tr>\n",
       "    <tr>\n",
       "      <th>2</th>\n",
       "      <td>0</td>\n",
       "      <td>1</td>\n",
       "      <td>0</td>\n",
       "    </tr>\n",
       "    <tr>\n",
       "      <th>3</th>\n",
       "      <td>0</td>\n",
       "      <td>1</td>\n",
       "      <td>0</td>\n",
       "    </tr>\n",
       "    <tr>\n",
       "      <th>4</th>\n",
       "      <td>0</td>\n",
       "      <td>1</td>\n",
       "      <td>0</td>\n",
       "    </tr>\n",
       "    <tr>\n",
       "      <th>...</th>\n",
       "      <td>...</td>\n",
       "      <td>...</td>\n",
       "      <td>...</td>\n",
       "    </tr>\n",
       "    <tr>\n",
       "      <th>4798</th>\n",
       "      <td>0</td>\n",
       "      <td>1</td>\n",
       "      <td>0</td>\n",
       "    </tr>\n",
       "    <tr>\n",
       "      <th>4799</th>\n",
       "      <td>0</td>\n",
       "      <td>1</td>\n",
       "      <td>0</td>\n",
       "    </tr>\n",
       "    <tr>\n",
       "      <th>4800</th>\n",
       "      <td>0</td>\n",
       "      <td>1</td>\n",
       "      <td>0</td>\n",
       "    </tr>\n",
       "    <tr>\n",
       "      <th>4801</th>\n",
       "      <td>0</td>\n",
       "      <td>1</td>\n",
       "      <td>0</td>\n",
       "    </tr>\n",
       "    <tr>\n",
       "      <th>4802</th>\n",
       "      <td>0</td>\n",
       "      <td>1</td>\n",
       "      <td>0</td>\n",
       "    </tr>\n",
       "  </tbody>\n",
       "</table>\n",
       "<p>4803 rows × 3 columns</p>\n",
       "</div>"
      ],
      "text/plain": [
       "      Post Production  Released  Rumored\n",
       "0                   0         1        0\n",
       "1                   0         1        0\n",
       "2                   0         1        0\n",
       "3                   0         1        0\n",
       "4                   0         1        0\n",
       "...               ...       ...      ...\n",
       "4798                0         1        0\n",
       "4799                0         1        0\n",
       "4800                0         1        0\n",
       "4801                0         1        0\n",
       "4802                0         1        0\n",
       "\n",
       "[4803 rows x 3 columns]"
      ]
     },
     "execution_count": 26,
     "metadata": {},
     "output_type": "execute_result"
    }
   ],
   "source": [
    "status=pd.get_dummies(df2['status'])\n",
    "status"
   ]
  },
  {
   "cell_type": "markdown",
   "metadata": {},
   "source": [
    "**Observations:**\n",
    "- We have **3 coloumns** in status  **1.Post Production  2.Released  3.Rumored.**\n"
   ]
  },
  {
   "cell_type": "code",
   "execution_count": 27,
   "metadata": {},
   "outputs": [],
   "source": [
    "df2=pd.concat([df2 , status], axis=1)"
   ]
  },
  {
   "cell_type": "code",
   "execution_count": 28,
   "metadata": {},
   "outputs": [
    {
     "data": {
      "text/html": [
       "<div>\n",
       "<style scoped>\n",
       "    .dataframe tbody tr th:only-of-type {\n",
       "        vertical-align: middle;\n",
       "    }\n",
       "\n",
       "    .dataframe tbody tr th {\n",
       "        vertical-align: top;\n",
       "    }\n",
       "\n",
       "    .dataframe thead th {\n",
       "        text-align: right;\n",
       "    }\n",
       "</style>\n",
       "<table border=\"1\" class=\"dataframe\">\n",
       "  <thead>\n",
       "    <tr style=\"text-align: right;\">\n",
       "      <th></th>\n",
       "      <th>budget</th>\n",
       "      <th>genres</th>\n",
       "      <th>keywords</th>\n",
       "      <th>original_language</th>\n",
       "      <th>original_title</th>\n",
       "      <th>overview</th>\n",
       "      <th>popularity</th>\n",
       "      <th>production_companies</th>\n",
       "      <th>production_countries</th>\n",
       "      <th>release_date</th>\n",
       "      <th>...</th>\n",
       "      <th>status</th>\n",
       "      <th>title_x</th>\n",
       "      <th>vote_average</th>\n",
       "      <th>vote_count</th>\n",
       "      <th>title_y</th>\n",
       "      <th>cast</th>\n",
       "      <th>crew</th>\n",
       "      <th>Post Production</th>\n",
       "      <th>Released</th>\n",
       "      <th>Rumored</th>\n",
       "    </tr>\n",
       "  </thead>\n",
       "  <tbody>\n",
       "    <tr>\n",
       "      <th>0</th>\n",
       "      <td>237000000</td>\n",
       "      <td>[{\"id\": 28, \"name\": \"Action\"}, {\"id\": 12, \"nam...</td>\n",
       "      <td>[{\"id\": 1463, \"name\": \"culture clash\"}, {\"id\":...</td>\n",
       "      <td>en</td>\n",
       "      <td>Avatar</td>\n",
       "      <td>In the 22nd century, a paraplegic Marine is di...</td>\n",
       "      <td>150.437577</td>\n",
       "      <td>[{\"name\": \"Ingenious Film Partners\", \"id\": 289...</td>\n",
       "      <td>[{\"iso_3166_1\": \"US\", \"name\": \"United States o...</td>\n",
       "      <td>2009-12-10</td>\n",
       "      <td>...</td>\n",
       "      <td>Released</td>\n",
       "      <td>Avatar</td>\n",
       "      <td>7.2</td>\n",
       "      <td>11800</td>\n",
       "      <td>Avatar</td>\n",
       "      <td>[{\"cast_id\": 242, \"character\": \"Jake Sully\", \"...</td>\n",
       "      <td>[{\"credit_id\": \"52fe48009251416c750aca23\", \"de...</td>\n",
       "      <td>0</td>\n",
       "      <td>1</td>\n",
       "      <td>0</td>\n",
       "    </tr>\n",
       "    <tr>\n",
       "      <th>1</th>\n",
       "      <td>300000000</td>\n",
       "      <td>[{\"id\": 12, \"name\": \"Adventure\"}, {\"id\": 14, \"...</td>\n",
       "      <td>[{\"id\": 270, \"name\": \"ocean\"}, {\"id\": 726, \"na...</td>\n",
       "      <td>en</td>\n",
       "      <td>Pirates of the Caribbean: At World's End</td>\n",
       "      <td>Captain Barbossa, long believed to be dead, ha...</td>\n",
       "      <td>139.082615</td>\n",
       "      <td>[{\"name\": \"Walt Disney Pictures\", \"id\": 2}, {\"...</td>\n",
       "      <td>[{\"iso_3166_1\": \"US\", \"name\": \"United States o...</td>\n",
       "      <td>2007-05-19</td>\n",
       "      <td>...</td>\n",
       "      <td>Released</td>\n",
       "      <td>Pirates of the Caribbean: At World's End</td>\n",
       "      <td>6.9</td>\n",
       "      <td>4500</td>\n",
       "      <td>Pirates of the Caribbean: At World's End</td>\n",
       "      <td>[{\"cast_id\": 4, \"character\": \"Captain Jack Spa...</td>\n",
       "      <td>[{\"credit_id\": \"52fe4232c3a36847f800b579\", \"de...</td>\n",
       "      <td>0</td>\n",
       "      <td>1</td>\n",
       "      <td>0</td>\n",
       "    </tr>\n",
       "  </tbody>\n",
       "</table>\n",
       "<p>2 rows × 23 columns</p>\n",
       "</div>"
      ],
      "text/plain": [
       "      budget                                             genres  \\\n",
       "0  237000000  [{\"id\": 28, \"name\": \"Action\"}, {\"id\": 12, \"nam...   \n",
       "1  300000000  [{\"id\": 12, \"name\": \"Adventure\"}, {\"id\": 14, \"...   \n",
       "\n",
       "                                            keywords original_language  \\\n",
       "0  [{\"id\": 1463, \"name\": \"culture clash\"}, {\"id\":...                en   \n",
       "1  [{\"id\": 270, \"name\": \"ocean\"}, {\"id\": 726, \"na...                en   \n",
       "\n",
       "                             original_title  \\\n",
       "0                                    Avatar   \n",
       "1  Pirates of the Caribbean: At World's End   \n",
       "\n",
       "                                            overview  popularity  \\\n",
       "0  In the 22nd century, a paraplegic Marine is di...  150.437577   \n",
       "1  Captain Barbossa, long believed to be dead, ha...  139.082615   \n",
       "\n",
       "                                production_companies  \\\n",
       "0  [{\"name\": \"Ingenious Film Partners\", \"id\": 289...   \n",
       "1  [{\"name\": \"Walt Disney Pictures\", \"id\": 2}, {\"...   \n",
       "\n",
       "                                production_countries release_date  ...  \\\n",
       "0  [{\"iso_3166_1\": \"US\", \"name\": \"United States o...   2009-12-10  ...   \n",
       "1  [{\"iso_3166_1\": \"US\", \"name\": \"United States o...   2007-05-19  ...   \n",
       "\n",
       "     status                                   title_x vote_average vote_count  \\\n",
       "0  Released                                    Avatar          7.2      11800   \n",
       "1  Released  Pirates of the Caribbean: At World's End          6.9       4500   \n",
       "\n",
       "                                    title_y  \\\n",
       "0                                    Avatar   \n",
       "1  Pirates of the Caribbean: At World's End   \n",
       "\n",
       "                                                cast  \\\n",
       "0  [{\"cast_id\": 242, \"character\": \"Jake Sully\", \"...   \n",
       "1  [{\"cast_id\": 4, \"character\": \"Captain Jack Spa...   \n",
       "\n",
       "                                                crew Post Production Released  \\\n",
       "0  [{\"credit_id\": \"52fe48009251416c750aca23\", \"de...               0        1   \n",
       "1  [{\"credit_id\": \"52fe4232c3a36847f800b579\", \"de...               0        1   \n",
       "\n",
       "  Rumored  \n",
       "0       0  \n",
       "1       0  \n",
       "\n",
       "[2 rows x 23 columns]"
      ]
     },
     "execution_count": 28,
     "metadata": {},
     "output_type": "execute_result"
    }
   ],
   "source": [
    "df2.drop([\"status\"],axis=1)\n",
    "df2.head(2)"
   ]
  },
  {
   "cell_type": "code",
   "execution_count": 29,
   "metadata": {},
   "outputs": [
    {
     "data": {
      "text/html": [
       "<div>\n",
       "<style scoped>\n",
       "    .dataframe tbody tr th:only-of-type {\n",
       "        vertical-align: middle;\n",
       "    }\n",
       "\n",
       "    .dataframe tbody tr th {\n",
       "        vertical-align: top;\n",
       "    }\n",
       "\n",
       "    .dataframe thead th {\n",
       "        text-align: right;\n",
       "    }\n",
       "</style>\n",
       "<table border=\"1\" class=\"dataframe\">\n",
       "  <thead>\n",
       "    <tr style=\"text-align: right;\">\n",
       "      <th></th>\n",
       "      <th>Released</th>\n",
       "    </tr>\n",
       "    <tr>\n",
       "      <th>original_title</th>\n",
       "      <th></th>\n",
       "    </tr>\n",
       "  </thead>\n",
       "  <tbody>\n",
       "    <tr>\n",
       "      <th>Batman</th>\n",
       "      <td>2</td>\n",
       "    </tr>\n",
       "    <tr>\n",
       "      <th>Out of the Blue</th>\n",
       "      <td>2</td>\n",
       "    </tr>\n",
       "    <tr>\n",
       "      <th>#Horror</th>\n",
       "      <td>1</td>\n",
       "    </tr>\n",
       "    <tr>\n",
       "      <th>Spider</th>\n",
       "      <td>1</td>\n",
       "    </tr>\n",
       "    <tr>\n",
       "      <th>Splice</th>\n",
       "      <td>1</td>\n",
       "    </tr>\n",
       "    <tr>\n",
       "      <th>Splash</th>\n",
       "      <td>1</td>\n",
       "    </tr>\n",
       "    <tr>\n",
       "      <th>Spirit: Stallion of the Cimarron</th>\n",
       "      <td>1</td>\n",
       "    </tr>\n",
       "    <tr>\n",
       "      <th>Spider-Man 3</th>\n",
       "      <td>1</td>\n",
       "    </tr>\n",
       "    <tr>\n",
       "      <th>Spider-Man 2</th>\n",
       "      <td>1</td>\n",
       "    </tr>\n",
       "    <tr>\n",
       "      <th>Spider-Man</th>\n",
       "      <td>1</td>\n",
       "    </tr>\n",
       "  </tbody>\n",
       "</table>\n",
       "</div>"
      ],
      "text/plain": [
       "                                  Released\n",
       "original_title                            \n",
       "Batman                                   2\n",
       "Out of the Blue                          2\n",
       "#Horror                                  1\n",
       "Spider                                   1\n",
       "Splice                                   1\n",
       "Splash                                   1\n",
       "Spirit: Stallion of the Cimarron         1\n",
       "Spider-Man 3                             1\n",
       "Spider-Man 2                             1\n",
       "Spider-Man                               1"
      ]
     },
     "execution_count": 29,
     "metadata": {},
     "output_type": "execute_result"
    }
   ],
   "source": [
    "release=df2.groupby(\"original_title\").agg({\n",
    "    \"Released\" : \"sum\"\n",
    "}).sort_values('Released',ascending=False)[:10]\n",
    "\n",
    "release.head(10)"
   ]
  },
  {
   "cell_type": "markdown",
   "metadata": {},
   "source": [
    "**Its Visualisation:**"
   ]
  },
  {
   "cell_type": "code",
   "execution_count": 30,
   "metadata": {},
   "outputs": [
    {
     "data": {
      "image/png": "[encoded data removed]",
      "text/plain": [
       "<Figure size 432x288 with 1 Axes>"
      ]
     },
     "metadata": {
      "needs_background": "light"
     },
     "output_type": "display_data"
    }
   ],
   "source": [
    "release.plot(kind =\"bar\")\n",
    "plt.ylabel(\"Released\")\n",
    "plt.show()"
   ]
  },
  {
   "cell_type": "markdown",
   "metadata": {},
   "source": [
    "**Observations:**\n",
    "- Release rate of **Batman and Out of the Blue** is high than others."
   ]
  },
  {
   "cell_type": "code",
   "execution_count": 31,
   "metadata": {},
   "outputs": [
    {
     "data": {
      "text/html": [
       "<div>\n",
       "<style scoped>\n",
       "    .dataframe tbody tr th:only-of-type {\n",
       "        vertical-align: middle;\n",
       "    }\n",
       "\n",
       "    .dataframe tbody tr th {\n",
       "        vertical-align: top;\n",
       "    }\n",
       "\n",
       "    .dataframe thead th {\n",
       "        text-align: right;\n",
       "    }\n",
       "</style>\n",
       "<table border=\"1\" class=\"dataframe\">\n",
       "  <thead>\n",
       "    <tr style=\"text-align: right;\">\n",
       "      <th></th>\n",
       "      <th>Rumored</th>\n",
       "    </tr>\n",
       "    <tr>\n",
       "      <th>original_title</th>\n",
       "      <th></th>\n",
       "    </tr>\n",
       "  </thead>\n",
       "  <tbody>\n",
       "    <tr>\n",
       "      <th>Little Big Top</th>\n",
       "      <td>1</td>\n",
       "    </tr>\n",
       "    <tr>\n",
       "      <th>Crying with Laughter</th>\n",
       "      <td>1</td>\n",
       "    </tr>\n",
       "    <tr>\n",
       "      <th>The Helix... Loaded</th>\n",
       "      <td>1</td>\n",
       "    </tr>\n",
       "    <tr>\n",
       "      <th>The Harvest (La Cosecha)</th>\n",
       "      <td>1</td>\n",
       "    </tr>\n",
       "    <tr>\n",
       "      <th>The Naked Ape</th>\n",
       "      <td>1</td>\n",
       "    </tr>\n",
       "    <tr>\n",
       "      <th>Sucker Punch</th>\n",
       "      <td>0</td>\n",
       "    </tr>\n",
       "    <tr>\n",
       "      <th>Spectre</th>\n",
       "      <td>0</td>\n",
       "    </tr>\n",
       "    <tr>\n",
       "      <th>Split Second</th>\n",
       "      <td>0</td>\n",
       "    </tr>\n",
       "    <tr>\n",
       "      <th>Splice</th>\n",
       "      <td>0</td>\n",
       "    </tr>\n",
       "    <tr>\n",
       "      <th>Splash</th>\n",
       "      <td>0</td>\n",
       "    </tr>\n",
       "  </tbody>\n",
       "</table>\n",
       "</div>"
      ],
      "text/plain": [
       "                          Rumored\n",
       "original_title                   \n",
       "Little Big Top                  1\n",
       "Crying with Laughter            1\n",
       "The Helix... Loaded             1\n",
       "The Harvest (La Cosecha)        1\n",
       "The Naked Ape                   1\n",
       "Sucker Punch                    0\n",
       "Spectre                         0\n",
       "Split Second                    0\n",
       "Splice                          0\n",
       "Splash                          0"
      ]
     },
     "execution_count": 31,
     "metadata": {},
     "output_type": "execute_result"
    }
   ],
   "source": [
    "Rumored=df2.groupby(\"original_title\").agg({\n",
    "    \"Rumored\" : \"sum\"\n",
    "}).sort_values('Rumored',ascending=False)[:10]\n",
    "\n",
    "Rumored.head(10)"
   ]
  },
  {
   "cell_type": "markdown",
   "metadata": {},
   "source": [
    "**Its Visualisation:**"
   ]
  },
  {
   "cell_type": "code",
   "execution_count": 32,
   "metadata": {},
   "outputs": [
    {
     "data": {
      "image/png": "[encoded data removed]",
      "text/plain": [
       "<Figure size 432x288 with 1 Axes>"
      ]
     },
     "metadata": {
      "needs_background": "light"
     },
     "output_type": "display_data"
    }
   ],
   "source": [
    "Rumored.plot(kind =\"bar\")\n",
    "plt.ylabel(\"Rumored\")\n",
    "plt.show()"
   ]
  },
  {
   "cell_type": "markdown",
   "metadata": {},
   "source": [
    "**Observations:**\n",
    "- **First five** were Rumored and others were not."
   ]
  },
  {
   "cell_type": "markdown",
   "metadata": {},
   "source": [
    "### 6.4 Which movies were more popular?"
   ]
  },
  {
   "cell_type": "code",
   "execution_count": 33,
   "metadata": {},
   "outputs": [
    {
     "data": {
      "text/plain": [
       "count    4803.000000\n",
       "mean       21.492301\n",
       "std        31.816650\n",
       "min         0.000000\n",
       "25%         4.668070\n",
       "50%        12.921594\n",
       "75%        28.313505\n",
       "max       875.581305\n",
       "Name: popularity, dtype: float64"
      ]
     },
     "execution_count": 33,
     "metadata": {},
     "output_type": "execute_result"
    }
   ],
   "source": [
    "df2[\"popularity\"].describe()"
   ]
  },
  {
   "cell_type": "code",
   "execution_count": 34,
   "metadata": {},
   "outputs": [
    {
     "data": {
      "text/html": [
       "<div>\n",
       "<style scoped>\n",
       "    .dataframe tbody tr th:only-of-type {\n",
       "        vertical-align: middle;\n",
       "    }\n",
       "\n",
       "    .dataframe tbody tr th {\n",
       "        vertical-align: top;\n",
       "    }\n",
       "\n",
       "    .dataframe thead th {\n",
       "        text-align: right;\n",
       "    }\n",
       "</style>\n",
       "<table border=\"1\" class=\"dataframe\">\n",
       "  <thead>\n",
       "    <tr style=\"text-align: right;\">\n",
       "      <th></th>\n",
       "      <th>budget</th>\n",
       "      <th>genres</th>\n",
       "      <th>keywords</th>\n",
       "      <th>original_language</th>\n",
       "      <th>original_title</th>\n",
       "      <th>overview</th>\n",
       "      <th>popularity</th>\n",
       "      <th>production_companies</th>\n",
       "      <th>production_countries</th>\n",
       "      <th>release_date</th>\n",
       "      <th>...</th>\n",
       "      <th>status</th>\n",
       "      <th>title_x</th>\n",
       "      <th>vote_average</th>\n",
       "      <th>vote_count</th>\n",
       "      <th>title_y</th>\n",
       "      <th>cast</th>\n",
       "      <th>crew</th>\n",
       "      <th>Post Production</th>\n",
       "      <th>Released</th>\n",
       "      <th>Rumored</th>\n",
       "    </tr>\n",
       "  </thead>\n",
       "  <tbody>\n",
       "    <tr>\n",
       "      <th>0</th>\n",
       "      <td>237000000</td>\n",
       "      <td>[{\"id\": 28, \"name\": \"Action\"}, {\"id\": 12, \"nam...</td>\n",
       "      <td>[{\"id\": 1463, \"name\": \"culture clash\"}, {\"id\":...</td>\n",
       "      <td>en</td>\n",
       "      <td>Avatar</td>\n",
       "      <td>In the 22nd century, a paraplegic Marine is di...</td>\n",
       "      <td>150.437577</td>\n",
       "      <td>[{\"name\": \"Ingenious Film Partners\", \"id\": 289...</td>\n",
       "      <td>[{\"iso_3166_1\": \"US\", \"name\": \"United States o...</td>\n",
       "      <td>2009-12-10</td>\n",
       "      <td>...</td>\n",
       "      <td>Released</td>\n",
       "      <td>Avatar</td>\n",
       "      <td>7.2</td>\n",
       "      <td>11800</td>\n",
       "      <td>Avatar</td>\n",
       "      <td>[{\"cast_id\": 242, \"character\": \"Jake Sully\", \"...</td>\n",
       "      <td>[{\"credit_id\": \"52fe48009251416c750aca23\", \"de...</td>\n",
       "      <td>0</td>\n",
       "      <td>1</td>\n",
       "      <td>0</td>\n",
       "    </tr>\n",
       "    <tr>\n",
       "      <th>1</th>\n",
       "      <td>300000000</td>\n",
       "      <td>[{\"id\": 12, \"name\": \"Adventure\"}, {\"id\": 14, \"...</td>\n",
       "      <td>[{\"id\": 270, \"name\": \"ocean\"}, {\"id\": 726, \"na...</td>\n",
       "      <td>en</td>\n",
       "      <td>Pirates of the Caribbean: At World's End</td>\n",
       "      <td>Captain Barbossa, long believed to be dead, ha...</td>\n",
       "      <td>139.082615</td>\n",
       "      <td>[{\"name\": \"Walt Disney Pictures\", \"id\": 2}, {\"...</td>\n",
       "      <td>[{\"iso_3166_1\": \"US\", \"name\": \"United States o...</td>\n",
       "      <td>2007-05-19</td>\n",
       "      <td>...</td>\n",
       "      <td>Released</td>\n",
       "      <td>Pirates of the Caribbean: At World's End</td>\n",
       "      <td>6.9</td>\n",
       "      <td>4500</td>\n",
       "      <td>Pirates of the Caribbean: At World's End</td>\n",
       "      <td>[{\"cast_id\": 4, \"character\": \"Captain Jack Spa...</td>\n",
       "      <td>[{\"credit_id\": \"52fe4232c3a36847f800b579\", \"de...</td>\n",
       "      <td>0</td>\n",
       "      <td>1</td>\n",
       "      <td>0</td>\n",
       "    </tr>\n",
       "  </tbody>\n",
       "</table>\n",
       "<p>2 rows × 23 columns</p>\n",
       "</div>"
      ],
      "text/plain": [
       "      budget                                             genres  \\\n",
       "0  237000000  [{\"id\": 28, \"name\": \"Action\"}, {\"id\": 12, \"nam...   \n",
       "1  300000000  [{\"id\": 12, \"name\": \"Adventure\"}, {\"id\": 14, \"...   \n",
       "\n",
       "                                            keywords original_language  \\\n",
       "0  [{\"id\": 1463, \"name\": \"culture clash\"}, {\"id\":...                en   \n",
       "1  [{\"id\": 270, \"name\": \"ocean\"}, {\"id\": 726, \"na...                en   \n",
       "\n",
       "                             original_title  \\\n",
       "0                                    Avatar   \n",
       "1  Pirates of the Caribbean: At World's End   \n",
       "\n",
       "                                            overview  popularity  \\\n",
       "0  In the 22nd century, a paraplegic Marine is di...  150.437577   \n",
       "1  Captain Barbossa, long believed to be dead, ha...  139.082615   \n",
       "\n",
       "                                production_companies  \\\n",
       "0  [{\"name\": \"Ingenious Film Partners\", \"id\": 289...   \n",
       "1  [{\"name\": \"Walt Disney Pictures\", \"id\": 2}, {\"...   \n",
       "\n",
       "                                production_countries release_date  ...  \\\n",
       "0  [{\"iso_3166_1\": \"US\", \"name\": \"United States o...   2009-12-10  ...   \n",
       "1  [{\"iso_3166_1\": \"US\", \"name\": \"United States o...   2007-05-19  ...   \n",
       "\n",
       "     status                                   title_x vote_average vote_count  \\\n",
       "0  Released                                    Avatar          7.2      11800   \n",
       "1  Released  Pirates of the Caribbean: At World's End          6.9       4500   \n",
       "\n",
       "                                    title_y  \\\n",
       "0                                    Avatar   \n",
       "1  Pirates of the Caribbean: At World's End   \n",
       "\n",
       "                                                cast  \\\n",
       "0  [{\"cast_id\": 242, \"character\": \"Jake Sully\", \"...   \n",
       "1  [{\"cast_id\": 4, \"character\": \"Captain Jack Spa...   \n",
       "\n",
       "                                                crew Post Production Released  \\\n",
       "0  [{\"credit_id\": \"52fe48009251416c750aca23\", \"de...               0        1   \n",
       "1  [{\"credit_id\": \"52fe4232c3a36847f800b579\", \"de...               0        1   \n",
       "\n",
       "  Rumored  \n",
       "0       0  \n",
       "1       0  \n",
       "\n",
       "[2 rows x 23 columns]"
      ]
     },
     "execution_count": 34,
     "metadata": {},
     "output_type": "execute_result"
    }
   ],
   "source": [
    "df2.head(2)"
   ]
  },
  {
   "cell_type": "code",
   "execution_count": 35,
   "metadata": {},
   "outputs": [
    {
     "data": {
      "text/html": [
       "<div>\n",
       "<style scoped>\n",
       "    .dataframe tbody tr th:only-of-type {\n",
       "        vertical-align: middle;\n",
       "    }\n",
       "\n",
       "    .dataframe tbody tr th {\n",
       "        vertical-align: top;\n",
       "    }\n",
       "\n",
       "    .dataframe thead th {\n",
       "        text-align: right;\n",
       "    }\n",
       "</style>\n",
       "<table border=\"1\" class=\"dataframe\">\n",
       "  <thead>\n",
       "    <tr style=\"text-align: right;\">\n",
       "      <th></th>\n",
       "      <th>popularity</th>\n",
       "    </tr>\n",
       "    <tr>\n",
       "      <th>original_title</th>\n",
       "      <th></th>\n",
       "    </tr>\n",
       "  </thead>\n",
       "  <tbody>\n",
       "    <tr>\n",
       "      <th>Minions</th>\n",
       "      <td>875.581305</td>\n",
       "    </tr>\n",
       "    <tr>\n",
       "      <th>Interstellar</th>\n",
       "      <td>724.247784</td>\n",
       "    </tr>\n",
       "    <tr>\n",
       "      <th>Deadpool</th>\n",
       "      <td>514.569956</td>\n",
       "    </tr>\n",
       "    <tr>\n",
       "      <th>Guardians of the Galaxy</th>\n",
       "      <td>481.098624</td>\n",
       "    </tr>\n",
       "    <tr>\n",
       "      <th>Mad Max: Fury Road</th>\n",
       "      <td>434.278564</td>\n",
       "    </tr>\n",
       "    <tr>\n",
       "      <th>Jurassic World</th>\n",
       "      <td>418.708552</td>\n",
       "    </tr>\n",
       "    <tr>\n",
       "      <th>Pirates of the Caribbean: The Curse of the Black Pearl</th>\n",
       "      <td>271.972889</td>\n",
       "    </tr>\n",
       "    <tr>\n",
       "      <th>Dawn of the Planet of the Apes</th>\n",
       "      <td>243.791743</td>\n",
       "    </tr>\n",
       "    <tr>\n",
       "      <th>The Hunger Games: Mockingjay - Part 1</th>\n",
       "      <td>206.227151</td>\n",
       "    </tr>\n",
       "    <tr>\n",
       "      <th>Big Hero 6</th>\n",
       "      <td>203.734590</td>\n",
       "    </tr>\n",
       "  </tbody>\n",
       "</table>\n",
       "</div>"
      ],
      "text/plain": [
       "                                                    popularity\n",
       "original_title                                                \n",
       "Minions                                             875.581305\n",
       "Interstellar                                        724.247784\n",
       "Deadpool                                            514.569956\n",
       "Guardians of the Galaxy                             481.098624\n",
       "Mad Max: Fury Road                                  434.278564\n",
       "Jurassic World                                      418.708552\n",
       "Pirates of the Caribbean: The Curse of the Blac...  271.972889\n",
       "Dawn of the Planet of the Apes                      243.791743\n",
       "The Hunger Games: Mockingjay - Part 1               206.227151\n",
       "Big Hero 6                                          203.734590"
      ]
     },
     "execution_count": 35,
     "metadata": {},
     "output_type": "execute_result"
    }
   ],
   "source": [
    "popular=df2.groupby(\"original_title\").agg({\n",
    "    \"popularity\" : \"sum\"\n",
    "}).sort_values('popularity',ascending=False)[:10]\n",
    "\n",
    "popular.head(10)"
   ]
  },
  {
   "cell_type": "markdown",
   "metadata": {},
   "source": [
    "**Its Visualisation:**"
   ]
  },
  {
   "cell_type": "code",
   "execution_count": 36,
   "metadata": {},
   "outputs": [
    {
     "data": {
      "image/png": "[encoded data removed]",
      "text/plain": [
       "<Figure size 432x288 with 1 Axes>"
      ]
     },
     "metadata": {
      "needs_background": "light"
     },
     "output_type": "display_data"
    }
   ],
   "source": [
    "popular.plot(kind =\"bar\")\n",
    "plt.ylabel(\"popularity\")\n",
    "plt.show()"
   ]
  },
  {
   "cell_type": "markdown",
   "metadata": {},
   "source": [
    "**Observations:**\n",
    "- **Minions** followed by **Interstellar** were more **Popular.**"
   ]
  },
  {
   "cell_type": "markdown",
   "metadata": {},
   "source": [
    "### 6.5 Was the Popularity feature dependent on Language?"
   ]
  },
  {
   "cell_type": "code",
   "execution_count": 37,
   "metadata": {},
   "outputs": [
    {
     "data": {
      "text/plain": [
       "count     4803\n",
       "unique      37\n",
       "top         en\n",
       "freq      4505\n",
       "Name: original_language, dtype: object"
      ]
     },
     "execution_count": 37,
     "metadata": {},
     "output_type": "execute_result"
    }
   ],
   "source": [
    "df2[\"original_language\"].describe()"
   ]
  },
  {
   "cell_type": "markdown",
   "metadata": {},
   "source": [
    "**Observations:**\n",
    "- It has **37** unique values."
   ]
  },
  {
   "cell_type": "code",
   "execution_count": 38,
   "metadata": {},
   "outputs": [
    {
     "data": {
      "text/html": [
       "<div>\n",
       "<style scoped>\n",
       "    .dataframe tbody tr th:only-of-type {\n",
       "        vertical-align: middle;\n",
       "    }\n",
       "\n",
       "    .dataframe tbody tr th {\n",
       "        vertical-align: top;\n",
       "    }\n",
       "\n",
       "    .dataframe thead th {\n",
       "        text-align: right;\n",
       "    }\n",
       "</style>\n",
       "<table border=\"1\" class=\"dataframe\">\n",
       "  <thead>\n",
       "    <tr style=\"text-align: right;\">\n",
       "      <th></th>\n",
       "      <th>popularity</th>\n",
       "    </tr>\n",
       "    <tr>\n",
       "      <th>original_language</th>\n",
       "      <th></th>\n",
       "    </tr>\n",
       "  </thead>\n",
       "  <tbody>\n",
       "    <tr>\n",
       "      <th>en</th>\n",
       "      <td>99909.343321</td>\n",
       "    </tr>\n",
       "    <tr>\n",
       "      <th>fr</th>\n",
       "      <td>720.967952</td>\n",
       "    </tr>\n",
       "    <tr>\n",
       "      <th>es</th>\n",
       "      <td>426.585722</td>\n",
       "    </tr>\n",
       "    <tr>\n",
       "      <th>ja</th>\n",
       "      <td>410.620602</td>\n",
       "    </tr>\n",
       "    <tr>\n",
       "      <th>de</th>\n",
       "      <td>274.087304</td>\n",
       "    </tr>\n",
       "    <tr>\n",
       "      <th>it</th>\n",
       "      <td>249.455748</td>\n",
       "    </tr>\n",
       "    <tr>\n",
       "      <th>zh</th>\n",
       "      <td>242.896520</td>\n",
       "    </tr>\n",
       "    <tr>\n",
       "      <th>ko</th>\n",
       "      <td>214.375924</td>\n",
       "    </tr>\n",
       "    <tr>\n",
       "      <th>cn</th>\n",
       "      <td>127.576117</td>\n",
       "    </tr>\n",
       "    <tr>\n",
       "      <th>da</th>\n",
       "      <td>123.647476</td>\n",
       "    </tr>\n",
       "  </tbody>\n",
       "</table>\n",
       "</div>"
      ],
      "text/plain": [
       "                     popularity\n",
       "original_language              \n",
       "en                 99909.343321\n",
       "fr                   720.967952\n",
       "es                   426.585722\n",
       "ja                   410.620602\n",
       "de                   274.087304\n",
       "it                   249.455748\n",
       "zh                   242.896520\n",
       "ko                   214.375924\n",
       "cn                   127.576117\n",
       "da                   123.647476"
      ]
     },
     "execution_count": 38,
     "metadata": {},
     "output_type": "execute_result"
    }
   ],
   "source": [
    "popular_lan=df2.groupby(\"original_language\").agg({\n",
    "    \"popularity\" : \"sum\"\n",
    "}).sort_values('popularity',ascending=False)[:10]\n",
    "\n",
    "popular_lan.head(10)"
   ]
  },
  {
   "cell_type": "markdown",
   "metadata": {},
   "source": [
    "**Observations:**\n",
    "- Language **en** was more Popular"
   ]
  },
  {
   "cell_type": "markdown",
   "metadata": {},
   "source": [
    "**Its Visualisation:**"
   ]
  },
  {
   "cell_type": "code",
   "execution_count": 39,
   "metadata": {},
   "outputs": [
    {
     "data": {
      "image/png": "[encoded data removed]",
      "text/plain": [
       "<Figure size 432x288 with 1 Axes>"
      ]
     },
     "metadata": {
      "needs_background": "light"
     },
     "output_type": "display_data"
    }
   ],
   "source": [
    "popular_lan.plot(kind =\"bar\")\n",
    "plt.ylabel(\"popularity\")\n",
    "plt.show()"
   ]
  },
  {
   "cell_type": "markdown",
   "metadata": {},
   "source": [
    "### 6.6 Was the vote average dependent on language?"
   ]
  },
  {
   "cell_type": "code",
   "execution_count": 40,
   "metadata": {
    "scrolled": true
   },
   "outputs": [
    {
     "data": {
      "text/html": [
       "<div>\n",
       "<style scoped>\n",
       "    .dataframe tbody tr th:only-of-type {\n",
       "        vertical-align: middle;\n",
       "    }\n",
       "\n",
       "    .dataframe tbody tr th {\n",
       "        vertical-align: top;\n",
       "    }\n",
       "\n",
       "    .dataframe thead th {\n",
       "        text-align: right;\n",
       "    }\n",
       "</style>\n",
       "<table border=\"1\" class=\"dataframe\">\n",
       "  <thead>\n",
       "    <tr style=\"text-align: right;\">\n",
       "      <th></th>\n",
       "      <th>vote_average</th>\n",
       "    </tr>\n",
       "    <tr>\n",
       "      <th>original_language</th>\n",
       "      <th></th>\n",
       "    </tr>\n",
       "  </thead>\n",
       "  <tbody>\n",
       "    <tr>\n",
       "      <th>en</th>\n",
       "      <td>27325.9</td>\n",
       "    </tr>\n",
       "    <tr>\n",
       "      <th>fr</th>\n",
       "      <td>450.1</td>\n",
       "    </tr>\n",
       "    <tr>\n",
       "      <th>es</th>\n",
       "      <td>213.1</td>\n",
       "    </tr>\n",
       "    <tr>\n",
       "      <th>de</th>\n",
       "      <td>170.8</td>\n",
       "    </tr>\n",
       "    <tr>\n",
       "      <th>zh</th>\n",
       "      <td>170.1</td>\n",
       "    </tr>\n",
       "    <tr>\n",
       "      <th>hi</th>\n",
       "      <td>114.2</td>\n",
       "    </tr>\n",
       "    <tr>\n",
       "      <th>ja</th>\n",
       "      <td>112.8</td>\n",
       "    </tr>\n",
       "    <tr>\n",
       "      <th>it</th>\n",
       "      <td>98.4</td>\n",
       "    </tr>\n",
       "    <tr>\n",
       "      <th>cn</th>\n",
       "      <td>78.0</td>\n",
       "    </tr>\n",
       "    <tr>\n",
       "      <th>ko</th>\n",
       "      <td>73.4</td>\n",
       "    </tr>\n",
       "  </tbody>\n",
       "</table>\n",
       "</div>"
      ],
      "text/plain": [
       "                   vote_average\n",
       "original_language              \n",
       "en                      27325.9\n",
       "fr                        450.1\n",
       "es                        213.1\n",
       "de                        170.8\n",
       "zh                        170.1\n",
       "hi                        114.2\n",
       "ja                        112.8\n",
       "it                         98.4\n",
       "cn                         78.0\n",
       "ko                         73.4"
      ]
     },
     "execution_count": 40,
     "metadata": {},
     "output_type": "execute_result"
    }
   ],
   "source": [
    "vote_avg_lan=df2.groupby(\"original_language\").agg({\n",
    "    \"vote_average\" : \"sum\"\n",
    "}).sort_values('vote_average',ascending=False)[:10]\n",
    "\n",
    "vote_avg_lan.head(10)"
   ]
  },
  {
   "cell_type": "markdown",
   "metadata": {},
   "source": [
    "**Observations:**\n",
    "- Language **en** was given **maximum** vote average."
   ]
  },
  {
   "cell_type": "markdown",
   "metadata": {},
   "source": [
    "**Its Visualisation:**"
   ]
  },
  {
   "cell_type": "code",
   "execution_count": 41,
   "metadata": {},
   "outputs": [
    {
     "data": {
      "image/png": "[encoded data removed]",
      "text/plain": [
       "<Figure size 432x288 with 1 Axes>"
      ]
     },
     "metadata": {
      "needs_background": "light"
     },
     "output_type": "display_data"
    }
   ],
   "source": [
    "vote_avg_lan.plot(kind =\"bar\")\n",
    "plt.ylabel(\"vote_average\")\n",
    "plt.show()"
   ]
  },
  {
   "cell_type": "markdown",
   "metadata": {},
   "source": [
    "### 6.7 Exploring the release date feature."
   ]
  },
  {
   "cell_type": "code",
   "execution_count": 42,
   "metadata": {
    "scrolled": true
   },
   "outputs": [
    {
     "data": {
      "text/plain": [
       "count           4802\n",
       "unique          3280\n",
       "top       2006-01-01\n",
       "freq              10\n",
       "Name: release_date, dtype: object"
      ]
     },
     "execution_count": 42,
     "metadata": {},
     "output_type": "execute_result"
    }
   ],
   "source": [
    "df2[\"release_date\"].describe()"
   ]
  },
  {
   "cell_type": "markdown",
   "metadata": {},
   "source": [
    "**Using Datetime Library**"
   ]
  },
  {
   "cell_type": "markdown",
   "metadata": {},
   "source": [
    "**Extracting Month**"
   ]
  },
  {
   "cell_type": "code",
   "execution_count": 43,
   "metadata": {},
   "outputs": [
    {
     "data": {
      "text/html": [
       "<div>\n",
       "<style scoped>\n",
       "    .dataframe tbody tr th:only-of-type {\n",
       "        vertical-align: middle;\n",
       "    }\n",
       "\n",
       "    .dataframe tbody tr th {\n",
       "        vertical-align: top;\n",
       "    }\n",
       "\n",
       "    .dataframe thead th {\n",
       "        text-align: right;\n",
       "    }\n",
       "</style>\n",
       "<table border=\"1\" class=\"dataframe\">\n",
       "  <thead>\n",
       "    <tr style=\"text-align: right;\">\n",
       "      <th></th>\n",
       "      <th>release_date</th>\n",
       "      <th>month</th>\n",
       "    </tr>\n",
       "  </thead>\n",
       "  <tbody>\n",
       "    <tr>\n",
       "      <th>0</th>\n",
       "      <td>2009-12-10</td>\n",
       "      <td>12.0</td>\n",
       "    </tr>\n",
       "    <tr>\n",
       "      <th>1</th>\n",
       "      <td>2007-05-19</td>\n",
       "      <td>5.0</td>\n",
       "    </tr>\n",
       "    <tr>\n",
       "      <th>2</th>\n",
       "      <td>2015-10-26</td>\n",
       "      <td>10.0</td>\n",
       "    </tr>\n",
       "    <tr>\n",
       "      <th>3</th>\n",
       "      <td>2012-07-16</td>\n",
       "      <td>7.0</td>\n",
       "    </tr>\n",
       "    <tr>\n",
       "      <th>4</th>\n",
       "      <td>2012-03-07</td>\n",
       "      <td>3.0</td>\n",
       "    </tr>\n",
       "  </tbody>\n",
       "</table>\n",
       "</div>"
      ],
      "text/plain": [
       "  release_date  month\n",
       "0   2009-12-10   12.0\n",
       "1   2007-05-19    5.0\n",
       "2   2015-10-26   10.0\n",
       "3   2012-07-16    7.0\n",
       "4   2012-03-07    3.0"
      ]
     },
     "execution_count": 43,
     "metadata": {},
     "output_type": "execute_result"
    }
   ],
   "source": [
    "import datetime\n",
    "df2[\"release_date\"]=pd.to_datetime(df2[\"release_date\"])\n",
    "\n",
    "df2[\"month\"]=df2[\"release_date\"].dt.month\n",
    "df2[[\"release_date\",\"month\"]].head()"
   ]
  },
  {
   "cell_type": "markdown",
   "metadata": {},
   "source": [
    "**Extracting day**"
   ]
  },
  {
   "cell_type": "code",
   "execution_count": 44,
   "metadata": {},
   "outputs": [
    {
     "data": {
      "text/html": [
       "<div>\n",
       "<style scoped>\n",
       "    .dataframe tbody tr th:only-of-type {\n",
       "        vertical-align: middle;\n",
       "    }\n",
       "\n",
       "    .dataframe tbody tr th {\n",
       "        vertical-align: top;\n",
       "    }\n",
       "\n",
       "    .dataframe thead th {\n",
       "        text-align: right;\n",
       "    }\n",
       "</style>\n",
       "<table border=\"1\" class=\"dataframe\">\n",
       "  <thead>\n",
       "    <tr style=\"text-align: right;\">\n",
       "      <th></th>\n",
       "      <th>release_date</th>\n",
       "      <th>day</th>\n",
       "    </tr>\n",
       "  </thead>\n",
       "  <tbody>\n",
       "    <tr>\n",
       "      <th>0</th>\n",
       "      <td>2009-12-10</td>\n",
       "      <td>10.0</td>\n",
       "    </tr>\n",
       "    <tr>\n",
       "      <th>1</th>\n",
       "      <td>2007-05-19</td>\n",
       "      <td>19.0</td>\n",
       "    </tr>\n",
       "    <tr>\n",
       "      <th>2</th>\n",
       "      <td>2015-10-26</td>\n",
       "      <td>26.0</td>\n",
       "    </tr>\n",
       "    <tr>\n",
       "      <th>3</th>\n",
       "      <td>2012-07-16</td>\n",
       "      <td>16.0</td>\n",
       "    </tr>\n",
       "    <tr>\n",
       "      <th>4</th>\n",
       "      <td>2012-03-07</td>\n",
       "      <td>7.0</td>\n",
       "    </tr>\n",
       "  </tbody>\n",
       "</table>\n",
       "</div>"
      ],
      "text/plain": [
       "  release_date   day\n",
       "0   2009-12-10  10.0\n",
       "1   2007-05-19  19.0\n",
       "2   2015-10-26  26.0\n",
       "3   2012-07-16  16.0\n",
       "4   2012-03-07   7.0"
      ]
     },
     "execution_count": 44,
     "metadata": {},
     "output_type": "execute_result"
    }
   ],
   "source": [
    "df2[\"day\"]=df2[\"release_date\"].dt.day\n",
    "df2[[\"release_date\",\"day\"]].head()"
   ]
  },
  {
   "cell_type": "markdown",
   "metadata": {},
   "source": [
    "**Extracting Year**"
   ]
  },
  {
   "cell_type": "code",
   "execution_count": 45,
   "metadata": {},
   "outputs": [
    {
     "data": {
      "text/html": [
       "<div>\n",
       "<style scoped>\n",
       "    .dataframe tbody tr th:only-of-type {\n",
       "        vertical-align: middle;\n",
       "    }\n",
       "\n",
       "    .dataframe tbody tr th {\n",
       "        vertical-align: top;\n",
       "    }\n",
       "\n",
       "    .dataframe thead th {\n",
       "        text-align: right;\n",
       "    }\n",
       "</style>\n",
       "<table border=\"1\" class=\"dataframe\">\n",
       "  <thead>\n",
       "    <tr style=\"text-align: right;\">\n",
       "      <th></th>\n",
       "      <th>release_date</th>\n",
       "      <th>year</th>\n",
       "    </tr>\n",
       "  </thead>\n",
       "  <tbody>\n",
       "    <tr>\n",
       "      <th>0</th>\n",
       "      <td>2009-12-10</td>\n",
       "      <td>2009.0</td>\n",
       "    </tr>\n",
       "    <tr>\n",
       "      <th>1</th>\n",
       "      <td>2007-05-19</td>\n",
       "      <td>2007.0</td>\n",
       "    </tr>\n",
       "    <tr>\n",
       "      <th>2</th>\n",
       "      <td>2015-10-26</td>\n",
       "      <td>2015.0</td>\n",
       "    </tr>\n",
       "    <tr>\n",
       "      <th>3</th>\n",
       "      <td>2012-07-16</td>\n",
       "      <td>2012.0</td>\n",
       "    </tr>\n",
       "    <tr>\n",
       "      <th>4</th>\n",
       "      <td>2012-03-07</td>\n",
       "      <td>2012.0</td>\n",
       "    </tr>\n",
       "  </tbody>\n",
       "</table>\n",
       "</div>"
      ],
      "text/plain": [
       "  release_date    year\n",
       "0   2009-12-10  2009.0\n",
       "1   2007-05-19  2007.0\n",
       "2   2015-10-26  2015.0\n",
       "3   2012-07-16  2012.0\n",
       "4   2012-03-07  2012.0"
      ]
     },
     "execution_count": 45,
     "metadata": {},
     "output_type": "execute_result"
    }
   ],
   "source": [
    "df2[\"year\"]=df2[\"release_date\"].dt.year\n",
    "df2[[\"release_date\",\"year\"]].head()"
   ]
  },
  {
   "cell_type": "code",
   "execution_count": 46,
   "metadata": {},
   "outputs": [],
   "source": [
    "df2.drop([\"release_date\"],axis=1,inplace=True)"
   ]
  },
  {
   "cell_type": "code",
   "execution_count": 47,
   "metadata": {},
   "outputs": [
    {
     "data": {
      "text/html": [
       "<div>\n",
       "<style scoped>\n",
       "    .dataframe tbody tr th:only-of-type {\n",
       "        vertical-align: middle;\n",
       "    }\n",
       "\n",
       "    .dataframe tbody tr th {\n",
       "        vertical-align: top;\n",
       "    }\n",
       "\n",
       "    .dataframe thead th {\n",
       "        text-align: right;\n",
       "    }\n",
       "</style>\n",
       "<table border=\"1\" class=\"dataframe\">\n",
       "  <thead>\n",
       "    <tr style=\"text-align: right;\">\n",
       "      <th></th>\n",
       "      <th>budget</th>\n",
       "      <th>genres</th>\n",
       "      <th>keywords</th>\n",
       "      <th>original_language</th>\n",
       "      <th>original_title</th>\n",
       "      <th>overview</th>\n",
       "      <th>popularity</th>\n",
       "      <th>production_companies</th>\n",
       "      <th>production_countries</th>\n",
       "      <th>revenue</th>\n",
       "      <th>...</th>\n",
       "      <th>vote_count</th>\n",
       "      <th>title_y</th>\n",
       "      <th>cast</th>\n",
       "      <th>crew</th>\n",
       "      <th>Post Production</th>\n",
       "      <th>Released</th>\n",
       "      <th>Rumored</th>\n",
       "      <th>month</th>\n",
       "      <th>day</th>\n",
       "      <th>year</th>\n",
       "    </tr>\n",
       "  </thead>\n",
       "  <tbody>\n",
       "    <tr>\n",
       "      <th>0</th>\n",
       "      <td>237000000</td>\n",
       "      <td>[{\"id\": 28, \"name\": \"Action\"}, {\"id\": 12, \"nam...</td>\n",
       "      <td>[{\"id\": 1463, \"name\": \"culture clash\"}, {\"id\":...</td>\n",
       "      <td>en</td>\n",
       "      <td>Avatar</td>\n",
       "      <td>In the 22nd century, a paraplegic Marine is di...</td>\n",
       "      <td>150.437577</td>\n",
       "      <td>[{\"name\": \"Ingenious Film Partners\", \"id\": 289...</td>\n",
       "      <td>[{\"iso_3166_1\": \"US\", \"name\": \"United States o...</td>\n",
       "      <td>2787965087</td>\n",
       "      <td>...</td>\n",
       "      <td>11800</td>\n",
       "      <td>Avatar</td>\n",
       "      <td>[{\"cast_id\": 242, \"character\": \"Jake Sully\", \"...</td>\n",
       "      <td>[{\"credit_id\": \"52fe48009251416c750aca23\", \"de...</td>\n",
       "      <td>0</td>\n",
       "      <td>1</td>\n",
       "      <td>0</td>\n",
       "      <td>12.0</td>\n",
       "      <td>10.0</td>\n",
       "      <td>2009.0</td>\n",
       "    </tr>\n",
       "    <tr>\n",
       "      <th>1</th>\n",
       "      <td>300000000</td>\n",
       "      <td>[{\"id\": 12, \"name\": \"Adventure\"}, {\"id\": 14, \"...</td>\n",
       "      <td>[{\"id\": 270, \"name\": \"ocean\"}, {\"id\": 726, \"na...</td>\n",
       "      <td>en</td>\n",
       "      <td>Pirates of the Caribbean: At World's End</td>\n",
       "      <td>Captain Barbossa, long believed to be dead, ha...</td>\n",
       "      <td>139.082615</td>\n",
       "      <td>[{\"name\": \"Walt Disney Pictures\", \"id\": 2}, {\"...</td>\n",
       "      <td>[{\"iso_3166_1\": \"US\", \"name\": \"United States o...</td>\n",
       "      <td>961000000</td>\n",
       "      <td>...</td>\n",
       "      <td>4500</td>\n",
       "      <td>Pirates of the Caribbean: At World's End</td>\n",
       "      <td>[{\"cast_id\": 4, \"character\": \"Captain Jack Spa...</td>\n",
       "      <td>[{\"credit_id\": \"52fe4232c3a36847f800b579\", \"de...</td>\n",
       "      <td>0</td>\n",
       "      <td>1</td>\n",
       "      <td>0</td>\n",
       "      <td>5.0</td>\n",
       "      <td>19.0</td>\n",
       "      <td>2007.0</td>\n",
       "    </tr>\n",
       "  </tbody>\n",
       "</table>\n",
       "<p>2 rows × 25 columns</p>\n",
       "</div>"
      ],
      "text/plain": [
       "      budget                                             genres  \\\n",
       "0  237000000  [{\"id\": 28, \"name\": \"Action\"}, {\"id\": 12, \"nam...   \n",
       "1  300000000  [{\"id\": 12, \"name\": \"Adventure\"}, {\"id\": 14, \"...   \n",
       "\n",
       "                                            keywords original_language  \\\n",
       "0  [{\"id\": 1463, \"name\": \"culture clash\"}, {\"id\":...                en   \n",
       "1  [{\"id\": 270, \"name\": \"ocean\"}, {\"id\": 726, \"na...                en   \n",
       "\n",
       "                             original_title  \\\n",
       "0                                    Avatar   \n",
       "1  Pirates of the Caribbean: At World's End   \n",
       "\n",
       "                                            overview  popularity  \\\n",
       "0  In the 22nd century, a paraplegic Marine is di...  150.437577   \n",
       "1  Captain Barbossa, long believed to be dead, ha...  139.082615   \n",
       "\n",
       "                                production_companies  \\\n",
       "0  [{\"name\": \"Ingenious Film Partners\", \"id\": 289...   \n",
       "1  [{\"name\": \"Walt Disney Pictures\", \"id\": 2}, {\"...   \n",
       "\n",
       "                                production_countries     revenue  ...  \\\n",
       "0  [{\"iso_3166_1\": \"US\", \"name\": \"United States o...  2787965087  ...   \n",
       "1  [{\"iso_3166_1\": \"US\", \"name\": \"United States o...   961000000  ...   \n",
       "\n",
       "   vote_count                                   title_y  \\\n",
       "0       11800                                    Avatar   \n",
       "1        4500  Pirates of the Caribbean: At World's End   \n",
       "\n",
       "                                                cast  \\\n",
       "0  [{\"cast_id\": 242, \"character\": \"Jake Sully\", \"...   \n",
       "1  [{\"cast_id\": 4, \"character\": \"Captain Jack Spa...   \n",
       "\n",
       "                                                crew  Post Production  \\\n",
       "0  [{\"credit_id\": \"52fe48009251416c750aca23\", \"de...                0   \n",
       "1  [{\"credit_id\": \"52fe4232c3a36847f800b579\", \"de...                0   \n",
       "\n",
       "   Released Rumored month   day    year  \n",
       "0         1       0  12.0  10.0  2009.0  \n",
       "1         1       0   5.0  19.0  2007.0  \n",
       "\n",
       "[2 rows x 25 columns]"
      ]
     },
     "execution_count": 47,
     "metadata": {},
     "output_type": "execute_result"
    }
   ],
   "source": [
    "df2.head(2)"
   ]
  },
  {
   "cell_type": "code",
   "execution_count": 48,
   "metadata": {},
   "outputs": [],
   "source": [
    "df2.month = df2.month.fillna(df2['month'].mode()[0]) "
   ]
  },
  {
   "cell_type": "code",
   "execution_count": 49,
   "metadata": {},
   "outputs": [],
   "source": [
    "df2.year = df2.year.fillna(df2['year'].mode()[0]) "
   ]
  },
  {
   "cell_type": "code",
   "execution_count": 50,
   "metadata": {},
   "outputs": [],
   "source": [
    "df2.day = df2.day.fillna(df2['day'].mode()[0]) "
   ]
  },
  {
   "cell_type": "code",
   "execution_count": 51,
   "metadata": {},
   "outputs": [
    {
     "data": {
      "text/plain": [
       "dtype('float64')"
      ]
     },
     "metadata": {},
     "output_type": "display_data"
    },
    {
     "data": {
      "text/plain": [
       "dtype('float64')"
      ]
     },
     "metadata": {},
     "output_type": "display_data"
    },
    {
     "data": {
      "text/plain": [
       "dtype('float64')"
      ]
     },
     "metadata": {},
     "output_type": "display_data"
    }
   ],
   "source": [
    "display(df2[\"month\"].dtype)\n",
    "display(df2[\"year\"].dtype)\n",
    "display(df2[\"day\"].dtype)"
   ]
  },
  {
   "cell_type": "code",
   "execution_count": 52,
   "metadata": {},
   "outputs": [],
   "source": [
    "df2= df2.astype({\"month\":'int', \"year\":'int',\"day\":'int'}) "
   ]
  },
  {
   "cell_type": "code",
   "execution_count": 53,
   "metadata": {},
   "outputs": [
    {
     "data": {
      "text/html": [
       "<div>\n",
       "<style scoped>\n",
       "    .dataframe tbody tr th:only-of-type {\n",
       "        vertical-align: middle;\n",
       "    }\n",
       "\n",
       "    .dataframe tbody tr th {\n",
       "        vertical-align: top;\n",
       "    }\n",
       "\n",
       "    .dataframe thead th {\n",
       "        text-align: right;\n",
       "    }\n",
       "</style>\n",
       "<table border=\"1\" class=\"dataframe\">\n",
       "  <thead>\n",
       "    <tr style=\"text-align: right;\">\n",
       "      <th></th>\n",
       "      <th>budget</th>\n",
       "      <th>genres</th>\n",
       "      <th>keywords</th>\n",
       "      <th>original_language</th>\n",
       "      <th>original_title</th>\n",
       "      <th>overview</th>\n",
       "      <th>popularity</th>\n",
       "      <th>production_companies</th>\n",
       "      <th>production_countries</th>\n",
       "      <th>revenue</th>\n",
       "      <th>...</th>\n",
       "      <th>vote_count</th>\n",
       "      <th>title_y</th>\n",
       "      <th>cast</th>\n",
       "      <th>crew</th>\n",
       "      <th>Post Production</th>\n",
       "      <th>Released</th>\n",
       "      <th>Rumored</th>\n",
       "      <th>month</th>\n",
       "      <th>day</th>\n",
       "      <th>year</th>\n",
       "    </tr>\n",
       "  </thead>\n",
       "  <tbody>\n",
       "    <tr>\n",
       "      <th>0</th>\n",
       "      <td>237000000</td>\n",
       "      <td>[{\"id\": 28, \"name\": \"Action\"}, {\"id\": 12, \"nam...</td>\n",
       "      <td>[{\"id\": 1463, \"name\": \"culture clash\"}, {\"id\":...</td>\n",
       "      <td>en</td>\n",
       "      <td>Avatar</td>\n",
       "      <td>In the 22nd century, a paraplegic Marine is di...</td>\n",
       "      <td>150.437577</td>\n",
       "      <td>[{\"name\": \"Ingenious Film Partners\", \"id\": 289...</td>\n",
       "      <td>[{\"iso_3166_1\": \"US\", \"name\": \"United States o...</td>\n",
       "      <td>2787965087</td>\n",
       "      <td>...</td>\n",
       "      <td>11800</td>\n",
       "      <td>Avatar</td>\n",
       "      <td>[{\"cast_id\": 242, \"character\": \"Jake Sully\", \"...</td>\n",
       "      <td>[{\"credit_id\": \"52fe48009251416c750aca23\", \"de...</td>\n",
       "      <td>0</td>\n",
       "      <td>1</td>\n",
       "      <td>0</td>\n",
       "      <td>12</td>\n",
       "      <td>10</td>\n",
       "      <td>2009</td>\n",
       "    </tr>\n",
       "    <tr>\n",
       "      <th>1</th>\n",
       "      <td>300000000</td>\n",
       "      <td>[{\"id\": 12, \"name\": \"Adventure\"}, {\"id\": 14, \"...</td>\n",
       "      <td>[{\"id\": 270, \"name\": \"ocean\"}, {\"id\": 726, \"na...</td>\n",
       "      <td>en</td>\n",
       "      <td>Pirates of the Caribbean: At World's End</td>\n",
       "      <td>Captain Barbossa, long believed to be dead, ha...</td>\n",
       "      <td>139.082615</td>\n",
       "      <td>[{\"name\": \"Walt Disney Pictures\", \"id\": 2}, {\"...</td>\n",
       "      <td>[{\"iso_3166_1\": \"US\", \"name\": \"United States o...</td>\n",
       "      <td>961000000</td>\n",
       "      <td>...</td>\n",
       "      <td>4500</td>\n",
       "      <td>Pirates of the Caribbean: At World's End</td>\n",
       "      <td>[{\"cast_id\": 4, \"character\": \"Captain Jack Spa...</td>\n",
       "      <td>[{\"credit_id\": \"52fe4232c3a36847f800b579\", \"de...</td>\n",
       "      <td>0</td>\n",
       "      <td>1</td>\n",
       "      <td>0</td>\n",
       "      <td>5</td>\n",
       "      <td>19</td>\n",
       "      <td>2007</td>\n",
       "    </tr>\n",
       "  </tbody>\n",
       "</table>\n",
       "<p>2 rows × 25 columns</p>\n",
       "</div>"
      ],
      "text/plain": [
       "      budget                                             genres  \\\n",
       "0  237000000  [{\"id\": 28, \"name\": \"Action\"}, {\"id\": 12, \"nam...   \n",
       "1  300000000  [{\"id\": 12, \"name\": \"Adventure\"}, {\"id\": 14, \"...   \n",
       "\n",
       "                                            keywords original_language  \\\n",
       "0  [{\"id\": 1463, \"name\": \"culture clash\"}, {\"id\":...                en   \n",
       "1  [{\"id\": 270, \"name\": \"ocean\"}, {\"id\": 726, \"na...                en   \n",
       "\n",
       "                             original_title  \\\n",
       "0                                    Avatar   \n",
       "1  Pirates of the Caribbean: At World's End   \n",
       "\n",
       "                                            overview  popularity  \\\n",
       "0  In the 22nd century, a paraplegic Marine is di...  150.437577   \n",
       "1  Captain Barbossa, long believed to be dead, ha...  139.082615   \n",
       "\n",
       "                                production_companies  \\\n",
       "0  [{\"name\": \"Ingenious Film Partners\", \"id\": 289...   \n",
       "1  [{\"name\": \"Walt Disney Pictures\", \"id\": 2}, {\"...   \n",
       "\n",
       "                                production_countries     revenue  ...  \\\n",
       "0  [{\"iso_3166_1\": \"US\", \"name\": \"United States o...  2787965087  ...   \n",
       "1  [{\"iso_3166_1\": \"US\", \"name\": \"United States o...   961000000  ...   \n",
       "\n",
       "   vote_count                                   title_y  \\\n",
       "0       11800                                    Avatar   \n",
       "1        4500  Pirates of the Caribbean: At World's End   \n",
       "\n",
       "                                                cast  \\\n",
       "0  [{\"cast_id\": 242, \"character\": \"Jake Sully\", \"...   \n",
       "1  [{\"cast_id\": 4, \"character\": \"Captain Jack Spa...   \n",
       "\n",
       "                                                crew  Post Production  \\\n",
       "0  [{\"credit_id\": \"52fe48009251416c750aca23\", \"de...                0   \n",
       "1  [{\"credit_id\": \"52fe4232c3a36847f800b579\", \"de...                0   \n",
       "\n",
       "   Released Rumored month day  year  \n",
       "0         1       0    12  10  2009  \n",
       "1         1       0     5  19  2007  \n",
       "\n",
       "[2 rows x 25 columns]"
      ]
     },
     "execution_count": 53,
     "metadata": {},
     "output_type": "execute_result"
    }
   ],
   "source": [
    "df2.head(2)"
   ]
  },
  {
   "cell_type": "code",
   "execution_count": 54,
   "metadata": {},
   "outputs": [],
   "source": [
    "month1 = {1:'Jan', 2:'Feb', 3:'March', 4:'April',5:'May',6:'June',7:'July',8:'Aug',9:'Sept',10:'Oct',11:'Nov',12:'Dec'}"
   ]
  },
  {
   "cell_type": "markdown",
   "metadata": {},
   "source": [
    "### 6.8 Which language ruled over the month?"
   ]
  },
  {
   "cell_type": "code",
   "execution_count": 55,
   "metadata": {},
   "outputs": [
    {
     "data": {
      "text/plain": [
       "Text(0.5, 0.98, 'Scatterplot of Month wrt day for diff lan')"
      ]
     },
     "execution_count": 55,
     "metadata": {},
     "output_type": "execute_result"
    },
    {
     "data": {
      "image/png": "[encoded data removed]",
      "text/plain": [
       "<Figure size 457.375x360 with 1 Axes>"
      ]
     },
     "metadata": {
      "needs_background": "light"
     },
     "output_type": "display_data"
    }
   ],
   "source": [
    "sns.lmplot('month', 'day', data=df2, fit_reg=False, hue=\"original_language\")\n",
    "plt.subplots_adjust(top=0.9)\n",
    "plt.suptitle('Scatterplot of Month wrt day for diff lan', fontsize=16)"
   ]
  },
  {
   "cell_type": "markdown",
   "metadata": {},
   "source": [
    "## 6.9  Using Box Plot"
   ]
  },
  {
   "cell_type": "code",
   "execution_count": 56,
   "metadata": {},
   "outputs": [
    {
     "data": {
      "text/plain": [
       "<matplotlib.axes._subplots.AxesSubplot at 0x11b61ef5400>"
      ]
     },
     "execution_count": 56,
     "metadata": {},
     "output_type": "execute_result"
    },
    {
     "data": {
      "image/png": "[encoded data removed]",
      "text/plain": [
       "<Figure size 864x504 with 1 Axes>"
      ]
     },
     "metadata": {
      "needs_background": "light"
     },
     "output_type": "display_data"
    }
   ],
   "source": [
    "plt.figure(figsize=(12, 7))\n",
    "sns.boxplot(x='month',y='vote_average',data=df2,palette='winter')"
   ]
  },
  {
   "cell_type": "markdown",
   "metadata": {},
   "source": [
    "**Observations:**\n",
    "- Vote was **high** almost **6.5** in the month of **5 ,6,7,9,10,11,12.**"
   ]
  },
  {
   "cell_type": "markdown",
   "metadata": {},
   "source": [
    "### 6.10 Which is the Month  that experienced most release of movies? "
   ]
  },
  {
   "cell_type": "code",
   "execution_count": 57,
   "metadata": {
    "scrolled": true
   },
   "outputs": [
    {
     "data": {
      "text/plain": [
       "<matplotlib.axes._subplots.AxesSubplot at 0x11b6217c5b0>"
      ]
     },
     "execution_count": 57,
     "metadata": {},
     "output_type": "execute_result"
    },
    {
     "data": {
      "image/png": "[encoded data removed]",
      "text/plain": [
       "<Figure size 432x288 with 1 Axes>"
      ]
     },
     "metadata": {},
     "output_type": "display_data"
    }
   ],
   "source": [
    "sns.set_style(\"whitegrid\")\n",
    "sns.countplot(data=df2, x='month', palette= 'hls')"
   ]
  },
  {
   "cell_type": "markdown",
   "metadata": {},
   "source": [
    "**Observations:**\n",
    "- Its the **September.**"
   ]
  },
  {
   "cell_type": "markdown",
   "metadata": {},
   "source": [
    "### 6.11 Which is the day  that experienced most release of movies? "
   ]
  },
  {
   "cell_type": "code",
   "execution_count": 58,
   "metadata": {},
   "outputs": [
    {
     "data": {
      "text/plain": [
       "<matplotlib.axes._subplots.AxesSubplot at 0x11b621d8580>"
      ]
     },
     "execution_count": 58,
     "metadata": {},
     "output_type": "execute_result"
    },
    {
     "data": {
      "image/png": "[encoded data removed]",
      "text/plain": [
       "<Figure size 360x504 with 1 Axes>"
      ]
     },
     "metadata": {},
     "output_type": "display_data"
    }
   ],
   "source": [
    "sns.set_style(\"whitegrid\")\n",
    "countplt, ax = plt.subplots(figsize = (5,7))\n",
    "sns.countplot(data=df2, y='day')"
   ]
  },
  {
   "cell_type": "markdown",
   "metadata": {},
   "source": [
    "**Observations:**\n",
    "- **First day** of every **month** experienced **most release of movies.**"
   ]
  },
  {
   "cell_type": "markdown",
   "metadata": {},
   "source": [
    "### 6.12 Which is the year  that experienced most release of movies? "
   ]
  },
  {
   "cell_type": "code",
   "execution_count": 59,
   "metadata": {},
   "outputs": [
    {
     "data": {
      "text/plain": [
       "<matplotlib.axes._subplots.AxesSubplot at 0x11b622afb50>"
      ]
     },
     "execution_count": 59,
     "metadata": {},
     "output_type": "execute_result"
    },
    {
     "data": {
      "image/png": "[encoded data removed]",
      "text/plain": [
       "<Figure size 576x1800 with 1 Axes>"
      ]
     },
     "metadata": {},
     "output_type": "display_data"
    }
   ],
   "source": [
    "sns.set_style(\"whitegrid\")\n",
    "countplt, ax = plt.subplots(figsize = (8,25))\n",
    "sns.countplot(data=df2, y='year', palette= 'hls')"
   ]
  },
  {
   "cell_type": "markdown",
   "metadata": {},
   "source": [
    "**Observations:**\n",
    "- **2009** was the **year** that experienced **most release of movies.**"
   ]
  },
  {
   "cell_type": "code",
   "execution_count": 60,
   "metadata": {},
   "outputs": [
    {
     "data": {
      "text/plain": [
       "<matplotlib.axes._subplots.AxesSubplot at 0x11b6205b880>"
      ]
     },
     "execution_count": 60,
     "metadata": {},
     "output_type": "execute_result"
    },
    {
     "data": {
      "image/png": "[encoded data removed]",
      "text/plain": [
       "<Figure size 432x288 with 1 Axes>"
      ]
     },
     "metadata": {},
     "output_type": "display_data"
    }
   ],
   "source": [
    "sns.set_style(\"whitegrid\")\n",
    "sns.countplot(data=df2, x='Released', palette= 'hls')"
   ]
  },
  {
   "cell_type": "markdown",
   "metadata": {},
   "source": [
    "**Observations:**\n",
    "- Released count is **more** than not released."
   ]
  },
  {
   "cell_type": "code",
   "execution_count": 61,
   "metadata": {},
   "outputs": [
    {
     "data": {
      "text/plain": [
       "<seaborn.axisgrid.PairGrid at 0x11b6484ac10>"
      ]
     },
     "execution_count": 61,
     "metadata": {},
     "output_type": "execute_result"
    },
    {
     "data": {
      "image/png": "[encoded data removed]",
      "text/plain": [
       "<Figure size 540x540 with 12 Axes>"
      ]
     },
     "metadata": {},
     "output_type": "display_data"
    }
   ],
   "source": [
    "sns.pairplot(df2[[\"day\",\"month\",\"vote_average\"]], dropna=True)"
   ]
  },
  {
   "cell_type": "markdown",
   "metadata": {},
   "source": [
    "**Observations:**\n",
    "- **Vote average** is between 6 to 6.5.\n",
    "- It depicts the **variations** on monthly and per day basis. "
   ]
  },
  {
   "cell_type": "markdown",
   "metadata": {},
   "source": [
    "### 6.13  Establish correlation between all the features using heatmap"
   ]
  },
  {
   "cell_type": "code",
   "execution_count": 62,
   "metadata": {},
   "outputs": [
    {
     "data": {
      "text/plain": [
       "<matplotlib.axes._subplots.AxesSubplot at 0x11b66ba28b0>"
      ]
     },
     "execution_count": 62,
     "metadata": {},
     "output_type": "execute_result"
    },
    {
     "data": {
      "image/png": "[encoded data removed]",
      "text/plain": [
       "<Figure size 432x288 with 2 Axes>"
      ]
     },
     "metadata": {},
     "output_type": "display_data"
    }
   ],
   "source": [
    "sns.heatmap(df2.corr(),cmap=\"gist_earth\",annot=True)"
   ]
  },
  {
   "cell_type": "markdown",
   "metadata": {},
   "source": [
    "**Observations:** \n",
    "- It gives **correlation** between **features** and states whether they are **positively or negatively correlated.**"
   ]
  },
  {
   "cell_type": "markdown",
   "metadata": {},
   "source": [
    "## 7. Content Based Recommedation"
   ]
  },
  {
   "cell_type": "code",
   "execution_count": 63,
   "metadata": {},
   "outputs": [
    {
     "data": {
      "text/plain": [
       "Index(['budget', 'genres', 'keywords', 'original_language', 'original_title',\n",
       "       'overview', 'popularity', 'production_companies',\n",
       "       'production_countries', 'revenue', 'runtime', 'spoken_languages',\n",
       "       'status', 'title_x', 'vote_average', 'vote_count', 'title_y', 'cast',\n",
       "       'crew', 'Post Production', 'Released', 'Rumored', 'month', 'day',\n",
       "       'year'],\n",
       "      dtype='object')"
      ]
     },
     "execution_count": 63,
     "metadata": {},
     "output_type": "execute_result"
    }
   ],
   "source": [
    "df2.columns"
   ]
  },
  {
   "cell_type": "code",
   "execution_count": 64,
   "metadata": {},
   "outputs": [
    {
     "data": {
      "text/plain": [
       "'Captain Barbossa, long believed to be dead, has come back to life and is headed to the edge of the Earth with Will Turner and Elizabeth Swann. But nothing is quite as it seems.'"
      ]
     },
     "execution_count": 64,
     "metadata": {},
     "output_type": "execute_result"
    }
   ],
   "source": [
    "df2[\"overview\"][1]"
   ]
  },
  {
   "cell_type": "code",
   "execution_count": 65,
   "metadata": {},
   "outputs": [],
   "source": [
    "from sklearn.feature_extraction.text import TfidfVectorizer"
   ]
  },
  {
   "cell_type": "code",
   "execution_count": 66,
   "metadata": {},
   "outputs": [],
   "source": [
    "tfid = TfidfVectorizer(stop_words=\"english\")"
   ]
  },
  {
   "cell_type": "code",
   "execution_count": 67,
   "metadata": {},
   "outputs": [],
   "source": [
    "df2['overview'] = df2['overview'].fillna('')"
   ]
  },
  {
   "cell_type": "code",
   "execution_count": 68,
   "metadata": {},
   "outputs": [],
   "source": [
    "matrix = tfid.fit_transform(df2['overview'])"
   ]
  },
  {
   "cell_type": "code",
   "execution_count": 69,
   "metadata": {},
   "outputs": [
    {
     "data": {
      "text/plain": [
       "<4803x20978 sparse matrix of type '<class 'numpy.float64'>'\n",
       "\twith 125840 stored elements in Compressed Sparse Row format>"
      ]
     },
     "execution_count": 69,
     "metadata": {},
     "output_type": "execute_result"
    }
   ],
   "source": [
    "matrix"
   ]
  },
  {
   "cell_type": "code",
   "execution_count": 70,
   "metadata": {},
   "outputs": [
    {
     "data": {
      "text/plain": [
       "(4803, 20978)"
      ]
     },
     "execution_count": 70,
     "metadata": {},
     "output_type": "execute_result"
    }
   ],
   "source": [
    "matrix.shape"
   ]
  },
  {
   "cell_type": "code",
   "execution_count": 71,
   "metadata": {},
   "outputs": [],
   "source": [
    "from sklearn.metrics.pairwise import linear_kernel"
   ]
  },
  {
   "cell_type": "code",
   "execution_count": 72,
   "metadata": {},
   "outputs": [],
   "source": [
    "cos_sim = linear_kernel(matrix, matrix)"
   ]
  },
  {
   "cell_type": "code",
   "execution_count": 73,
   "metadata": {},
   "outputs": [
    {
     "data": {
      "text/plain": [
       "array([1., 0., 0., ..., 0., 0., 0.])"
      ]
     },
     "execution_count": 73,
     "metadata": {},
     "output_type": "execute_result"
    }
   ],
   "source": [
    "cos_sim[0]"
   ]
  },
  {
   "cell_type": "code",
   "execution_count": 74,
   "metadata": {},
   "outputs": [
    {
     "data": {
      "text/plain": [
       "(4803, 4803)"
      ]
     },
     "execution_count": 74,
     "metadata": {},
     "output_type": "execute_result"
    }
   ],
   "source": [
    "cos_sim.shape"
   ]
  },
  {
   "cell_type": "code",
   "execution_count": 75,
   "metadata": {},
   "outputs": [],
   "source": [
    "indicies = pd.Series(df2.index, index=df2['title_y']).drop_duplicates()"
   ]
  },
  {
   "cell_type": "code",
   "execution_count": 76,
   "metadata": {},
   "outputs": [
    {
     "data": {
      "text/plain": [
       "title_y\n",
       "Avatar                                      0\n",
       "Pirates of the Caribbean: At World's End    1\n",
       "Spectre                                     2\n",
       "The Dark Knight Rises                       3\n",
       "John Carter                                 4\n",
       "dtype: int64"
      ]
     },
     "execution_count": 76,
     "metadata": {},
     "output_type": "execute_result"
    }
   ],
   "source": [
    "indicies.head()"
   ]
  },
  {
   "cell_type": "code",
   "execution_count": 77,
   "metadata": {},
   "outputs": [],
   "source": [
    "def get_5_rec(title, cosine_sim = cos_sim):\n",
    "    #found the index of movie\n",
    "    idx = indicies[title]\n",
    "    \n",
    "    # exttracting sim. scores for idx index movie\n",
    "    score = list(enumerate(cosine_sim[idx]))\n",
    "    \n",
    "    #sorted the list above\n",
    "    score = sorted(score, key=lambda x:x[1], reverse = True)\n",
    "    \n",
    "    #we extract top 5 reccom.\n",
    "    score = score[1:6]\n",
    "    \n",
    "    #we saved our all of the reccom. index \n",
    "    movie_idx = [i[0] for i in score]\n",
    "    \n",
    "    #returned reccom. movies title\n",
    "    return df2['title_y'].iloc[movie_idx]"
   ]
  },
  {
   "cell_type": "code",
   "execution_count": 78,
   "metadata": {},
   "outputs": [],
   "source": [
    "title = 'Avatar'\n",
    "idx = indicies[title]"
   ]
  },
  {
   "cell_type": "code",
   "execution_count": 79,
   "metadata": {},
   "outputs": [],
   "source": [
    "sim_scs = list(enumerate(cos_sim[idx]))"
   ]
  },
  {
   "cell_type": "code",
   "execution_count": 80,
   "metadata": {},
   "outputs": [
    {
     "data": {
      "text/plain": [
       "[(0, 1.0),\n",
       " (1, 0.0),\n",
       " (2, 0.0),\n",
       " (3, 0.0249951158376727),\n",
       " (4, 0.0),\n",
       " (5, 0.0303525438443129),\n",
       " (6, 0.0),\n",
       " (7, 0.03758069690343087),\n",
       " (8, 0.0),\n",
       " (9, 0.0),\n",
       " (10, 0.0),\n",
       " (11, 0.01978766288618951),\n",
       " (12, 0.0),\n",
       " (13, 0.0),\n",
       " (14, 0.0),\n",
       " (15, 0.0),\n",
       " (16, 0.0),\n",
       " (17, 0.0),\n",
       " (18, 0.0),\n",
       " (19, 0.0),\n",
       " (20, 0.0),\n",
       " (21, 0.0),\n",
       " (22, 0.0),\n",
       " (23, 0.0),\n",
       " (24, 0.0),\n",
       " (25, 0.0),\n",
       " (26, 0.0349695829781853),\n",
       " (27, 0.04705452709989043),\n",
       " (28, 0.0),\n",
       " (29, 0.02518543163480529),\n",
       " (30, 0.0),\n",
       " (31, 0.06153392877569968),\n",
       " (32, 0.0),\n",
       " (33, 0.0),\n",
       " (34, 0.0),\n",
       " (35, 0.0),\n",
       " (36, 0.07454624070840556),\n",
       " (37, 0.0),\n",
       " (38, 0.0),\n",
       " (39, 0.0),\n",
       " (40, 0.0),\n",
       " (41, 0.0),\n",
       " (42, 0.0),\n",
       " (43, 0.021794850562028286),\n",
       " (44, 0.0),\n",
       " (45, 0.0611498614502933),\n",
       " (46, 0.0),\n",
       " (47, 0.03398446515527808),\n",
       " (48, 0.0),\n",
       " (49, 0.0),\n",
       " (50, 0.0),\n",
       " (51, 0.0),\n",
       " (52, 0.0),\n",
       " (53, 0.0),\n",
       " (54, 0.0),\n",
       " (55, 0.0),\n",
       " (56, 0.0),\n",
       " (57, 0.0),\n",
       " (58, 0.0),\n",
       " (59, 0.0),\n",
       " (60, 0.0),\n",
       " (61, 0.0),\n",
       " (62, 0.0),\n",
       " (63, 0.0),\n",
       " (64, 0.0),\n",
       " (65, 0.0),\n",
       " (66, 0.0),\n",
       " (67, 0.0),\n",
       " (68, 0.056041553338482666),\n",
       " (69, 0.0),\n",
       " (70, 0.0),\n",
       " (71, 0.0),\n",
       " (72, 0.0),\n",
       " (73, 0.0),\n",
       " (74, 0.057815482699066105),\n",
       " (75, 0.0),\n",
       " (76, 0.0),\n",
       " (77, 0.0),\n",
       " (78, 0.0),\n",
       " (79, 0.0),\n",
       " (80, 0.0),\n",
       " (81, 0.0),\n",
       " (82, 0.0),\n",
       " (83, 0.06410697319741618),\n",
       " (84, 0.0),\n",
       " (85, 0.0),\n",
       " (86, 0.0),\n",
       " (87, 0.02259280375204441),\n",
       " (88, 0.0),\n",
       " (89, 0.01514863743720984),\n",
       " (90, 0.0),\n",
       " (91, 0.03395471892695029),\n",
       " (92, 0.0),\n",
       " (93, 0.0),\n",
       " (94, 0.0),\n",
       " (95, 0.0),\n",
       " (96, 0.0),\n",
       " (97, 0.0),\n",
       " (98, 0.0),\n",
       " (99, 0.0),\n",
       " (100, 0.0),\n",
       " (101, 0.0),\n",
       " (102, 0.016262565556291183),\n",
       " (103, 0.0),\n",
       " (104, 0.0),\n",
       " (105, 0.0),\n",
       " (106, 0.0),\n",
       " (107, 0.046930282667708836),\n",
       " (108, 0.0),\n",
       " (109, 0.0),\n",
       " (110, 0.0),\n",
       " (111, 0.0),\n",
       " (112, 0.0),\n",
       " (113, 0.0),\n",
       " (114, 0.0),\n",
       " (115, 0.0),\n",
       " (116, 0.0),\n",
       " (117, 0.0),\n",
       " (118, 0.0),\n",
       " (119, 0.0),\n",
       " (120, 0.0),\n",
       " (121, 0.0),\n",
       " (122, 0.0),\n",
       " (123, 0.0),\n",
       " (124, 0.0),\n",
       " (125, 0.0),\n",
       " (126, 0.0),\n",
       " (127, 0.027592023534189655),\n",
       " (128, 0.0),\n",
       " (129, 0.0),\n",
       " (130, 0.0),\n",
       " (131, 0.020353046942361785),\n",
       " (132, 0.0),\n",
       " (133, 0.0),\n",
       " (134, 0.03310689282980267),\n",
       " (135, 0.0),\n",
       " (136, 0.0),\n",
       " (137, 0.02777434677489505),\n",
       " (138, 0.0),\n",
       " (139, 0.02539121798504248),\n",
       " (140, 0.044794888096614936),\n",
       " (141, 0.0),\n",
       " (142, 0.0),\n",
       " (143, 0.0),\n",
       " (144, 0.0),\n",
       " (145, 0.0),\n",
       " (146, 0.0),\n",
       " (147, 0.0),\n",
       " (148, 0.03581968276882978),\n",
       " (149, 0.038675087190328424),\n",
       " (150, 0.06865963374809526),\n",
       " (151, 0.06547158879247776),\n",
       " (152, 0.0),\n",
       " (153, 0.01634565620124889),\n",
       " (154, 0.0),\n",
       " (155, 0.0),\n",
       " (156, 0.0),\n",
       " (157, 0.0),\n",
       " (158, 0.0),\n",
       " (159, 0.0),\n",
       " (160, 0.0),\n",
       " (161, 0.0),\n",
       " (162, 0.0),\n",
       " (163, 0.0),\n",
       " (164, 0.0),\n",
       " (165, 0.0),\n",
       " (166, 0.0),\n",
       " (167, 0.0),\n",
       " (168, 0.0),\n",
       " (169, 0.0),\n",
       " (170, 0.021912013516845123),\n",
       " (171, 0.0),\n",
       " (172, 0.0),\n",
       " (173, 0.0),\n",
       " (174, 0.05755334169283926),\n",
       " (175, 0.0),\n",
       " (176, 0.0),\n",
       " (177, 0.0),\n",
       " (178, 0.0),\n",
       " (179, 0.0),\n",
       " (180, 0.0),\n",
       " (181, 0.0),\n",
       " (182, 0.0),\n",
       " (183, 0.0),\n",
       " (184, 0.02370071251688892),\n",
       " (185, 0.0),\n",
       " (186, 0.0),\n",
       " (187, 0.0),\n",
       " (188, 0.0),\n",
       " (189, 0.0),\n",
       " (190, 0.0),\n",
       " (191, 0.0),\n",
       " (192, 0.0),\n",
       " (193, 0.0),\n",
       " (194, 0.0),\n",
       " (195, 0.0),\n",
       " (196, 0.0),\n",
       " (197, 0.0),\n",
       " (198, 0.0),\n",
       " (199, 0.046958011081237344),\n",
       " (200, 0.0),\n",
       " (201, 0.0),\n",
       " (202, 0.0),\n",
       " (203, 0.0),\n",
       " (204, 0.0),\n",
       " (205, 0.0),\n",
       " (206, 0.014858284268416457),\n",
       " (207, 0.0),\n",
       " (208, 0.0),\n",
       " (209, 0.0),\n",
       " (210, 0.0),\n",
       " (211, 0.0),\n",
       " (212, 0.0),\n",
       " (213, 0.02068500525011147),\n",
       " (214, 0.0),\n",
       " (215, 0.0),\n",
       " (216, 0.0),\n",
       " (217, 0.0),\n",
       " (218, 0.0),\n",
       " (219, 0.0),\n",
       " (220, 0.0),\n",
       " (221, 0.0),\n",
       " (222, 0.015357449216930663),\n",
       " (223, 0.0),\n",
       " (224, 0.0),\n",
       " (225, 0.0),\n",
       " (226, 0.0),\n",
       " (227, 0.0),\n",
       " (228, 0.01975219800843654),\n",
       " (229, 0.0),\n",
       " (230, 0.013429784822891498),\n",
       " (231, 0.0),\n",
       " (232, 0.0),\n",
       " (233, 0.0),\n",
       " (234, 0.0),\n",
       " (235, 0.0),\n",
       " (236, 0.05116544628709476),\n",
       " (237, 0.0),\n",
       " (238, 0.0),\n",
       " (239, 0.015505465642114519),\n",
       " (240, 0.0),\n",
       " (241, 0.0),\n",
       " (242, 0.0),\n",
       " (243, 0.0),\n",
       " (244, 0.0),\n",
       " (245, 0.0),\n",
       " (246, 0.0),\n",
       " (247, 0.0),\n",
       " (248, 0.0),\n",
       " (249, 0.0),\n",
       " (250, 0.0),\n",
       " (251, 0.0),\n",
       " (252, 0.0),\n",
       " (253, 0.0),\n",
       " (254, 0.0),\n",
       " (255, 0.0),\n",
       " (256, 0.0),\n",
       " (257, 0.0),\n",
       " (258, 0.0),\n",
       " (259, 0.0),\n",
       " (260, 0.0),\n",
       " (261, 0.0),\n",
       " (262, 0.0),\n",
       " (263, 0.0),\n",
       " (264, 0.0),\n",
       " (265, 0.0),\n",
       " (266, 0.0),\n",
       " (267, 0.0),\n",
       " (268, 0.0),\n",
       " (269, 0.0),\n",
       " (270, 0.021470734434860243),\n",
       " (271, 0.0),\n",
       " (272, 0.0),\n",
       " (273, 0.0),\n",
       " (274, 0.0),\n",
       " (275, 0.03265905578071967),\n",
       " (276, 0.0),\n",
       " (277, 0.015892061702049615),\n",
       " (278, 0.0),\n",
       " (279, 0.0),\n",
       " (280, 0.0),\n",
       " (281, 0.0699103290579774),\n",
       " (282, 0.0),\n",
       " (283, 0.0),\n",
       " (284, 0.0),\n",
       " (285, 0.0),\n",
       " (286, 0.0),\n",
       " (287, 0.0),\n",
       " (288, 0.0),\n",
       " (289, 0.0),\n",
       " (290, 0.0),\n",
       " (291, 0.0),\n",
       " (292, 0.0),\n",
       " (293, 0.0),\n",
       " (294, 0.0),\n",
       " (295, 0.0),\n",
       " (296, 0.0),\n",
       " (297, 0.0),\n",
       " (298, 0.0),\n",
       " (299, 0.0),\n",
       " (300, 0.0),\n",
       " (301, 0.021409585912668814),\n",
       " (302, 0.0),\n",
       " (303, 0.0),\n",
       " (304, 0.0),\n",
       " (305, 0.0),\n",
       " (306, 0.0),\n",
       " (307, 0.022194367066117767),\n",
       " (308, 0.0),\n",
       " (309, 0.0),\n",
       " (310, 0.0),\n",
       " (311, 0.10091388184065117),\n",
       " (312, 0.0671326953894372),\n",
       " (313, 0.03303373167406416),\n",
       " (314, 0.0),\n",
       " (315, 0.0),\n",
       " (316, 0.0),\n",
       " (317, 0.0),\n",
       " (318, 0.0),\n",
       " (319, 0.0),\n",
       " (320, 0.0),\n",
       " (321, 0.0),\n",
       " (322, 0.0),\n",
       " (323, 0.0),\n",
       " (324, 0.0),\n",
       " (325, 0.0),\n",
       " (326, 0.0),\n",
       " (327, 0.0),\n",
       " (328, 0.0),\n",
       " (329, 0.0),\n",
       " (330, 0.0),\n",
       " (331, 0.0),\n",
       " (332, 0.0),\n",
       " (333, 0.0),\n",
       " (334, 0.0),\n",
       " (335, 0.0),\n",
       " (336, 0.0),\n",
       " (337, 0.0),\n",
       " (338, 0.0),\n",
       " (339, 0.0),\n",
       " (340, 0.0),\n",
       " (341, 0.0),\n",
       " (342, 0.023794524481607675),\n",
       " (343, 0.017229086099229508),\n",
       " (344, 0.0),\n",
       " (345, 0.0),\n",
       " (346, 0.0),\n",
       " (347, 0.0),\n",
       " (348, 0.0),\n",
       " (349, 0.0),\n",
       " (350, 0.0),\n",
       " (351, 0.0),\n",
       " (352, 0.0),\n",
       " (353, 0.0),\n",
       " (354, 0.0),\n",
       " (355, 0.0),\n",
       " (356, 0.0),\n",
       " (357, 0.0),\n",
       " (358, 0.0),\n",
       " (359, 0.0),\n",
       " (360, 0.0),\n",
       " (361, 0.0),\n",
       " (362, 0.0),\n",
       " (363, 0.0),\n",
       " (364, 0.0),\n",
       " (365, 0.03657882540123637),\n",
       " (366, 0.0),\n",
       " (367, 0.0),\n",
       " (368, 0.0),\n",
       " (369, 0.05300098924470275),\n",
       " (370, 0.0),\n",
       " (371, 0.0),\n",
       " (372, 0.020735936546165023),\n",
       " (373, 0.04443314049472812),\n",
       " (374, 0.0),\n",
       " (375, 0.0),\n",
       " (376, 0.0),\n",
       " (377, 0.0),\n",
       " (378, 0.0),\n",
       " (379, 0.0),\n",
       " (380, 0.0),\n",
       " (381, 0.0),\n",
       " (382, 0.0),\n",
       " (383, 0.0),\n",
       " (384, 0.0),\n",
       " (385, 0.0),\n",
       " (386, 0.0),\n",
       " (387, 0.0),\n",
       " (388, 0.0),\n",
       " (389, 0.0),\n",
       " (390, 0.0),\n",
       " (391, 0.0),\n",
       " (392, 0.0),\n",
       " (393, 0.0),\n",
       " (394, 0.0),\n",
       " (395, 0.0),\n",
       " (396, 0.0),\n",
       " (397, 0.0),\n",
       " (398, 0.0),\n",
       " (399, 0.0),\n",
       " (400, 0.0),\n",
       " (401, 0.0),\n",
       " (402, 0.0),\n",
       " (403, 0.0),\n",
       " (404, 0.06009956529690274),\n",
       " (405, 0.0),\n",
       " (406, 0.016747487471142637),\n",
       " (407, 0.0),\n",
       " (408, 0.0),\n",
       " (409, 0.0),\n",
       " (410, 0.0),\n",
       " (411, 0.0),\n",
       " (412, 0.01687055268333849),\n",
       " (413, 0.0),\n",
       " (414, 0.0),\n",
       " (415, 0.0),\n",
       " (416, 0.0),\n",
       " (417, 0.0),\n",
       " (418, 0.0),\n",
       " (419, 0.0),\n",
       " (420, 0.02255485290093571),\n",
       " (421, 0.0),\n",
       " (422, 0.0),\n",
       " (423, 0.0),\n",
       " (424, 0.0),\n",
       " (425, 0.0),\n",
       " (426, 0.0),\n",
       " (427, 0.0),\n",
       " (428, 0.0),\n",
       " (429, 0.0),\n",
       " (430, 0.02776591216147135),\n",
       " (431, 0.0),\n",
       " (432, 0.02610015182727537),\n",
       " (433, 0.0),\n",
       " (434, 0.0),\n",
       " (435, 0.0),\n",
       " (436, 0.0),\n",
       " (437, 0.0),\n",
       " (438, 0.0),\n",
       " (439, 0.0),\n",
       " (440, 0.0),\n",
       " (441, 0.0),\n",
       " (442, 0.0),\n",
       " (443, 0.0),\n",
       " (444, 0.0),\n",
       " (445, 0.0),\n",
       " (446, 0.0),\n",
       " (447, 0.0),\n",
       " (448, 0.0),\n",
       " (449, 0.0),\n",
       " (450, 0.0),\n",
       " (451, 0.0),\n",
       " (452, 0.0),\n",
       " (453, 0.0),\n",
       " (454, 0.029683715377209593),\n",
       " (455, 0.0),\n",
       " (456, 0.01809767197857577),\n",
       " (457, 0.0),\n",
       " (458, 0.0),\n",
       " (459, 0.0),\n",
       " (460, 0.0),\n",
       " (461, 0.02175762778252732),\n",
       " (462, 0.0),\n",
       " (463, 0.0),\n",
       " (464, 0.0),\n",
       " (465, 0.0),\n",
       " (466, 0.03923759935588713),\n",
       " (467, 0.03440907786854097),\n",
       " (468, 0.0),\n",
       " (469, 0.0),\n",
       " (470, 0.0),\n",
       " (471, 0.0),\n",
       " (472, 0.0),\n",
       " (473, 0.03260911551788165),\n",
       " (474, 0.0),\n",
       " (475, 0.04644653205228709),\n",
       " (476, 0.0),\n",
       " (477, 0.0),\n",
       " (478, 0.0),\n",
       " (479, 0.0),\n",
       " (480, 0.0),\n",
       " (481, 0.0),\n",
       " (482, 0.0),\n",
       " (483, 0.04494674043593565),\n",
       " (484, 0.0),\n",
       " (485, 0.0),\n",
       " (486, 0.0),\n",
       " (487, 0.03920469830669222),\n",
       " (488, 0.026279379704825537),\n",
       " (489, 0.0),\n",
       " (490, 0.0),\n",
       " (491, 0.0),\n",
       " (492, 0.0),\n",
       " (493, 0.0),\n",
       " (494, 0.0),\n",
       " (495, 0.04089512610792396),\n",
       " (496, 0.0),\n",
       " (497, 0.0),\n",
       " (498, 0.0),\n",
       " (499, 0.0),\n",
       " (500, 0.0),\n",
       " (501, 0.0),\n",
       " (502, 0.02652851002563906),\n",
       " (503, 0.0),\n",
       " (504, 0.0),\n",
       " (505, 0.0),\n",
       " (506, 0.0),\n",
       " (507, 0.04517744711375713),\n",
       " (508, 0.0),\n",
       " (509, 0.0),\n",
       " (510, 0.0),\n",
       " (511, 0.0),\n",
       " (512, 0.0),\n",
       " (513, 0.04129006722051004),\n",
       " (514, 0.0),\n",
       " (515, 0.0),\n",
       " (516, 0.0),\n",
       " (517, 0.0),\n",
       " (518, 0.0),\n",
       " (519, 0.0),\n",
       " (520, 0.0),\n",
       " (521, 0.0),\n",
       " (522, 0.0),\n",
       " (523, 0.0),\n",
       " (524, 0.0),\n",
       " (525, 0.0),\n",
       " (526, 0.0),\n",
       " (527, 0.0),\n",
       " (528, 0.0),\n",
       " (529, 0.12248959164893028),\n",
       " (530, 0.0),\n",
       " (531, 0.0),\n",
       " (532, 0.0),\n",
       " (533, 0.0),\n",
       " (534, 0.0),\n",
       " (535, 0.036165962378131994),\n",
       " (536, 0.0),\n",
       " (537, 0.0),\n",
       " (538, 0.0),\n",
       " (539, 0.04313550433652452),\n",
       " (540, 0.0),\n",
       " (541, 0.0),\n",
       " (542, 0.0),\n",
       " (543, 0.0),\n",
       " (544, 0.0),\n",
       " (545, 0.0),\n",
       " (546, 0.0),\n",
       " (547, 0.0),\n",
       " (548, 0.0),\n",
       " (549, 0.03363868348522841),\n",
       " (550, 0.0),\n",
       " (551, 0.0),\n",
       " (552, 0.0),\n",
       " (553, 0.0),\n",
       " (554, 0.0),\n",
       " (555, 0.0),\n",
       " (556, 0.0),\n",
       " (557, 0.04162548311884122),\n",
       " (558, 0.0),\n",
       " (559, 0.0),\n",
       " (560, 0.0),\n",
       " (561, 0.0),\n",
       " (562, 0.0),\n",
       " (563, 0.0),\n",
       " (564, 0.0),\n",
       " (565, 0.0),\n",
       " (566, 0.0),\n",
       " (567, 0.0),\n",
       " (568, 0.047807053061429024),\n",
       " (569, 0.0),\n",
       " (570, 0.08077097525490028),\n",
       " (571, 0.0),\n",
       " (572, 0.0),\n",
       " (573, 0.0),\n",
       " (574, 0.0),\n",
       " (575, 0.0),\n",
       " (576, 0.0),\n",
       " (577, 0.0),\n",
       " (578, 0.0),\n",
       " (579, 0.0),\n",
       " (580, 0.0),\n",
       " (581, 0.037864564058534084),\n",
       " (582, 0.053085194509317916),\n",
       " (583, 0.0),\n",
       " (584, 0.0),\n",
       " (585, 0.0),\n",
       " (586, 0.0),\n",
       " (587, 0.0),\n",
       " (588, 0.02073909884635409),\n",
       " (589, 0.0),\n",
       " (590, 0.0),\n",
       " (591, 0.0),\n",
       " (592, 0.0),\n",
       " (593, 0.0),\n",
       " (594, 0.0),\n",
       " (595, 0.02351076105310096),\n",
       " (596, 0.01889911646725002),\n",
       " (597, 0.0),\n",
       " (598, 0.0),\n",
       " (599, 0.011305195818488966),\n",
       " (600, 0.0),\n",
       " (601, 0.0),\n",
       " (602, 0.0),\n",
       " (603, 0.0),\n",
       " (604, 0.0),\n",
       " (605, 0.0),\n",
       " (606, 0.0),\n",
       " (607, 0.0),\n",
       " (608, 0.0),\n",
       " (609, 0.0),\n",
       " (610, 0.0),\n",
       " (611, 0.0),\n",
       " (612, 0.0),\n",
       " (613, 0.0),\n",
       " (614, 0.06031174636398869),\n",
       " (615, 0.0),\n",
       " (616, 0.0),\n",
       " (617, 0.04571627911391384),\n",
       " (618, 0.0),\n",
       " (619, 0.0),\n",
       " (620, 0.0),\n",
       " (621, 0.0),\n",
       " (622, 0.0),\n",
       " (623, 0.0),\n",
       " (624, 0.0),\n",
       " (625, 0.0),\n",
       " (626, 0.04258263725533966),\n",
       " (627, 0.0),\n",
       " (628, 0.0),\n",
       " (629, 0.0),\n",
       " (630, 0.0),\n",
       " (631, 0.0),\n",
       " (632, 0.028956158569231883),\n",
       " (633, 0.0),\n",
       " (634, 0.13230696630317224),\n",
       " (635, 0.020538966140854924),\n",
       " (636, 0.0),\n",
       " (637, 0.036434035425775384),\n",
       " (638, 0.0),\n",
       " (639, 0.0),\n",
       " (640, 0.0),\n",
       " (641, 0.0),\n",
       " (642, 0.0),\n",
       " (643, 0.0),\n",
       " (644, 0.0),\n",
       " (645, 0.0),\n",
       " (646, 0.048169935318009616),\n",
       " (647, 0.0),\n",
       " (648, 0.0),\n",
       " (649, 0.0),\n",
       " (650, 0.0),\n",
       " (651, 0.0),\n",
       " (652, 0.0),\n",
       " (653, 0.0),\n",
       " (654, 0.0),\n",
       " (655, 0.0),\n",
       " (656, 0.0),\n",
       " (657, 0.0),\n",
       " (658, 0.0),\n",
       " (659, 0.0),\n",
       " (660, 0.0),\n",
       " (661, 0.0),\n",
       " (662, 0.0),\n",
       " (663, 0.0),\n",
       " (664, 0.0),\n",
       " (665, 0.0),\n",
       " (666, 0.0),\n",
       " (667, 0.0),\n",
       " (668, 0.0),\n",
       " (669, 0.0),\n",
       " (670, 0.0),\n",
       " (671, 0.0),\n",
       " (672, 0.02898697232295572),\n",
       " (673, 0.0),\n",
       " (674, 0.0),\n",
       " (675, 0.0),\n",
       " (676, 0.0),\n",
       " (677, 0.0),\n",
       " (678, 0.0),\n",
       " (679, 0.0),\n",
       " (680, 0.0),\n",
       " (681, 0.0),\n",
       " (682, 0.0),\n",
       " (683, 0.0),\n",
       " (684, 0.0),\n",
       " (685, 0.0),\n",
       " (686, 0.0),\n",
       " (687, 0.0),\n",
       " (688, 0.0),\n",
       " (689, 0.0),\n",
       " (690, 0.0),\n",
       " (691, 0.0),\n",
       " (692, 0.03206035530418174),\n",
       " (693, 0.0),\n",
       " (694, 0.0),\n",
       " (695, 0.0),\n",
       " (696, 0.0),\n",
       " (697, 0.0),\n",
       " (698, 0.0),\n",
       " (699, 0.0),\n",
       " (700, 0.0),\n",
       " (701, 0.0),\n",
       " (702, 0.0),\n",
       " (703, 0.0),\n",
       " (704, 0.0),\n",
       " (705, 0.0),\n",
       " (706, 0.0),\n",
       " (707, 0.0),\n",
       " (708, 0.0),\n",
       " (709, 0.0),\n",
       " (710, 0.0),\n",
       " (711, 0.0),\n",
       " (712, 0.0),\n",
       " (713, 0.0),\n",
       " (714, 0.0),\n",
       " (715, 0.0),\n",
       " (716, 0.0),\n",
       " (717, 0.0),\n",
       " (718, 0.0),\n",
       " (719, 0.0),\n",
       " (720, 0.0),\n",
       " (721, 0.0),\n",
       " (722, 0.0),\n",
       " (723, 0.0),\n",
       " (724, 0.0),\n",
       " (725, 0.0),\n",
       " (726, 0.0),\n",
       " (727, 0.0),\n",
       " (728, 0.0),\n",
       " (729, 0.0),\n",
       " (730, 0.0),\n",
       " (731, 0.0),\n",
       " (732, 0.0),\n",
       " (733, 0.0),\n",
       " (734, 0.0),\n",
       " (735, 0.0),\n",
       " (736, 0.0),\n",
       " (737, 0.0),\n",
       " (738, 0.0),\n",
       " (739, 0.0),\n",
       " (740, 0.0),\n",
       " (741, 0.0),\n",
       " (742, 0.0),\n",
       " (743, 0.0),\n",
       " (744, 0.0),\n",
       " (745, 0.0),\n",
       " (746, 0.0),\n",
       " (747, 0.0),\n",
       " (748, 0.0),\n",
       " (749, 0.0),\n",
       " (750, 0.0),\n",
       " (751, 0.0),\n",
       " (752, 0.0),\n",
       " (753, 0.0),\n",
       " (754, 0.0),\n",
       " (755, 0.0),\n",
       " (756, 0.0),\n",
       " (757, 0.0),\n",
       " (758, 0.023127346719994283),\n",
       " (759, 0.0),\n",
       " (760, 0.0),\n",
       " (761, 0.0),\n",
       " (762, 0.0),\n",
       " (763, 0.0),\n",
       " (764, 0.0),\n",
       " (765, 0.0),\n",
       " (766, 0.0),\n",
       " (767, 0.0),\n",
       " (768, 0.0),\n",
       " (769, 0.0),\n",
       " (770, 0.0),\n",
       " (771, 0.0),\n",
       " (772, 0.0),\n",
       " (773, 0.0),\n",
       " (774, 0.0),\n",
       " (775, 0.09447938436890335),\n",
       " (776, 0.0),\n",
       " (777, 0.0),\n",
       " (778, 0.0),\n",
       " (779, 0.0),\n",
       " (780, 0.0),\n",
       " (781, 0.0),\n",
       " (782, 0.022840816889601396),\n",
       " (783, 0.0),\n",
       " (784, 0.0),\n",
       " (785, 0.029161143906673063),\n",
       " (786, 0.0),\n",
       " (787, 0.02718737836955115),\n",
       " (788, 0.0),\n",
       " (789, 0.0),\n",
       " (790, 0.019839130080640793),\n",
       " (791, 0.0),\n",
       " (792, 0.0),\n",
       " (793, 0.0),\n",
       " (794, 0.019798257418193084),\n",
       " (795, 0.0),\n",
       " (796, 0.0),\n",
       " (797, 0.0),\n",
       " (798, 0.0),\n",
       " (799, 0.0),\n",
       " (800, 0.0),\n",
       " (801, 0.0),\n",
       " (802, 0.0),\n",
       " (803, 0.0),\n",
       " (804, 0.01952746537374202),\n",
       " (805, 0.0),\n",
       " (806, 0.0),\n",
       " (807, 0.0),\n",
       " (808, 0.0),\n",
       " (809, 0.0),\n",
       " (810, 0.0),\n",
       " (811, 0.0),\n",
       " (812, 0.0),\n",
       " (813, 0.0),\n",
       " (814, 0.0),\n",
       " (815, 0.0),\n",
       " (816, 0.0),\n",
       " (817, 0.0),\n",
       " (818, 0.0),\n",
       " (819, 0.0),\n",
       " (820, 0.0),\n",
       " (821, 0.0),\n",
       " (822, 0.0),\n",
       " (823, 0.062200311694291466),\n",
       " (824, 0.0),\n",
       " (825, 0.0),\n",
       " (826, 0.0),\n",
       " (827, 0.0),\n",
       " (828, 0.0),\n",
       " (829, 0.0),\n",
       " (830, 0.0),\n",
       " (831, 0.0),\n",
       " (832, 0.0),\n",
       " (833, 0.0),\n",
       " (834, 0.0),\n",
       " (835, 0.040731354394342785),\n",
       " (836, 0.0),\n",
       " (837, 0.0),\n",
       " (838, 0.024478629672101248),\n",
       " (839, 0.0),\n",
       " (840, 0.0),\n",
       " (841, 0.0),\n",
       " (842, 0.0),\n",
       " (843, 0.0),\n",
       " (844, 0.0),\n",
       " (845, 0.0),\n",
       " (846, 0.0),\n",
       " (847, 0.09799623121705058),\n",
       " (848, 0.0),\n",
       " (849, 0.0),\n",
       " (850, 0.0),\n",
       " (851, 0.0),\n",
       " (852, 0.0),\n",
       " (853, 0.0),\n",
       " (854, 0.023475523398751485),\n",
       " (855, 0.0),\n",
       " (856, 0.0),\n",
       " (857, 0.0),\n",
       " (858, 0.0),\n",
       " (859, 0.0),\n",
       " (860, 0.0),\n",
       " (861, 0.0),\n",
       " (862, 0.0),\n",
       " (863, 0.0),\n",
       " (864, 0.0),\n",
       " (865, 0.0),\n",
       " (866, 0.0),\n",
       " (867, 0.0),\n",
       " (868, 0.0),\n",
       " (869, 0.0),\n",
       " (870, 0.0),\n",
       " (871, 0.03529438406744968),\n",
       " (872, 0.0),\n",
       " (873, 0.0),\n",
       " (874, 0.0),\n",
       " (875, 0.03005701752433769),\n",
       " (876, 0.0),\n",
       " (877, 0.0),\n",
       " (878, 0.0),\n",
       " (879, 0.0),\n",
       " (880, 0.0),\n",
       " (881, 0.0),\n",
       " (882, 0.0),\n",
       " (883, 0.022746472656163023),\n",
       " (884, 0.0),\n",
       " (885, 0.0),\n",
       " (886, 0.0),\n",
       " (887, 0.0),\n",
       " (888, 0.0),\n",
       " (889, 0.0),\n",
       " (890, 0.0),\n",
       " (891, 0.0),\n",
       " (892, 0.0),\n",
       " (893, 0.0),\n",
       " (894, 0.05061767967036855),\n",
       " (895, 0.0),\n",
       " (896, 0.0),\n",
       " (897, 0.0),\n",
       " (898, 0.0),\n",
       " (899, 0.022182488221946496),\n",
       " (900, 0.0),\n",
       " (901, 0.022719632312045223),\n",
       " (902, 0.0),\n",
       " (903, 0.0),\n",
       " (904, 0.0),\n",
       " (905, 0.0),\n",
       " (906, 0.0),\n",
       " (907, 0.0),\n",
       " (908, 0.0),\n",
       " (909, 0.0),\n",
       " (910, 0.0),\n",
       " (911, 0.0),\n",
       " (912, 0.0),\n",
       " (913, 0.0),\n",
       " (914, 0.0),\n",
       " (915, 0.0),\n",
       " (916, 0.0),\n",
       " (917, 0.0),\n",
       " (918, 0.0),\n",
       " (919, 0.0),\n",
       " (920, 0.0),\n",
       " (921, 0.0),\n",
       " (922, 0.0),\n",
       " (923, 0.0),\n",
       " (924, 0.0),\n",
       " (925, 0.0),\n",
       " (926, 0.0),\n",
       " (927, 0.0),\n",
       " (928, 0.0),\n",
       " (929, 0.0),\n",
       " (930, 0.0),\n",
       " (931, 0.0),\n",
       " (932, 0.0),\n",
       " (933, 0.0),\n",
       " (934, 0.0),\n",
       " (935, 0.0),\n",
       " (936, 0.0),\n",
       " (937, 0.0),\n",
       " (938, 0.0),\n",
       " (939, 0.0),\n",
       " (940, 0.0),\n",
       " (941, 0.0),\n",
       " (942, 0.0924514241892011),\n",
       " (943, 0.0),\n",
       " (944, 0.0),\n",
       " (945, 0.0),\n",
       " (946, 0.03534592628030857),\n",
       " (947, 0.0),\n",
       " (948, 0.0),\n",
       " (949, 0.0),\n",
       " (950, 0.0),\n",
       " (951, 0.048520361915749384),\n",
       " (952, 0.0),\n",
       " (953, 0.0),\n",
       " (954, 0.0),\n",
       " (955, 0.0),\n",
       " (956, 0.0),\n",
       " (957, 0.0),\n",
       " (958, 0.0),\n",
       " (959, 0.0),\n",
       " (960, 0.0),\n",
       " (961, 0.0),\n",
       " (962, 0.0),\n",
       " (963, 0.0),\n",
       " (964, 0.0),\n",
       " (965, 0.0),\n",
       " (966, 0.0),\n",
       " (967, 0.0),\n",
       " (968, 0.0),\n",
       " (969, 0.0),\n",
       " (970, 0.0),\n",
       " (971, 0.0),\n",
       " (972, 0.06427195078268814),\n",
       " (973, 0.0),\n",
       " (974, 0.0),\n",
       " (975, 0.0),\n",
       " (976, 0.0),\n",
       " (977, 0.0),\n",
       " (978, 0.0),\n",
       " (979, 0.0),\n",
       " (980, 0.0),\n",
       " (981, 0.0),\n",
       " (982, 0.0),\n",
       " (983, 0.0),\n",
       " (984, 0.0),\n",
       " (985, 0.05495774887724781),\n",
       " (986, 0.0),\n",
       " (987, 0.0),\n",
       " (988, 0.0),\n",
       " (989, 0.0),\n",
       " (990, 0.0),\n",
       " (991, 0.0),\n",
       " (992, 0.0),\n",
       " (993, 0.0),\n",
       " (994, 0.0),\n",
       " (995, 0.0),\n",
       " (996, 0.0),\n",
       " (997, 0.0),\n",
       " (998, 0.0),\n",
       " (999, 0.019326530028230562),\n",
       " ...]"
      ]
     },
     "execution_count": 80,
     "metadata": {},
     "output_type": "execute_result"
    }
   ],
   "source": [
    "sim_scs"
   ]
  },
  {
   "cell_type": "code",
   "execution_count": 81,
   "metadata": {},
   "outputs": [
    {
     "data": {
      "text/plain": [
       "1254                     Get Carter\n",
       "4161    The Marine 4: Moving Target\n",
       "2932                   Raising Cain\n",
       "3349                      Desperado\n",
       "1307                  The Hurricane\n",
       "Name: title_y, dtype: object"
      ]
     },
     "execution_count": 81,
     "metadata": {},
     "output_type": "execute_result"
    }
   ],
   "source": [
    "get_5_rec('John Carter')"
   ]
  },
  {
   "cell_type": "markdown",
   "metadata": {},
   "source": [
    "## 8. Using Multi-features "
   ]
  },
  {
   "cell_type": "code",
   "execution_count": 82,
   "metadata": {},
   "outputs": [
    {
     "data": {
      "text/plain": [
       "Index(['budget', 'genres', 'keywords', 'original_language', 'original_title',\n",
       "       'overview', 'popularity', 'production_companies',\n",
       "       'production_countries', 'revenue', 'runtime', 'spoken_languages',\n",
       "       'status', 'title_x', 'vote_average', 'vote_count', 'title_y', 'cast',\n",
       "       'crew', 'Post Production', 'Released', 'Rumored', 'month', 'day',\n",
       "       'year'],\n",
       "      dtype='object')"
      ]
     },
     "execution_count": 82,
     "metadata": {},
     "output_type": "execute_result"
    }
   ],
   "source": [
    "df2.columns"
   ]
  },
  {
   "cell_type": "code",
   "execution_count": 83,
   "metadata": {},
   "outputs": [
    {
     "data": {
      "text/html": [
       "<div>\n",
       "<style scoped>\n",
       "    .dataframe tbody tr th:only-of-type {\n",
       "        vertical-align: middle;\n",
       "    }\n",
       "\n",
       "    .dataframe tbody tr th {\n",
       "        vertical-align: top;\n",
       "    }\n",
       "\n",
       "    .dataframe thead th {\n",
       "        text-align: right;\n",
       "    }\n",
       "</style>\n",
       "<table border=\"1\" class=\"dataframe\">\n",
       "  <thead>\n",
       "    <tr style=\"text-align: right;\">\n",
       "      <th></th>\n",
       "      <th>budget</th>\n",
       "      <th>genres</th>\n",
       "      <th>keywords</th>\n",
       "      <th>original_language</th>\n",
       "      <th>original_title</th>\n",
       "      <th>overview</th>\n",
       "      <th>popularity</th>\n",
       "      <th>production_companies</th>\n",
       "      <th>production_countries</th>\n",
       "      <th>revenue</th>\n",
       "      <th>...</th>\n",
       "      <th>vote_count</th>\n",
       "      <th>title_y</th>\n",
       "      <th>cast</th>\n",
       "      <th>crew</th>\n",
       "      <th>Post Production</th>\n",
       "      <th>Released</th>\n",
       "      <th>Rumored</th>\n",
       "      <th>month</th>\n",
       "      <th>day</th>\n",
       "      <th>year</th>\n",
       "    </tr>\n",
       "  </thead>\n",
       "  <tbody>\n",
       "    <tr>\n",
       "      <th>0</th>\n",
       "      <td>237000000</td>\n",
       "      <td>[{\"id\": 28, \"name\": \"Action\"}, {\"id\": 12, \"nam...</td>\n",
       "      <td>[{\"id\": 1463, \"name\": \"culture clash\"}, {\"id\":...</td>\n",
       "      <td>en</td>\n",
       "      <td>Avatar</td>\n",
       "      <td>In the 22nd century, a paraplegic Marine is di...</td>\n",
       "      <td>150.437577</td>\n",
       "      <td>[{\"name\": \"Ingenious Film Partners\", \"id\": 289...</td>\n",
       "      <td>[{\"iso_3166_1\": \"US\", \"name\": \"United States o...</td>\n",
       "      <td>2787965087</td>\n",
       "      <td>...</td>\n",
       "      <td>11800</td>\n",
       "      <td>Avatar</td>\n",
       "      <td>[{\"cast_id\": 242, \"character\": \"Jake Sully\", \"...</td>\n",
       "      <td>[{\"credit_id\": \"52fe48009251416c750aca23\", \"de...</td>\n",
       "      <td>0</td>\n",
       "      <td>1</td>\n",
       "      <td>0</td>\n",
       "      <td>12</td>\n",
       "      <td>10</td>\n",
       "      <td>2009</td>\n",
       "    </tr>\n",
       "    <tr>\n",
       "      <th>1</th>\n",
       "      <td>300000000</td>\n",
       "      <td>[{\"id\": 12, \"name\": \"Adventure\"}, {\"id\": 14, \"...</td>\n",
       "      <td>[{\"id\": 270, \"name\": \"ocean\"}, {\"id\": 726, \"na...</td>\n",
       "      <td>en</td>\n",
       "      <td>Pirates of the Caribbean: At World's End</td>\n",
       "      <td>Captain Barbossa, long believed to be dead, ha...</td>\n",
       "      <td>139.082615</td>\n",
       "      <td>[{\"name\": \"Walt Disney Pictures\", \"id\": 2}, {\"...</td>\n",
       "      <td>[{\"iso_3166_1\": \"US\", \"name\": \"United States o...</td>\n",
       "      <td>961000000</td>\n",
       "      <td>...</td>\n",
       "      <td>4500</td>\n",
       "      <td>Pirates of the Caribbean: At World's End</td>\n",
       "      <td>[{\"cast_id\": 4, \"character\": \"Captain Jack Spa...</td>\n",
       "      <td>[{\"credit_id\": \"52fe4232c3a36847f800b579\", \"de...</td>\n",
       "      <td>0</td>\n",
       "      <td>1</td>\n",
       "      <td>0</td>\n",
       "      <td>5</td>\n",
       "      <td>19</td>\n",
       "      <td>2007</td>\n",
       "    </tr>\n",
       "    <tr>\n",
       "      <th>2</th>\n",
       "      <td>245000000</td>\n",
       "      <td>[{\"id\": 28, \"name\": \"Action\"}, {\"id\": 12, \"nam...</td>\n",
       "      <td>[{\"id\": 470, \"name\": \"spy\"}, {\"id\": 818, \"name...</td>\n",
       "      <td>en</td>\n",
       "      <td>Spectre</td>\n",
       "      <td>A cryptic message from Bond’s past sends him o...</td>\n",
       "      <td>107.376788</td>\n",
       "      <td>[{\"name\": \"Columbia Pictures\", \"id\": 5}, {\"nam...</td>\n",
       "      <td>[{\"iso_3166_1\": \"GB\", \"name\": \"United Kingdom\"...</td>\n",
       "      <td>880674609</td>\n",
       "      <td>...</td>\n",
       "      <td>4466</td>\n",
       "      <td>Spectre</td>\n",
       "      <td>[{\"cast_id\": 1, \"character\": \"James Bond\", \"cr...</td>\n",
       "      <td>[{\"credit_id\": \"54805967c3a36829b5002c41\", \"de...</td>\n",
       "      <td>0</td>\n",
       "      <td>1</td>\n",
       "      <td>0</td>\n",
       "      <td>10</td>\n",
       "      <td>26</td>\n",
       "      <td>2015</td>\n",
       "    </tr>\n",
       "    <tr>\n",
       "      <th>3</th>\n",
       "      <td>250000000</td>\n",
       "      <td>[{\"id\": 28, \"name\": \"Action\"}, {\"id\": 80, \"nam...</td>\n",
       "      <td>[{\"id\": 849, \"name\": \"dc comics\"}, {\"id\": 853,...</td>\n",
       "      <td>en</td>\n",
       "      <td>The Dark Knight Rises</td>\n",
       "      <td>Following the death of District Attorney Harve...</td>\n",
       "      <td>112.312950</td>\n",
       "      <td>[{\"name\": \"Legendary Pictures\", \"id\": 923}, {\"...</td>\n",
       "      <td>[{\"iso_3166_1\": \"US\", \"name\": \"United States o...</td>\n",
       "      <td>1084939099</td>\n",
       "      <td>...</td>\n",
       "      <td>9106</td>\n",
       "      <td>The Dark Knight Rises</td>\n",
       "      <td>[{\"cast_id\": 2, \"character\": \"Bruce Wayne / Ba...</td>\n",
       "      <td>[{\"credit_id\": \"52fe4781c3a36847f81398c3\", \"de...</td>\n",
       "      <td>0</td>\n",
       "      <td>1</td>\n",
       "      <td>0</td>\n",
       "      <td>7</td>\n",
       "      <td>16</td>\n",
       "      <td>2012</td>\n",
       "    </tr>\n",
       "  </tbody>\n",
       "</table>\n",
       "<p>4 rows × 25 columns</p>\n",
       "</div>"
      ],
      "text/plain": [
       "      budget                                             genres  \\\n",
       "0  237000000  [{\"id\": 28, \"name\": \"Action\"}, {\"id\": 12, \"nam...   \n",
       "1  300000000  [{\"id\": 12, \"name\": \"Adventure\"}, {\"id\": 14, \"...   \n",
       "2  245000000  [{\"id\": 28, \"name\": \"Action\"}, {\"id\": 12, \"nam...   \n",
       "3  250000000  [{\"id\": 28, \"name\": \"Action\"}, {\"id\": 80, \"nam...   \n",
       "\n",
       "                                            keywords original_language  \\\n",
       "0  [{\"id\": 1463, \"name\": \"culture clash\"}, {\"id\":...                en   \n",
       "1  [{\"id\": 270, \"name\": \"ocean\"}, {\"id\": 726, \"na...                en   \n",
       "2  [{\"id\": 470, \"name\": \"spy\"}, {\"id\": 818, \"name...                en   \n",
       "3  [{\"id\": 849, \"name\": \"dc comics\"}, {\"id\": 853,...                en   \n",
       "\n",
       "                             original_title  \\\n",
       "0                                    Avatar   \n",
       "1  Pirates of the Caribbean: At World's End   \n",
       "2                                   Spectre   \n",
       "3                     The Dark Knight Rises   \n",
       "\n",
       "                                            overview  popularity  \\\n",
       "0  In the 22nd century, a paraplegic Marine is di...  150.437577   \n",
       "1  Captain Barbossa, long believed to be dead, ha...  139.082615   \n",
       "2  A cryptic message from Bond’s past sends him o...  107.376788   \n",
       "3  Following the death of District Attorney Harve...  112.312950   \n",
       "\n",
       "                                production_companies  \\\n",
       "0  [{\"name\": \"Ingenious Film Partners\", \"id\": 289...   \n",
       "1  [{\"name\": \"Walt Disney Pictures\", \"id\": 2}, {\"...   \n",
       "2  [{\"name\": \"Columbia Pictures\", \"id\": 5}, {\"nam...   \n",
       "3  [{\"name\": \"Legendary Pictures\", \"id\": 923}, {\"...   \n",
       "\n",
       "                                production_countries     revenue  ...  \\\n",
       "0  [{\"iso_3166_1\": \"US\", \"name\": \"United States o...  2787965087  ...   \n",
       "1  [{\"iso_3166_1\": \"US\", \"name\": \"United States o...   961000000  ...   \n",
       "2  [{\"iso_3166_1\": \"GB\", \"name\": \"United Kingdom\"...   880674609  ...   \n",
       "3  [{\"iso_3166_1\": \"US\", \"name\": \"United States o...  1084939099  ...   \n",
       "\n",
       "   vote_count                                   title_y  \\\n",
       "0       11800                                    Avatar   \n",
       "1        4500  Pirates of the Caribbean: At World's End   \n",
       "2        4466                                   Spectre   \n",
       "3        9106                     The Dark Knight Rises   \n",
       "\n",
       "                                                cast  \\\n",
       "0  [{\"cast_id\": 242, \"character\": \"Jake Sully\", \"...   \n",
       "1  [{\"cast_id\": 4, \"character\": \"Captain Jack Spa...   \n",
       "2  [{\"cast_id\": 1, \"character\": \"James Bond\", \"cr...   \n",
       "3  [{\"cast_id\": 2, \"character\": \"Bruce Wayne / Ba...   \n",
       "\n",
       "                                                crew  Post Production  \\\n",
       "0  [{\"credit_id\": \"52fe48009251416c750aca23\", \"de...                0   \n",
       "1  [{\"credit_id\": \"52fe4232c3a36847f800b579\", \"de...                0   \n",
       "2  [{\"credit_id\": \"54805967c3a36829b5002c41\", \"de...                0   \n",
       "3  [{\"credit_id\": \"52fe4781c3a36847f81398c3\", \"de...                0   \n",
       "\n",
       "   Released Rumored month day  year  \n",
       "0         1       0    12  10  2009  \n",
       "1         1       0     5  19  2007  \n",
       "2         1       0    10  26  2015  \n",
       "3         1       0     7  16  2012  \n",
       "\n",
       "[4 rows x 25 columns]"
      ]
     },
     "execution_count": 83,
     "metadata": {},
     "output_type": "execute_result"
    }
   ],
   "source": [
    "df2.head(4)"
   ]
  },
  {
   "cell_type": "code",
   "execution_count": 84,
   "metadata": {},
   "outputs": [],
   "source": [
    "from ast import literal_eval"
   ]
  },
  {
   "cell_type": "code",
   "execution_count": 85,
   "metadata": {},
   "outputs": [],
   "source": [
    "features = ['cast','crew', 'keywords', 'genres']"
   ]
  },
  {
   "cell_type": "code",
   "execution_count": 86,
   "metadata": {},
   "outputs": [],
   "source": [
    "for x in features:\n",
    "    df2[x] = df2[x].apply(literal_eval)"
   ]
  },
  {
   "cell_type": "code",
   "execution_count": 87,
   "metadata": {},
   "outputs": [
    {
     "data": {
      "text/plain": [
       "[{'credit_id': '52fe48009251416c750aca23',\n",
       "  'department': 'Editing',\n",
       "  'gender': 0,\n",
       "  'id': 1721,\n",
       "  'job': 'Editor',\n",
       "  'name': 'Stephen E. Rivkin'},\n",
       " {'credit_id': '539c47ecc3a36810e3001f87',\n",
       "  'department': 'Art',\n",
       "  'gender': 2,\n",
       "  'id': 496,\n",
       "  'job': 'Production Design',\n",
       "  'name': 'Rick Carter'},\n",
       " {'credit_id': '54491c89c3a3680fb4001cf7',\n",
       "  'department': 'Sound',\n",
       "  'gender': 0,\n",
       "  'id': 900,\n",
       "  'job': 'Sound Designer',\n",
       "  'name': 'Christopher Boyes'},\n",
       " {'credit_id': '54491cb70e0a267480001bd0',\n",
       "  'department': 'Sound',\n",
       "  'gender': 0,\n",
       "  'id': 900,\n",
       "  'job': 'Supervising Sound Editor',\n",
       "  'name': 'Christopher Boyes'},\n",
       " {'credit_id': '539c4a4cc3a36810c9002101',\n",
       "  'department': 'Production',\n",
       "  'gender': 1,\n",
       "  'id': 1262,\n",
       "  'job': 'Casting',\n",
       "  'name': 'Mali Finn'},\n",
       " {'credit_id': '5544ee3b925141499f0008fc',\n",
       "  'department': 'Sound',\n",
       "  'gender': 2,\n",
       "  'id': 1729,\n",
       "  'job': 'Original Music Composer',\n",
       "  'name': 'James Horner'},\n",
       " {'credit_id': '52fe48009251416c750ac9c3',\n",
       "  'department': 'Directing',\n",
       "  'gender': 2,\n",
       "  'id': 2710,\n",
       "  'job': 'Director',\n",
       "  'name': 'James Cameron'},\n",
       " {'credit_id': '52fe48009251416c750ac9d9',\n",
       "  'department': 'Writing',\n",
       "  'gender': 2,\n",
       "  'id': 2710,\n",
       "  'job': 'Writer',\n",
       "  'name': 'James Cameron'},\n",
       " {'credit_id': '52fe48009251416c750aca17',\n",
       "  'department': 'Editing',\n",
       "  'gender': 2,\n",
       "  'id': 2710,\n",
       "  'job': 'Editor',\n",
       "  'name': 'James Cameron'},\n",
       " {'credit_id': '52fe48009251416c750aca29',\n",
       "  'department': 'Production',\n",
       "  'gender': 2,\n",
       "  'id': 2710,\n",
       "  'job': 'Producer',\n",
       "  'name': 'James Cameron'},\n",
       " {'credit_id': '52fe48009251416c750aca3f',\n",
       "  'department': 'Writing',\n",
       "  'gender': 2,\n",
       "  'id': 2710,\n",
       "  'job': 'Screenplay',\n",
       "  'name': 'James Cameron'},\n",
       " {'credit_id': '539c4987c3a36810ba0021a4',\n",
       "  'department': 'Art',\n",
       "  'gender': 2,\n",
       "  'id': 7236,\n",
       "  'job': 'Art Direction',\n",
       "  'name': 'Andrew Menzies'},\n",
       " {'credit_id': '549598c3c3a3686ae9004383',\n",
       "  'department': 'Visual Effects',\n",
       "  'gender': 0,\n",
       "  'id': 6690,\n",
       "  'job': 'Visual Effects Producer',\n",
       "  'name': 'Jill Brooks'},\n",
       " {'credit_id': '52fe48009251416c750aca4b',\n",
       "  'department': 'Production',\n",
       "  'gender': 1,\n",
       "  'id': 6347,\n",
       "  'job': 'Casting',\n",
       "  'name': 'Margery Simkin'},\n",
       " {'credit_id': '570b6f419251417da70032fe',\n",
       "  'department': 'Art',\n",
       "  'gender': 2,\n",
       "  'id': 6878,\n",
       "  'job': 'Supervising Art Director',\n",
       "  'name': 'Kevin Ishioka'},\n",
       " {'credit_id': '5495a0fac3a3686ae9004468',\n",
       "  'department': 'Sound',\n",
       "  'gender': 0,\n",
       "  'id': 6883,\n",
       "  'job': 'Music Editor',\n",
       "  'name': 'Dick Bernstein'},\n",
       " {'credit_id': '54959706c3a3686af3003e81',\n",
       "  'department': 'Sound',\n",
       "  'gender': 0,\n",
       "  'id': 8159,\n",
       "  'job': 'Sound Effects Editor',\n",
       "  'name': 'Shannon Mills'},\n",
       " {'credit_id': '54491d58c3a3680fb1001ccb',\n",
       "  'department': 'Sound',\n",
       "  'gender': 0,\n",
       "  'id': 8160,\n",
       "  'job': 'Foley',\n",
       "  'name': 'Dennie Thorpe'},\n",
       " {'credit_id': '54491d6cc3a3680fa5001b2c',\n",
       "  'department': 'Sound',\n",
       "  'gender': 0,\n",
       "  'id': 8163,\n",
       "  'job': 'Foley',\n",
       "  'name': 'Jana Vance'},\n",
       " {'credit_id': '52fe48009251416c750aca57',\n",
       "  'department': 'Costume & Make-Up',\n",
       "  'gender': 1,\n",
       "  'id': 8527,\n",
       "  'job': 'Costume Design',\n",
       "  'name': 'Deborah Lynn Scott'},\n",
       " {'credit_id': '52fe48009251416c750aca2f',\n",
       "  'department': 'Production',\n",
       "  'gender': 2,\n",
       "  'id': 8529,\n",
       "  'job': 'Producer',\n",
       "  'name': 'Jon Landau'},\n",
       " {'credit_id': '539c4937c3a36810ba002194',\n",
       "  'department': 'Art',\n",
       "  'gender': 0,\n",
       "  'id': 9618,\n",
       "  'job': 'Art Direction',\n",
       "  'name': 'Sean Haworth'},\n",
       " {'credit_id': '539c49b6c3a36810c10020e6',\n",
       "  'department': 'Art',\n",
       "  'gender': 1,\n",
       "  'id': 12653,\n",
       "  'job': 'Set Decoration',\n",
       "  'name': 'Kim Sinclair'},\n",
       " {'credit_id': '570b6f2f9251413a0e00020d',\n",
       "  'department': 'Art',\n",
       "  'gender': 1,\n",
       "  'id': 12653,\n",
       "  'job': 'Supervising Art Director',\n",
       "  'name': 'Kim Sinclair'},\n",
       " {'credit_id': '54491a6c0e0a26748c001b19',\n",
       "  'department': 'Art',\n",
       "  'gender': 2,\n",
       "  'id': 14350,\n",
       "  'job': 'Set Designer',\n",
       "  'name': 'Richard F. Mays'},\n",
       " {'credit_id': '56928cf4c3a3684cff0025c4',\n",
       "  'department': 'Production',\n",
       "  'gender': 1,\n",
       "  'id': 20294,\n",
       "  'job': 'Executive Producer',\n",
       "  'name': 'Laeta Kalogridis'},\n",
       " {'credit_id': '52fe48009251416c750aca51',\n",
       "  'department': 'Costume & Make-Up',\n",
       "  'gender': 0,\n",
       "  'id': 17675,\n",
       "  'job': 'Costume Design',\n",
       "  'name': 'Mayes C. Rubeo'},\n",
       " {'credit_id': '52fe48009251416c750aca11',\n",
       "  'department': 'Camera',\n",
       "  'gender': 2,\n",
       "  'id': 18265,\n",
       "  'job': 'Director of Photography',\n",
       "  'name': 'Mauro Fiore'},\n",
       " {'credit_id': '5449194d0e0a26748f001b39',\n",
       "  'department': 'Art',\n",
       "  'gender': 0,\n",
       "  'id': 42281,\n",
       "  'job': 'Set Designer',\n",
       "  'name': 'Scott Herbertson'},\n",
       " {'credit_id': '52fe48009251416c750aca05',\n",
       "  'department': 'Crew',\n",
       "  'gender': 0,\n",
       "  'id': 42288,\n",
       "  'job': 'Stunts',\n",
       "  'name': 'Woody Schultz'},\n",
       " {'credit_id': '5592aefb92514152de0010f5',\n",
       "  'department': 'Costume & Make-Up',\n",
       "  'gender': 0,\n",
       "  'id': 29067,\n",
       "  'job': 'Makeup Artist',\n",
       "  'name': 'Linda DeVetta'},\n",
       " {'credit_id': '5592afa492514152de00112c',\n",
       "  'department': 'Costume & Make-Up',\n",
       "  'gender': 0,\n",
       "  'id': 29067,\n",
       "  'job': 'Hairstylist',\n",
       "  'name': 'Linda DeVetta'},\n",
       " {'credit_id': '54959ed592514130fc002e5d',\n",
       "  'department': 'Camera',\n",
       "  'gender': 2,\n",
       "  'id': 33302,\n",
       "  'job': 'Camera Operator',\n",
       "  'name': 'Richard Bluck'},\n",
       " {'credit_id': '539c4891c3a36810ba002147',\n",
       "  'department': 'Art',\n",
       "  'gender': 2,\n",
       "  'id': 33303,\n",
       "  'job': 'Art Direction',\n",
       "  'name': 'Simon Bright'},\n",
       " {'credit_id': '54959c069251417a81001f3a',\n",
       "  'department': 'Visual Effects',\n",
       "  'gender': 0,\n",
       "  'id': 113145,\n",
       "  'job': 'Visual Effects Supervisor',\n",
       "  'name': 'Richard Martin'},\n",
       " {'credit_id': '54959a0dc3a3680ff5002c8d',\n",
       "  'department': 'Crew',\n",
       "  'gender': 2,\n",
       "  'id': 58188,\n",
       "  'job': 'Visual Effects Editor',\n",
       "  'name': 'Steve R. Moore'},\n",
       " {'credit_id': '52fe48009251416c750aca1d',\n",
       "  'department': 'Editing',\n",
       "  'gender': 2,\n",
       "  'id': 58871,\n",
       "  'job': 'Editor',\n",
       "  'name': 'John Refoua'},\n",
       " {'credit_id': '54491a4dc3a3680fc30018ca',\n",
       "  'department': 'Art',\n",
       "  'gender': 0,\n",
       "  'id': 92359,\n",
       "  'job': 'Set Designer',\n",
       "  'name': 'Karl J. Martin'},\n",
       " {'credit_id': '52fe48009251416c750aca35',\n",
       "  'department': 'Camera',\n",
       "  'gender': 1,\n",
       "  'id': 72201,\n",
       "  'job': 'Director of Photography',\n",
       "  'name': 'Chiling Lin'},\n",
       " {'credit_id': '52fe48009251416c750ac9ff',\n",
       "  'department': 'Crew',\n",
       "  'gender': 0,\n",
       "  'id': 89714,\n",
       "  'job': 'Stunts',\n",
       "  'name': 'Ilram Choi'},\n",
       " {'credit_id': '54959c529251416e2b004394',\n",
       "  'department': 'Visual Effects',\n",
       "  'gender': 2,\n",
       "  'id': 93214,\n",
       "  'job': 'Visual Effects Supervisor',\n",
       "  'name': 'Steven Quale'},\n",
       " {'credit_id': '54491edf0e0a267489001c37',\n",
       "  'department': 'Crew',\n",
       "  'gender': 1,\n",
       "  'id': 122607,\n",
       "  'job': 'Dialect Coach',\n",
       "  'name': 'Carla Meyer'},\n",
       " {'credit_id': '539c485bc3a368653d001a3a',\n",
       "  'department': 'Art',\n",
       "  'gender': 2,\n",
       "  'id': 132585,\n",
       "  'job': 'Art Direction',\n",
       "  'name': 'Nick Bassett'},\n",
       " {'credit_id': '539c4903c3a368653d001a74',\n",
       "  'department': 'Art',\n",
       "  'gender': 0,\n",
       "  'id': 132596,\n",
       "  'job': 'Art Direction',\n",
       "  'name': 'Jill Cormack'},\n",
       " {'credit_id': '539c4967c3a368653d001a94',\n",
       "  'department': 'Art',\n",
       "  'gender': 0,\n",
       "  'id': 132604,\n",
       "  'job': 'Art Direction',\n",
       "  'name': 'Andy McLaren'},\n",
       " {'credit_id': '52fe48009251416c750aca45',\n",
       "  'department': 'Crew',\n",
       "  'gender': 0,\n",
       "  'id': 236696,\n",
       "  'job': 'Motion Capture Artist',\n",
       "  'name': 'Terry Notary'},\n",
       " {'credit_id': '54959e02c3a3680fc60027d2',\n",
       "  'department': 'Crew',\n",
       "  'gender': 2,\n",
       "  'id': 956198,\n",
       "  'job': 'Stunt Coordinator',\n",
       "  'name': 'Garrett Warren'},\n",
       " {'credit_id': '54959ca3c3a3686ae300438c',\n",
       "  'department': 'Visual Effects',\n",
       "  'gender': 2,\n",
       "  'id': 957874,\n",
       "  'job': 'Visual Effects Supervisor',\n",
       "  'name': 'Jonathan Rothbart'},\n",
       " {'credit_id': '570b6f519251412c74001b2f',\n",
       "  'department': 'Art',\n",
       "  'gender': 0,\n",
       "  'id': 957889,\n",
       "  'job': 'Supervising Art Director',\n",
       "  'name': 'Stefan Dechant'},\n",
       " {'credit_id': '570b6f62c3a3680b77007460',\n",
       "  'department': 'Art',\n",
       "  'gender': 2,\n",
       "  'id': 959555,\n",
       "  'job': 'Supervising Art Director',\n",
       "  'name': 'Todd Cherniawsky'},\n",
       " {'credit_id': '539c4a3ac3a36810da0021cc',\n",
       "  'department': 'Production',\n",
       "  'gender': 0,\n",
       "  'id': 1016177,\n",
       "  'job': 'Casting',\n",
       "  'name': 'Miranda Rivers'},\n",
       " {'credit_id': '539c482cc3a36810c1002062',\n",
       "  'department': 'Art',\n",
       "  'gender': 0,\n",
       "  'id': 1032536,\n",
       "  'job': 'Production Design',\n",
       "  'name': 'Robert Stromberg'},\n",
       " {'credit_id': '539c4b65c3a36810c9002125',\n",
       "  'department': 'Costume & Make-Up',\n",
       "  'gender': 2,\n",
       "  'id': 1071680,\n",
       "  'job': 'Costume Design',\n",
       "  'name': 'John Harding'},\n",
       " {'credit_id': '54959e6692514130fc002e4e',\n",
       "  'department': 'Camera',\n",
       "  'gender': 0,\n",
       "  'id': 1177364,\n",
       "  'job': 'Steadicam Operator',\n",
       "  'name': 'Roberto De Angelis'},\n",
       " {'credit_id': '539c49f1c3a368653d001aac',\n",
       "  'department': 'Costume & Make-Up',\n",
       "  'gender': 2,\n",
       "  'id': 1202850,\n",
       "  'job': 'Makeup Department Head',\n",
       "  'name': 'Mike Smithson'},\n",
       " {'credit_id': '5495999ec3a3686ae100460c',\n",
       "  'department': 'Visual Effects',\n",
       "  'gender': 0,\n",
       "  'id': 1204668,\n",
       "  'job': 'Visual Effects Producer',\n",
       "  'name': 'Alain Lalanne'},\n",
       " {'credit_id': '54959cdfc3a3681153002729',\n",
       "  'department': 'Visual Effects',\n",
       "  'gender': 0,\n",
       "  'id': 1206410,\n",
       "  'job': 'Visual Effects Supervisor',\n",
       "  'name': 'Lucas Salton'},\n",
       " {'credit_id': '549596239251417a81001eae',\n",
       "  'department': 'Crew',\n",
       "  'gender': 0,\n",
       "  'id': 1234266,\n",
       "  'job': 'Post Production Supervisor',\n",
       "  'name': 'Janace Tashjian'},\n",
       " {'credit_id': '54959c859251416e1e003efe',\n",
       "  'department': 'Visual Effects',\n",
       "  'gender': 0,\n",
       "  'id': 1271932,\n",
       "  'job': 'Visual Effects Supervisor',\n",
       "  'name': 'Stephen Rosenbaum'},\n",
       " {'credit_id': '5592af28c3a368775a00105f',\n",
       "  'department': 'Costume & Make-Up',\n",
       "  'gender': 0,\n",
       "  'id': 1310064,\n",
       "  'job': 'Makeup Artist',\n",
       "  'name': 'Frankie Karena'},\n",
       " {'credit_id': '539c4adfc3a36810e300203b',\n",
       "  'department': 'Costume & Make-Up',\n",
       "  'gender': 1,\n",
       "  'id': 1319844,\n",
       "  'job': 'Costume Supervisor',\n",
       "  'name': 'Lisa Lovaas'},\n",
       " {'credit_id': '54959b579251416e2b004371',\n",
       "  'department': 'Visual Effects',\n",
       "  'gender': 0,\n",
       "  'id': 1327028,\n",
       "  'job': 'Visual Effects Supervisor',\n",
       "  'name': 'Jonathan Fawkner'},\n",
       " {'credit_id': '539c48a7c3a36810b5001fa7',\n",
       "  'department': 'Art',\n",
       "  'gender': 0,\n",
       "  'id': 1330561,\n",
       "  'job': 'Art Direction',\n",
       "  'name': 'Robert Bavin'},\n",
       " {'credit_id': '539c4a71c3a36810da0021e0',\n",
       "  'department': 'Costume & Make-Up',\n",
       "  'gender': 0,\n",
       "  'id': 1330567,\n",
       "  'job': 'Costume Supervisor',\n",
       "  'name': 'Anthony Almaraz'},\n",
       " {'credit_id': '539c4a8ac3a36810ba0021e4',\n",
       "  'department': 'Costume & Make-Up',\n",
       "  'gender': 0,\n",
       "  'id': 1330570,\n",
       "  'job': 'Costume Supervisor',\n",
       "  'name': 'Carolyn M. Fenton'},\n",
       " {'credit_id': '539c4ab6c3a36810da0021f0',\n",
       "  'department': 'Costume & Make-Up',\n",
       "  'gender': 0,\n",
       "  'id': 1330574,\n",
       "  'job': 'Costume Supervisor',\n",
       "  'name': 'Beth Koenigsberg'},\n",
       " {'credit_id': '54491ab70e0a267480001ba2',\n",
       "  'department': 'Art',\n",
       "  'gender': 0,\n",
       "  'id': 1336191,\n",
       "  'job': 'Set Designer',\n",
       "  'name': 'Sam Page'},\n",
       " {'credit_id': '544919d9c3a3680fc30018bd',\n",
       "  'department': 'Art',\n",
       "  'gender': 0,\n",
       "  'id': 1339441,\n",
       "  'job': 'Set Designer',\n",
       "  'name': 'Tex Kadonaga'},\n",
       " {'credit_id': '54491cf50e0a267483001b0c',\n",
       "  'department': 'Editing',\n",
       "  'gender': 0,\n",
       "  'id': 1352422,\n",
       "  'job': 'Dialogue Editor',\n",
       "  'name': 'Kim Foscato'},\n",
       " {'credit_id': '544919f40e0a26748c001b09',\n",
       "  'department': 'Art',\n",
       "  'gender': 0,\n",
       "  'id': 1352962,\n",
       "  'job': 'Set Designer',\n",
       "  'name': 'Tammy S. Lee'},\n",
       " {'credit_id': '5495a115c3a3680ff5002d71',\n",
       "  'department': 'Crew',\n",
       "  'gender': 0,\n",
       "  'id': 1357070,\n",
       "  'job': 'Transportation Coordinator',\n",
       "  'name': 'Denny Caira'},\n",
       " {'credit_id': '5495a12f92514130fc002e94',\n",
       "  'department': 'Crew',\n",
       "  'gender': 0,\n",
       "  'id': 1357071,\n",
       "  'job': 'Transportation Coordinator',\n",
       "  'name': 'James Waitkus'},\n",
       " {'credit_id': '5495976fc3a36811530026b0',\n",
       "  'department': 'Sound',\n",
       "  'gender': 0,\n",
       "  'id': 1360103,\n",
       "  'job': 'Supervising Sound Editor',\n",
       "  'name': 'Addison Teague'},\n",
       " {'credit_id': '54491837c3a3680fb1001c5a',\n",
       "  'department': 'Art',\n",
       "  'gender': 2,\n",
       "  'id': 1376887,\n",
       "  'job': 'Set Designer',\n",
       "  'name': 'C. Scott Baker'},\n",
       " {'credit_id': '54491878c3a3680fb4001c9d',\n",
       "  'department': 'Art',\n",
       "  'gender': 0,\n",
       "  'id': 1376888,\n",
       "  'job': 'Set Designer',\n",
       "  'name': 'Luke Caska'},\n",
       " {'credit_id': '544918dac3a3680fa5001ae0',\n",
       "  'department': 'Art',\n",
       "  'gender': 0,\n",
       "  'id': 1376889,\n",
       "  'job': 'Set Designer',\n",
       "  'name': 'David Chow'},\n",
       " {'credit_id': '544919110e0a267486001b68',\n",
       "  'department': 'Art',\n",
       "  'gender': 0,\n",
       "  'id': 1376890,\n",
       "  'job': 'Set Designer',\n",
       "  'name': 'Jonathan Dyer'},\n",
       " {'credit_id': '54491967c3a3680faa001b5e',\n",
       "  'department': 'Art',\n",
       "  'gender': 0,\n",
       "  'id': 1376891,\n",
       "  'job': 'Set Designer',\n",
       "  'name': 'Joseph Hiura'},\n",
       " {'credit_id': '54491997c3a3680fb1001c8a',\n",
       "  'department': 'Art',\n",
       "  'gender': 0,\n",
       "  'id': 1376892,\n",
       "  'job': 'Art Department Coordinator',\n",
       "  'name': 'Rebecca Jellie'},\n",
       " {'credit_id': '544919ba0e0a26748f001b42',\n",
       "  'department': 'Art',\n",
       "  'gender': 0,\n",
       "  'id': 1376893,\n",
       "  'job': 'Set Designer',\n",
       "  'name': 'Robert Andrew Johnson'},\n",
       " {'credit_id': '54491b1dc3a3680faa001b8c',\n",
       "  'department': 'Art',\n",
       "  'gender': 0,\n",
       "  'id': 1376895,\n",
       "  'job': 'Assistant Art Director',\n",
       "  'name': 'Mike Stassi'},\n",
       " {'credit_id': '54491b79c3a3680fbb001826',\n",
       "  'department': 'Art',\n",
       "  'gender': 0,\n",
       "  'id': 1376897,\n",
       "  'job': 'Construction Coordinator',\n",
       "  'name': 'John Villarino'},\n",
       " {'credit_id': '54491baec3a3680fb4001ce6',\n",
       "  'department': 'Art',\n",
       "  'gender': 2,\n",
       "  'id': 1376898,\n",
       "  'job': 'Assistant Art Director',\n",
       "  'name': 'Jeffrey Wisniewski'},\n",
       " {'credit_id': '54491d2fc3a3680fb4001d07',\n",
       "  'department': 'Editing',\n",
       "  'gender': 0,\n",
       "  'id': 1376899,\n",
       "  'job': 'Dialogue Editor',\n",
       "  'name': 'Cheryl Nardi'},\n",
       " {'credit_id': '54491d86c3a3680fa5001b2f',\n",
       "  'department': 'Editing',\n",
       "  'gender': 0,\n",
       "  'id': 1376901,\n",
       "  'job': 'Dialogue Editor',\n",
       "  'name': 'Marshall Winn'},\n",
       " {'credit_id': '54491d9dc3a3680faa001bb0',\n",
       "  'department': 'Sound',\n",
       "  'gender': 0,\n",
       "  'id': 1376902,\n",
       "  'job': 'Supervising Sound Editor',\n",
       "  'name': 'Gwendolyn Yates Whittle'},\n",
       " {'credit_id': '54491dc10e0a267486001bce',\n",
       "  'department': 'Sound',\n",
       "  'gender': 0,\n",
       "  'id': 1376903,\n",
       "  'job': 'Sound Re-Recording Mixer',\n",
       "  'name': 'William Stein'},\n",
       " {'credit_id': '54491f500e0a26747c001c07',\n",
       "  'department': 'Crew',\n",
       "  'gender': 0,\n",
       "  'id': 1376909,\n",
       "  'job': 'Choreographer',\n",
       "  'name': 'Lula Washington'},\n",
       " {'credit_id': '549599239251412c4e002a2e',\n",
       "  'department': 'Visual Effects',\n",
       "  'gender': 0,\n",
       "  'id': 1391692,\n",
       "  'job': 'Visual Effects Producer',\n",
       "  'name': 'Chris Del Conte'},\n",
       " {'credit_id': '54959d54c3a36831b8001d9a',\n",
       "  'department': 'Visual Effects',\n",
       "  'gender': 2,\n",
       "  'id': 1391695,\n",
       "  'job': 'Visual Effects Supervisor',\n",
       "  'name': 'R. Christopher White'},\n",
       " {'credit_id': '54959bdf9251412c4e002a66',\n",
       "  'department': 'Visual Effects',\n",
       "  'gender': 0,\n",
       "  'id': 1394070,\n",
       "  'job': 'Visual Effects Supervisor',\n",
       "  'name': 'Dan Lemmon'},\n",
       " {'credit_id': '5495971d92514132ed002922',\n",
       "  'department': 'Sound',\n",
       "  'gender': 0,\n",
       "  'id': 1394129,\n",
       "  'job': 'Sound Effects Editor',\n",
       "  'name': 'Tim Nielsen'},\n",
       " {'credit_id': '5592b25792514152cc0011aa',\n",
       "  'department': 'Crew',\n",
       "  'gender': 0,\n",
       "  'id': 1394286,\n",
       "  'job': 'CG Supervisor',\n",
       "  'name': 'Michael Mulholland'},\n",
       " {'credit_id': '54959a329251416e2b004355',\n",
       "  'department': 'Crew',\n",
       "  'gender': 0,\n",
       "  'id': 1394750,\n",
       "  'job': 'Visual Effects Editor',\n",
       "  'name': 'Thomas Nittmann'},\n",
       " {'credit_id': '54959d6dc3a3686ae9004401',\n",
       "  'department': 'Visual Effects',\n",
       "  'gender': 0,\n",
       "  'id': 1394755,\n",
       "  'job': 'Visual Effects Supervisor',\n",
       "  'name': 'Edson Williams'},\n",
       " {'credit_id': '5495a08fc3a3686ae300441c',\n",
       "  'department': 'Editing',\n",
       "  'gender': 0,\n",
       "  'id': 1394953,\n",
       "  'job': 'Digital Intermediate',\n",
       "  'name': 'Christine Carr'},\n",
       " {'credit_id': '55402d659251413d6d000249',\n",
       "  'department': 'Visual Effects',\n",
       "  'gender': 0,\n",
       "  'id': 1395269,\n",
       "  'job': 'Visual Effects Supervisor',\n",
       "  'name': 'John Bruno'},\n",
       " {'credit_id': '54959e7b9251416e1e003f3e',\n",
       "  'department': 'Camera',\n",
       "  'gender': 0,\n",
       "  'id': 1398970,\n",
       "  'job': 'Steadicam Operator',\n",
       "  'name': 'David Emmerichs'},\n",
       " {'credit_id': '54959734c3a3686ae10045e0',\n",
       "  'department': 'Sound',\n",
       "  'gender': 0,\n",
       "  'id': 1400906,\n",
       "  'job': 'Sound Effects Editor',\n",
       "  'name': 'Christopher Scarabosio'},\n",
       " {'credit_id': '549595dd92514130fc002d79',\n",
       "  'department': 'Production',\n",
       "  'gender': 0,\n",
       "  'id': 1401784,\n",
       "  'job': 'Production Supervisor',\n",
       "  'name': 'Jennifer Teves'},\n",
       " {'credit_id': '549596009251413af70028cc',\n",
       "  'department': 'Production',\n",
       "  'gender': 0,\n",
       "  'id': 1401785,\n",
       "  'job': 'Production Manager',\n",
       "  'name': 'Brigitte Yorke'},\n",
       " {'credit_id': '549596e892514130fc002d99',\n",
       "  'department': 'Sound',\n",
       "  'gender': 0,\n",
       "  'id': 1401786,\n",
       "  'job': 'Sound Effects Editor',\n",
       "  'name': 'Ken Fischer'},\n",
       " {'credit_id': '549598229251412c4e002a1c',\n",
       "  'department': 'Crew',\n",
       "  'gender': 0,\n",
       "  'id': 1401787,\n",
       "  'job': 'Special Effects Coordinator',\n",
       "  'name': 'Iain Hutton'},\n",
       " {'credit_id': '549598349251416e2b00432b',\n",
       "  'department': 'Crew',\n",
       "  'gender': 0,\n",
       "  'id': 1401788,\n",
       "  'job': 'Special Effects Coordinator',\n",
       "  'name': 'Steve Ingram'},\n",
       " {'credit_id': '54959905c3a3686ae3004324',\n",
       "  'department': 'Visual Effects',\n",
       "  'gender': 0,\n",
       "  'id': 1401789,\n",
       "  'job': 'Visual Effects Producer',\n",
       "  'name': 'Joyce Cox'},\n",
       " {'credit_id': '5495994b92514132ed002951',\n",
       "  'department': 'Visual Effects',\n",
       "  'gender': 0,\n",
       "  'id': 1401790,\n",
       "  'job': 'Visual Effects Producer',\n",
       "  'name': 'Jenny Foster'},\n",
       " {'credit_id': '549599cbc3a3686ae1004613',\n",
       "  'department': 'Crew',\n",
       "  'gender': 0,\n",
       "  'id': 1401791,\n",
       "  'job': 'Visual Effects Editor',\n",
       "  'name': 'Christopher Marino'},\n",
       " {'credit_id': '549599f2c3a3686ae100461e',\n",
       "  'department': 'Crew',\n",
       "  'gender': 0,\n",
       "  'id': 1401792,\n",
       "  'job': 'Visual Effects Editor',\n",
       "  'name': 'Jim Milton'},\n",
       " {'credit_id': '54959a51c3a3686af3003eb5',\n",
       "  'department': 'Visual Effects',\n",
       "  'gender': 0,\n",
       "  'id': 1401793,\n",
       "  'job': 'Visual Effects Producer',\n",
       "  'name': 'Cyndi Ochs'},\n",
       " {'credit_id': '54959a7cc3a36811530026f4',\n",
       "  'department': 'Crew',\n",
       "  'gender': 0,\n",
       "  'id': 1401794,\n",
       "  'job': 'Visual Effects Editor',\n",
       "  'name': 'Lucas Putnam'},\n",
       " {'credit_id': '54959b91c3a3680ff5002cb4',\n",
       "  'department': 'Visual Effects',\n",
       "  'gender': 0,\n",
       "  'id': 1401795,\n",
       "  'job': 'Visual Effects Supervisor',\n",
       "  'name': \"Anthony 'Max' Ivins\"},\n",
       " {'credit_id': '54959bb69251412c4e002a5f',\n",
       "  'department': 'Visual Effects',\n",
       "  'gender': 0,\n",
       "  'id': 1401796,\n",
       "  'job': 'Visual Effects Supervisor',\n",
       "  'name': 'John Knoll'},\n",
       " {'credit_id': '54959cbbc3a3686ae3004391',\n",
       "  'department': 'Visual Effects',\n",
       "  'gender': 2,\n",
       "  'id': 1401799,\n",
       "  'job': 'Visual Effects Supervisor',\n",
       "  'name': 'Eric Saindon'},\n",
       " {'credit_id': '54959d06c3a3686ae90043f6',\n",
       "  'department': 'Visual Effects',\n",
       "  'gender': 0,\n",
       "  'id': 1401800,\n",
       "  'job': 'Visual Effects Supervisor',\n",
       "  'name': 'Wayne Stables'},\n",
       " {'credit_id': '54959d259251416e1e003f11',\n",
       "  'department': 'Visual Effects',\n",
       "  'gender': 0,\n",
       "  'id': 1401801,\n",
       "  'job': 'Visual Effects Supervisor',\n",
       "  'name': 'David Stinnett'},\n",
       " {'credit_id': '54959db49251413af7002975',\n",
       "  'department': 'Visual Effects',\n",
       "  'gender': 0,\n",
       "  'id': 1401803,\n",
       "  'job': 'Visual Effects Supervisor',\n",
       "  'name': 'Guy Williams'},\n",
       " {'credit_id': '54959de4c3a3681153002750',\n",
       "  'department': 'Crew',\n",
       "  'gender': 0,\n",
       "  'id': 1401804,\n",
       "  'job': 'Stunt Coordinator',\n",
       "  'name': 'Stuart Thorp'},\n",
       " {'credit_id': '54959ef2c3a3680fc60027f2',\n",
       "  'department': 'Lighting',\n",
       "  'gender': 0,\n",
       "  'id': 1401805,\n",
       "  'job': 'Best Boy Electric',\n",
       "  'name': 'Giles Coburn'},\n",
       " {'credit_id': '54959f07c3a3680fc60027f9',\n",
       "  'department': 'Camera',\n",
       "  'gender': 2,\n",
       "  'id': 1401806,\n",
       "  'job': 'Still Photographer',\n",
       "  'name': 'Mark Fellman'},\n",
       " {'credit_id': '54959f47c3a3681153002774',\n",
       "  'department': 'Lighting',\n",
       "  'gender': 0,\n",
       "  'id': 1401807,\n",
       "  'job': 'Lighting Technician',\n",
       "  'name': 'Scott Sprague'},\n",
       " {'credit_id': '54959f8cc3a36831b8001df2',\n",
       "  'department': 'Visual Effects',\n",
       "  'gender': 0,\n",
       "  'id': 1401808,\n",
       "  'job': 'Animation Director',\n",
       "  'name': 'Jeremy Hollobon'},\n",
       " {'credit_id': '54959fa0c3a36831b8001dfb',\n",
       "  'department': 'Visual Effects',\n",
       "  'gender': 0,\n",
       "  'id': 1401809,\n",
       "  'job': 'Animation Director',\n",
       "  'name': 'Orlando Meunier'},\n",
       " {'credit_id': '54959fb6c3a3686af3003f54',\n",
       "  'department': 'Visual Effects',\n",
       "  'gender': 0,\n",
       "  'id': 1401810,\n",
       "  'job': 'Animation Director',\n",
       "  'name': 'Taisuke Tanimura'},\n",
       " {'credit_id': '54959fd2c3a36831b8001e02',\n",
       "  'department': 'Costume & Make-Up',\n",
       "  'gender': 0,\n",
       "  'id': 1401812,\n",
       "  'job': 'Set Costumer',\n",
       "  'name': 'Lilia Mishel Acevedo'},\n",
       " {'credit_id': '54959ff9c3a3686ae300440c',\n",
       "  'department': 'Costume & Make-Up',\n",
       "  'gender': 0,\n",
       "  'id': 1401814,\n",
       "  'job': 'Set Costumer',\n",
       "  'name': 'Alejandro M. Hernandez'},\n",
       " {'credit_id': '5495a0ddc3a3686ae10046fe',\n",
       "  'department': 'Editing',\n",
       "  'gender': 0,\n",
       "  'id': 1401815,\n",
       "  'job': 'Digital Intermediate',\n",
       "  'name': 'Marvin Hall'},\n",
       " {'credit_id': '5495a1f7c3a3686ae3004443',\n",
       "  'department': 'Production',\n",
       "  'gender': 0,\n",
       "  'id': 1401816,\n",
       "  'job': 'Publicist',\n",
       "  'name': 'Judy Alley'},\n",
       " {'credit_id': '5592b29fc3a36869d100002f',\n",
       "  'department': 'Crew',\n",
       "  'gender': 0,\n",
       "  'id': 1418381,\n",
       "  'job': 'CG Supervisor',\n",
       "  'name': 'Mike Perry'},\n",
       " {'credit_id': '5592b23a9251415df8001081',\n",
       "  'department': 'Crew',\n",
       "  'gender': 0,\n",
       "  'id': 1426854,\n",
       "  'job': 'CG Supervisor',\n",
       "  'name': 'Andrew Morley'},\n",
       " {'credit_id': '55491e1192514104c40002d8',\n",
       "  'department': 'Art',\n",
       "  'gender': 0,\n",
       "  'id': 1438901,\n",
       "  'job': 'Conceptual Design',\n",
       "  'name': 'Seth Engstrom'},\n",
       " {'credit_id': '5525d5809251417276002b06',\n",
       "  'department': 'Crew',\n",
       "  'gender': 0,\n",
       "  'id': 1447362,\n",
       "  'job': 'Visual Effects Art Director',\n",
       "  'name': 'Eric Oliver'},\n",
       " {'credit_id': '554427ca925141586500312a',\n",
       "  'department': 'Visual Effects',\n",
       "  'gender': 0,\n",
       "  'id': 1447503,\n",
       "  'job': 'Modeling',\n",
       "  'name': 'Matsune Suzuki'},\n",
       " {'credit_id': '551906889251415aab001c88',\n",
       "  'department': 'Art',\n",
       "  'gender': 0,\n",
       "  'id': 1447524,\n",
       "  'job': 'Art Department Manager',\n",
       "  'name': 'Paul Tobin'},\n",
       " {'credit_id': '5592af8492514152cc0010de',\n",
       "  'department': 'Costume & Make-Up',\n",
       "  'gender': 0,\n",
       "  'id': 1452643,\n",
       "  'job': 'Hairstylist',\n",
       "  'name': 'Roxane Griffin'},\n",
       " {'credit_id': '553d3c109251415852001318',\n",
       "  'department': 'Lighting',\n",
       "  'gender': 0,\n",
       "  'id': 1453938,\n",
       "  'job': 'Lighting Artist',\n",
       "  'name': 'Arun Ram-Mohan'},\n",
       " {'credit_id': '5592af4692514152d5001355',\n",
       "  'department': 'Costume & Make-Up',\n",
       "  'gender': 0,\n",
       "  'id': 1457305,\n",
       "  'job': 'Makeup Artist',\n",
       "  'name': 'Georgia Lockhart-Adams'},\n",
       " {'credit_id': '5592b2eac3a36877470012a5',\n",
       "  'department': 'Crew',\n",
       "  'gender': 0,\n",
       "  'id': 1466035,\n",
       "  'job': 'CG Supervisor',\n",
       "  'name': 'Thrain Shadbolt'},\n",
       " {'credit_id': '5592b032c3a36877450015f1',\n",
       "  'department': 'Crew',\n",
       "  'gender': 0,\n",
       "  'id': 1483220,\n",
       "  'job': 'CG Supervisor',\n",
       "  'name': 'Brad Alexander'},\n",
       " {'credit_id': '5592b05592514152d80012f6',\n",
       "  'department': 'Crew',\n",
       "  'gender': 0,\n",
       "  'id': 1483221,\n",
       "  'job': 'CG Supervisor',\n",
       "  'name': 'Shadi Almassizadeh'},\n",
       " {'credit_id': '5592b090c3a36877570010b5',\n",
       "  'department': 'Crew',\n",
       "  'gender': 0,\n",
       "  'id': 1483222,\n",
       "  'job': 'CG Supervisor',\n",
       "  'name': 'Simon Clutterbuck'},\n",
       " {'credit_id': '5592b0dbc3a368774b00112c',\n",
       "  'department': 'Crew',\n",
       "  'gender': 0,\n",
       "  'id': 1483223,\n",
       "  'job': 'CG Supervisor',\n",
       "  'name': 'Graeme Demmocks'},\n",
       " {'credit_id': '5592b0fe92514152db0010c1',\n",
       "  'department': 'Crew',\n",
       "  'gender': 0,\n",
       "  'id': 1483224,\n",
       "  'job': 'CG Supervisor',\n",
       "  'name': 'Adrian Fernandes'},\n",
       " {'credit_id': '5592b11f9251415df8001059',\n",
       "  'department': 'Crew',\n",
       "  'gender': 0,\n",
       "  'id': 1483225,\n",
       "  'job': 'CG Supervisor',\n",
       "  'name': 'Mitch Gates'},\n",
       " {'credit_id': '5592b15dc3a3687745001645',\n",
       "  'department': 'Crew',\n",
       "  'gender': 0,\n",
       "  'id': 1483226,\n",
       "  'job': 'CG Supervisor',\n",
       "  'name': 'Jerry Kung'},\n",
       " {'credit_id': '5592b18e925141645a0004ae',\n",
       "  'department': 'Crew',\n",
       "  'gender': 0,\n",
       "  'id': 1483227,\n",
       "  'job': 'CG Supervisor',\n",
       "  'name': 'Andy Lomas'},\n",
       " {'credit_id': '5592b1bfc3a368775d0010e7',\n",
       "  'department': 'Crew',\n",
       "  'gender': 0,\n",
       "  'id': 1483228,\n",
       "  'job': 'CG Supervisor',\n",
       "  'name': 'Sebastian Marino'},\n",
       " {'credit_id': '5592b2049251415df8001078',\n",
       "  'department': 'Crew',\n",
       "  'gender': 0,\n",
       "  'id': 1483229,\n",
       "  'job': 'CG Supervisor',\n",
       "  'name': 'Matthias Menz'},\n",
       " {'credit_id': '5592b27b92514152d800136a',\n",
       "  'department': 'Crew',\n",
       "  'gender': 0,\n",
       "  'id': 1483230,\n",
       "  'job': 'CG Supervisor',\n",
       "  'name': 'Sergei Nevshupov'},\n",
       " {'credit_id': '5592b2c3c3a36869e800003c',\n",
       "  'department': 'Crew',\n",
       "  'gender': 0,\n",
       "  'id': 1483231,\n",
       "  'job': 'CG Supervisor',\n",
       "  'name': 'Philippe Rebours'},\n",
       " {'credit_id': '5592b317c3a36877470012af',\n",
       "  'department': 'Crew',\n",
       "  'gender': 0,\n",
       "  'id': 1483232,\n",
       "  'job': 'CG Supervisor',\n",
       "  'name': 'Michael Takarangi'},\n",
       " {'credit_id': '5592b345c3a36877470012bb',\n",
       "  'department': 'Crew',\n",
       "  'gender': 0,\n",
       "  'id': 1483233,\n",
       "  'job': 'CG Supervisor',\n",
       "  'name': 'David Weitzberg'},\n",
       " {'credit_id': '5592b37cc3a368775100113b',\n",
       "  'department': 'Crew',\n",
       "  'gender': 0,\n",
       "  'id': 1483234,\n",
       "  'job': 'CG Supervisor',\n",
       "  'name': 'Ben White'},\n",
       " {'credit_id': '573c8e2f9251413f5d000094',\n",
       "  'department': 'Crew',\n",
       "  'gender': 1,\n",
       "  'id': 1621932,\n",
       "  'job': 'Stunts',\n",
       "  'name': 'Min Windle'}]"
      ]
     },
     "execution_count": 87,
     "metadata": {},
     "output_type": "execute_result"
    }
   ],
   "source": [
    "df2['crew'][0]"
   ]
  },
  {
   "cell_type": "code",
   "execution_count": 88,
   "metadata": {},
   "outputs": [
    {
     "data": {
      "text/plain": [
       "[{'cast_id': 242,\n",
       "  'character': 'Jake Sully',\n",
       "  'credit_id': '5602a8a7c3a3685532001c9a',\n",
       "  'gender': 2,\n",
       "  'id': 65731,\n",
       "  'name': 'Sam Worthington',\n",
       "  'order': 0},\n",
       " {'cast_id': 3,\n",
       "  'character': 'Neytiri',\n",
       "  'credit_id': '52fe48009251416c750ac9cb',\n",
       "  'gender': 1,\n",
       "  'id': 8691,\n",
       "  'name': 'Zoe Saldana',\n",
       "  'order': 1},\n",
       " {'cast_id': 25,\n",
       "  'character': 'Dr. Grace Augustine',\n",
       "  'credit_id': '52fe48009251416c750aca39',\n",
       "  'gender': 1,\n",
       "  'id': 10205,\n",
       "  'name': 'Sigourney Weaver',\n",
       "  'order': 2},\n",
       " {'cast_id': 4,\n",
       "  'character': 'Col. Quaritch',\n",
       "  'credit_id': '52fe48009251416c750ac9cf',\n",
       "  'gender': 2,\n",
       "  'id': 32747,\n",
       "  'name': 'Stephen Lang',\n",
       "  'order': 3},\n",
       " {'cast_id': 5,\n",
       "  'character': 'Trudy Chacon',\n",
       "  'credit_id': '52fe48009251416c750ac9d3',\n",
       "  'gender': 1,\n",
       "  'id': 17647,\n",
       "  'name': 'Michelle Rodriguez',\n",
       "  'order': 4},\n",
       " {'cast_id': 8,\n",
       "  'character': 'Selfridge',\n",
       "  'credit_id': '52fe48009251416c750ac9e1',\n",
       "  'gender': 2,\n",
       "  'id': 1771,\n",
       "  'name': 'Giovanni Ribisi',\n",
       "  'order': 5},\n",
       " {'cast_id': 7,\n",
       "  'character': 'Norm Spellman',\n",
       "  'credit_id': '52fe48009251416c750ac9dd',\n",
       "  'gender': 2,\n",
       "  'id': 59231,\n",
       "  'name': 'Joel David Moore',\n",
       "  'order': 6},\n",
       " {'cast_id': 9,\n",
       "  'character': 'Moat',\n",
       "  'credit_id': '52fe48009251416c750ac9e5',\n",
       "  'gender': 1,\n",
       "  'id': 30485,\n",
       "  'name': 'CCH Pounder',\n",
       "  'order': 7},\n",
       " {'cast_id': 11,\n",
       "  'character': 'Eytukan',\n",
       "  'credit_id': '52fe48009251416c750ac9ed',\n",
       "  'gender': 2,\n",
       "  'id': 15853,\n",
       "  'name': 'Wes Studi',\n",
       "  'order': 8},\n",
       " {'cast_id': 10,\n",
       "  'character': \"Tsu'Tey\",\n",
       "  'credit_id': '52fe48009251416c750ac9e9',\n",
       "  'gender': 2,\n",
       "  'id': 10964,\n",
       "  'name': 'Laz Alonso',\n",
       "  'order': 9},\n",
       " {'cast_id': 12,\n",
       "  'character': 'Dr. Max Patel',\n",
       "  'credit_id': '52fe48009251416c750ac9f1',\n",
       "  'gender': 2,\n",
       "  'id': 95697,\n",
       "  'name': 'Dileep Rao',\n",
       "  'order': 10},\n",
       " {'cast_id': 13,\n",
       "  'character': 'Lyle Wainfleet',\n",
       "  'credit_id': '52fe48009251416c750ac9f5',\n",
       "  'gender': 2,\n",
       "  'id': 98215,\n",
       "  'name': 'Matt Gerald',\n",
       "  'order': 11},\n",
       " {'cast_id': 32,\n",
       "  'character': 'Private Fike',\n",
       "  'credit_id': '52fe48009251416c750aca5b',\n",
       "  'gender': 2,\n",
       "  'id': 154153,\n",
       "  'name': 'Sean Anthony Moran',\n",
       "  'order': 12},\n",
       " {'cast_id': 33,\n",
       "  'character': 'Cryo Vault Med Tech',\n",
       "  'credit_id': '52fe48009251416c750aca5f',\n",
       "  'gender': 2,\n",
       "  'id': 397312,\n",
       "  'name': 'Jason Whyte',\n",
       "  'order': 13},\n",
       " {'cast_id': 34,\n",
       "  'character': 'Venture Star Crew Chief',\n",
       "  'credit_id': '52fe48009251416c750aca63',\n",
       "  'gender': 2,\n",
       "  'id': 42317,\n",
       "  'name': 'Scott Lawrence',\n",
       "  'order': 14},\n",
       " {'cast_id': 35,\n",
       "  'character': 'Lock Up Trooper',\n",
       "  'credit_id': '52fe48009251416c750aca67',\n",
       "  'gender': 2,\n",
       "  'id': 986734,\n",
       "  'name': 'Kelly Kilgour',\n",
       "  'order': 15},\n",
       " {'cast_id': 36,\n",
       "  'character': 'Shuttle Pilot',\n",
       "  'credit_id': '52fe48009251416c750aca6b',\n",
       "  'gender': 0,\n",
       "  'id': 1207227,\n",
       "  'name': 'James Patrick Pitt',\n",
       "  'order': 16},\n",
       " {'cast_id': 37,\n",
       "  'character': 'Shuttle Co-Pilot',\n",
       "  'credit_id': '52fe48009251416c750aca6f',\n",
       "  'gender': 0,\n",
       "  'id': 1180936,\n",
       "  'name': 'Sean Patrick Murphy',\n",
       "  'order': 17},\n",
       " {'cast_id': 38,\n",
       "  'character': 'Shuttle Crew Chief',\n",
       "  'credit_id': '52fe48009251416c750aca73',\n",
       "  'gender': 2,\n",
       "  'id': 1019578,\n",
       "  'name': 'Peter Dillon',\n",
       "  'order': 18},\n",
       " {'cast_id': 39,\n",
       "  'character': 'Tractor Operator / Troupe',\n",
       "  'credit_id': '52fe48009251416c750aca77',\n",
       "  'gender': 0,\n",
       "  'id': 91443,\n",
       "  'name': 'Kevin Dorman',\n",
       "  'order': 19},\n",
       " {'cast_id': 40,\n",
       "  'character': 'Dragon Gunship Pilot',\n",
       "  'credit_id': '52fe48009251416c750aca7b',\n",
       "  'gender': 2,\n",
       "  'id': 173391,\n",
       "  'name': 'Kelson Henderson',\n",
       "  'order': 20},\n",
       " {'cast_id': 41,\n",
       "  'character': 'Dragon Gunship Gunner',\n",
       "  'credit_id': '52fe48009251416c750aca7f',\n",
       "  'gender': 0,\n",
       "  'id': 1207236,\n",
       "  'name': 'David Van Horn',\n",
       "  'order': 21},\n",
       " {'cast_id': 42,\n",
       "  'character': 'Dragon Gunship Navigator',\n",
       "  'credit_id': '52fe48009251416c750aca83',\n",
       "  'gender': 0,\n",
       "  'id': 215913,\n",
       "  'name': 'Jacob Tomuri',\n",
       "  'order': 22},\n",
       " {'cast_id': 43,\n",
       "  'character': 'Suit #1',\n",
       "  'credit_id': '52fe48009251416c750aca87',\n",
       "  'gender': 0,\n",
       "  'id': 143206,\n",
       "  'name': 'Michael Blain-Rozgay',\n",
       "  'order': 23},\n",
       " {'cast_id': 44,\n",
       "  'character': 'Suit #2',\n",
       "  'credit_id': '52fe48009251416c750aca8b',\n",
       "  'gender': 2,\n",
       "  'id': 169676,\n",
       "  'name': 'Jon Curry',\n",
       "  'order': 24},\n",
       " {'cast_id': 46,\n",
       "  'character': 'Ambient Room Tech',\n",
       "  'credit_id': '52fe48009251416c750aca8f',\n",
       "  'gender': 0,\n",
       "  'id': 1048610,\n",
       "  'name': 'Luke Hawker',\n",
       "  'order': 25},\n",
       " {'cast_id': 47,\n",
       "  'character': 'Ambient Room Tech / Troupe',\n",
       "  'credit_id': '52fe48009251416c750aca93',\n",
       "  'gender': 0,\n",
       "  'id': 42288,\n",
       "  'name': 'Woody Schultz',\n",
       "  'order': 26},\n",
       " {'cast_id': 48,\n",
       "  'character': 'Horse Clan Leader',\n",
       "  'credit_id': '52fe48009251416c750aca97',\n",
       "  'gender': 2,\n",
       "  'id': 68278,\n",
       "  'name': 'Peter Mensah',\n",
       "  'order': 27},\n",
       " {'cast_id': 49,\n",
       "  'character': 'Link Room Tech',\n",
       "  'credit_id': '52fe48009251416c750aca9b',\n",
       "  'gender': 0,\n",
       "  'id': 1207247,\n",
       "  'name': 'Sonia Yee',\n",
       "  'order': 28},\n",
       " {'cast_id': 50,\n",
       "  'character': 'Basketball Avatar / Troupe',\n",
       "  'credit_id': '52fe48009251416c750aca9f',\n",
       "  'gender': 1,\n",
       "  'id': 1207248,\n",
       "  'name': 'Jahnel Curfman',\n",
       "  'order': 29},\n",
       " {'cast_id': 51,\n",
       "  'character': 'Basketball Avatar',\n",
       "  'credit_id': '52fe48009251416c750acaa3',\n",
       "  'gender': 0,\n",
       "  'id': 89714,\n",
       "  'name': 'Ilram Choi',\n",
       "  'order': 30},\n",
       " {'cast_id': 52,\n",
       "  'character': \"Na'vi Child\",\n",
       "  'credit_id': '52fe48009251416c750acaa7',\n",
       "  'gender': 0,\n",
       "  'id': 1207249,\n",
       "  'name': 'Kyla Warren',\n",
       "  'order': 31},\n",
       " {'cast_id': 53,\n",
       "  'character': 'Troupe',\n",
       "  'credit_id': '52fe48009251416c750acaab',\n",
       "  'gender': 0,\n",
       "  'id': 1207250,\n",
       "  'name': 'Lisa Roumain',\n",
       "  'order': 32},\n",
       " {'cast_id': 54,\n",
       "  'character': 'Troupe',\n",
       "  'credit_id': '52fe48009251416c750acaaf',\n",
       "  'gender': 1,\n",
       "  'id': 83105,\n",
       "  'name': 'Debra Wilson',\n",
       "  'order': 33},\n",
       " {'cast_id': 57,\n",
       "  'character': 'Troupe',\n",
       "  'credit_id': '52fe48009251416c750acabb',\n",
       "  'gender': 0,\n",
       "  'id': 1207253,\n",
       "  'name': 'Chris Mala',\n",
       "  'order': 34},\n",
       " {'cast_id': 55,\n",
       "  'character': 'Troupe',\n",
       "  'credit_id': '52fe48009251416c750acab3',\n",
       "  'gender': 0,\n",
       "  'id': 1207251,\n",
       "  'name': 'Taylor Kibby',\n",
       "  'order': 35},\n",
       " {'cast_id': 56,\n",
       "  'character': 'Troupe',\n",
       "  'credit_id': '52fe48009251416c750acab7',\n",
       "  'gender': 0,\n",
       "  'id': 1207252,\n",
       "  'name': 'Jodie Landau',\n",
       "  'order': 36},\n",
       " {'cast_id': 58,\n",
       "  'character': 'Troupe',\n",
       "  'credit_id': '52fe48009251416c750acabf',\n",
       "  'gender': 0,\n",
       "  'id': 1207254,\n",
       "  'name': 'Julie Lamm',\n",
       "  'order': 37},\n",
       " {'cast_id': 59,\n",
       "  'character': 'Troupe',\n",
       "  'credit_id': '52fe48009251416c750acac3',\n",
       "  'gender': 0,\n",
       "  'id': 1207257,\n",
       "  'name': 'Cullen B. Madden',\n",
       "  'order': 38},\n",
       " {'cast_id': 60,\n",
       "  'character': 'Troupe',\n",
       "  'credit_id': '52fe48009251416c750acac7',\n",
       "  'gender': 0,\n",
       "  'id': 1207259,\n",
       "  'name': 'Joseph Brady Madden',\n",
       "  'order': 39},\n",
       " {'cast_id': 61,\n",
       "  'character': 'Troupe',\n",
       "  'credit_id': '52fe48009251416c750acacb',\n",
       "  'gender': 0,\n",
       "  'id': 1207262,\n",
       "  'name': 'Frankie Torres',\n",
       "  'order': 40},\n",
       " {'cast_id': 62,\n",
       "  'character': 'Troupe',\n",
       "  'credit_id': '52fe48009251416c750acacf',\n",
       "  'gender': 1,\n",
       "  'id': 1158600,\n",
       "  'name': 'Austin Wilson',\n",
       "  'order': 41},\n",
       " {'cast_id': 63,\n",
       "  'character': 'Troupe',\n",
       "  'credit_id': '52fe48019251416c750acad3',\n",
       "  'gender': 1,\n",
       "  'id': 983705,\n",
       "  'name': 'Sara Wilson',\n",
       "  'order': 42},\n",
       " {'cast_id': 64,\n",
       "  'character': 'Troupe',\n",
       "  'credit_id': '52fe48019251416c750acad7',\n",
       "  'gender': 0,\n",
       "  'id': 1207263,\n",
       "  'name': 'Tamica Washington-Miller',\n",
       "  'order': 43},\n",
       " {'cast_id': 65,\n",
       "  'character': 'Op Center Staff',\n",
       "  'credit_id': '52fe48019251416c750acadb',\n",
       "  'gender': 1,\n",
       "  'id': 1145098,\n",
       "  'name': 'Lucy Briant',\n",
       "  'order': 44},\n",
       " {'cast_id': 66,\n",
       "  'character': 'Op Center Staff',\n",
       "  'credit_id': '52fe48019251416c750acadf',\n",
       "  'gender': 2,\n",
       "  'id': 33305,\n",
       "  'name': 'Nathan Meister',\n",
       "  'order': 45},\n",
       " {'cast_id': 67,\n",
       "  'character': 'Op Center Staff',\n",
       "  'credit_id': '52fe48019251416c750acae3',\n",
       "  'gender': 0,\n",
       "  'id': 1207264,\n",
       "  'name': 'Gerry Blair',\n",
       "  'order': 46},\n",
       " {'cast_id': 68,\n",
       "  'character': 'Op Center Staff',\n",
       "  'credit_id': '52fe48019251416c750acae7',\n",
       "  'gender': 2,\n",
       "  'id': 33311,\n",
       "  'name': 'Matthew Chamberlain',\n",
       "  'order': 47},\n",
       " {'cast_id': 69,\n",
       "  'character': 'Op Center Staff',\n",
       "  'credit_id': '52fe48019251416c750acaeb',\n",
       "  'gender': 0,\n",
       "  'id': 1207265,\n",
       "  'name': 'Paul Yates',\n",
       "  'order': 48},\n",
       " {'cast_id': 70,\n",
       "  'character': 'Op Center Duty Officer',\n",
       "  'credit_id': '52fe48019251416c750acaef',\n",
       "  'gender': 0,\n",
       "  'id': 1207266,\n",
       "  'name': 'Wray Wilson',\n",
       "  'order': 49},\n",
       " {'cast_id': 71,\n",
       "  'character': 'Op Center Staff',\n",
       "  'credit_id': '52fe48019251416c750acaf3',\n",
       "  'gender': 2,\n",
       "  'id': 54492,\n",
       "  'name': 'James Gaylyn',\n",
       "  'order': 50},\n",
       " {'cast_id': 72,\n",
       "  'character': 'Dancer',\n",
       "  'credit_id': '52fe48019251416c750acaf7',\n",
       "  'gender': 0,\n",
       "  'id': 1207267,\n",
       "  'name': 'Melvin Leno Clark III',\n",
       "  'order': 51},\n",
       " {'cast_id': 73,\n",
       "  'character': 'Dancer',\n",
       "  'credit_id': '52fe48019251416c750acafb',\n",
       "  'gender': 0,\n",
       "  'id': 1207268,\n",
       "  'name': 'Carvon Futrell',\n",
       "  'order': 52},\n",
       " {'cast_id': 74,\n",
       "  'character': 'Dancer',\n",
       "  'credit_id': '52fe48019251416c750acaff',\n",
       "  'gender': 0,\n",
       "  'id': 1207269,\n",
       "  'name': 'Brandon Jelkes',\n",
       "  'order': 53},\n",
       " {'cast_id': 75,\n",
       "  'character': 'Dancer',\n",
       "  'credit_id': '52fe48019251416c750acb03',\n",
       "  'gender': 0,\n",
       "  'id': 1207270,\n",
       "  'name': 'Micah Moch',\n",
       "  'order': 54},\n",
       " {'cast_id': 76,\n",
       "  'character': 'Dancer',\n",
       "  'credit_id': '52fe48019251416c750acb07',\n",
       "  'gender': 0,\n",
       "  'id': 1207271,\n",
       "  'name': 'Hanniyah Muhammad',\n",
       "  'order': 55},\n",
       " {'cast_id': 77,\n",
       "  'character': 'Dancer',\n",
       "  'credit_id': '52fe48019251416c750acb0b',\n",
       "  'gender': 0,\n",
       "  'id': 1207272,\n",
       "  'name': 'Christopher Nolen',\n",
       "  'order': 56},\n",
       " {'cast_id': 78,\n",
       "  'character': 'Dancer',\n",
       "  'credit_id': '52fe48019251416c750acb0f',\n",
       "  'gender': 0,\n",
       "  'id': 1207273,\n",
       "  'name': 'Christa Oliver',\n",
       "  'order': 57},\n",
       " {'cast_id': 79,\n",
       "  'character': 'Dancer',\n",
       "  'credit_id': '52fe48019251416c750acb13',\n",
       "  'gender': 0,\n",
       "  'id': 1207274,\n",
       "  'name': 'April Marie Thomas',\n",
       "  'order': 58},\n",
       " {'cast_id': 80,\n",
       "  'character': 'Dancer',\n",
       "  'credit_id': '52fe48019251416c750acb17',\n",
       "  'gender': 0,\n",
       "  'id': 1207275,\n",
       "  'name': 'Bravita A. Threatt',\n",
       "  'order': 59},\n",
       " {'cast_id': 81,\n",
       "  'character': 'Mining Chief (uncredited)',\n",
       "  'credit_id': '52fe48019251416c750acb1b',\n",
       "  'gender': 0,\n",
       "  'id': 1207276,\n",
       "  'name': 'Colin Bleasdale',\n",
       "  'order': 60},\n",
       " {'cast_id': 82,\n",
       "  'character': 'Veteran Miner (uncredited)',\n",
       "  'credit_id': '52fe48019251416c750acb1f',\n",
       "  'gender': 0,\n",
       "  'id': 107969,\n",
       "  'name': 'Mike Bodnar',\n",
       "  'order': 61},\n",
       " {'cast_id': 83,\n",
       "  'character': 'Richard (uncredited)',\n",
       "  'credit_id': '52fe48019251416c750acb23',\n",
       "  'gender': 0,\n",
       "  'id': 1207278,\n",
       "  'name': 'Matt Clayton',\n",
       "  'order': 62},\n",
       " {'cast_id': 84,\n",
       "  'character': \"Nav'i (uncredited)\",\n",
       "  'credit_id': '52fe48019251416c750acb27',\n",
       "  'gender': 1,\n",
       "  'id': 147898,\n",
       "  'name': 'Nicole Dionne',\n",
       "  'order': 63},\n",
       " {'cast_id': 85,\n",
       "  'character': 'Trooper (uncredited)',\n",
       "  'credit_id': '52fe48019251416c750acb2b',\n",
       "  'gender': 0,\n",
       "  'id': 1207280,\n",
       "  'name': 'Jamie Harrison',\n",
       "  'order': 64},\n",
       " {'cast_id': 86,\n",
       "  'character': 'Trooper (uncredited)',\n",
       "  'credit_id': '52fe48019251416c750acb2f',\n",
       "  'gender': 0,\n",
       "  'id': 1207281,\n",
       "  'name': 'Allan Henry',\n",
       "  'order': 65},\n",
       " {'cast_id': 87,\n",
       "  'character': 'Ground Technician (uncredited)',\n",
       "  'credit_id': '52fe48019251416c750acb33',\n",
       "  'gender': 2,\n",
       "  'id': 1207282,\n",
       "  'name': 'Anthony Ingruber',\n",
       "  'order': 66},\n",
       " {'cast_id': 88,\n",
       "  'character': 'Flight Crew Mechanic (uncredited)',\n",
       "  'credit_id': '52fe48019251416c750acb37',\n",
       "  'gender': 0,\n",
       "  'id': 1207283,\n",
       "  'name': 'Ashley Jeffery',\n",
       "  'order': 67},\n",
       " {'cast_id': 14,\n",
       "  'character': 'Samson Pilot',\n",
       "  'credit_id': '52fe48009251416c750ac9f9',\n",
       "  'gender': 0,\n",
       "  'id': 98216,\n",
       "  'name': 'Dean Knowsley',\n",
       "  'order': 68},\n",
       " {'cast_id': 89,\n",
       "  'character': 'Trooper (uncredited)',\n",
       "  'credit_id': '52fe48019251416c750acb3b',\n",
       "  'gender': 0,\n",
       "  'id': 1201399,\n",
       "  'name': 'Joseph Mika-Hunt',\n",
       "  'order': 69},\n",
       " {'cast_id': 90,\n",
       "  'character': 'Banshee (uncredited)',\n",
       "  'credit_id': '52fe48019251416c750acb3f',\n",
       "  'gender': 0,\n",
       "  'id': 236696,\n",
       "  'name': 'Terry Notary',\n",
       "  'order': 70},\n",
       " {'cast_id': 91,\n",
       "  'character': 'Soldier (uncredited)',\n",
       "  'credit_id': '52fe48019251416c750acb43',\n",
       "  'gender': 0,\n",
       "  'id': 1207287,\n",
       "  'name': 'Kai Pantano',\n",
       "  'order': 71},\n",
       " {'cast_id': 92,\n",
       "  'character': 'Blast Technician (uncredited)',\n",
       "  'credit_id': '52fe48019251416c750acb47',\n",
       "  'gender': 0,\n",
       "  'id': 1207288,\n",
       "  'name': 'Logan Pithyou',\n",
       "  'order': 72},\n",
       " {'cast_id': 93,\n",
       "  'character': 'Vindum Raah (uncredited)',\n",
       "  'credit_id': '52fe48019251416c750acb4b',\n",
       "  'gender': 0,\n",
       "  'id': 1207289,\n",
       "  'name': 'Stuart Pollock',\n",
       "  'order': 73},\n",
       " {'cast_id': 94,\n",
       "  'character': 'Hero (uncredited)',\n",
       "  'credit_id': '52fe48019251416c750acb4f',\n",
       "  'gender': 0,\n",
       "  'id': 584868,\n",
       "  'name': 'Raja',\n",
       "  'order': 74},\n",
       " {'cast_id': 95,\n",
       "  'character': 'Ops Centreworker (uncredited)',\n",
       "  'credit_id': '52fe48019251416c750acb53',\n",
       "  'gender': 0,\n",
       "  'id': 1207290,\n",
       "  'name': 'Gareth Ruck',\n",
       "  'order': 75},\n",
       " {'cast_id': 96,\n",
       "  'character': 'Engineer (uncredited)',\n",
       "  'credit_id': '52fe48019251416c750acb57',\n",
       "  'gender': 0,\n",
       "  'id': 1062463,\n",
       "  'name': 'Rhian Sheehan',\n",
       "  'order': 76},\n",
       " {'cast_id': 97,\n",
       "  'character': \"Col. Quaritch's Mech Suit (uncredited)\",\n",
       "  'credit_id': '52fe48019251416c750acb5b',\n",
       "  'gender': 0,\n",
       "  'id': 60656,\n",
       "  'name': 'T. J. Storm',\n",
       "  'order': 77},\n",
       " {'cast_id': 98,\n",
       "  'character': 'Female Marine (uncredited)',\n",
       "  'credit_id': '52fe48019251416c750acb5f',\n",
       "  'gender': 0,\n",
       "  'id': 1207291,\n",
       "  'name': 'Jodie Taylor',\n",
       "  'order': 78},\n",
       " {'cast_id': 99,\n",
       "  'character': 'Ikran Clan Leader (uncredited)',\n",
       "  'credit_id': '52fe48019251416c750acb63',\n",
       "  'gender': 1,\n",
       "  'id': 1186027,\n",
       "  'name': 'Alicia Vela-Bailey',\n",
       "  'order': 79},\n",
       " {'cast_id': 100,\n",
       "  'character': 'Geologist (uncredited)',\n",
       "  'credit_id': '52fe48019251416c750acb67',\n",
       "  'gender': 0,\n",
       "  'id': 1207292,\n",
       "  'name': 'Richard Whiteside',\n",
       "  'order': 80},\n",
       " {'cast_id': 101,\n",
       "  'character': \"Na'vi (uncredited)\",\n",
       "  'credit_id': '52fe48019251416c750acb6b',\n",
       "  'gender': 0,\n",
       "  'id': 103259,\n",
       "  'name': 'Nikie Zambo',\n",
       "  'order': 81},\n",
       " {'cast_id': 102,\n",
       "  'character': 'Ambient Room Tech / Troupe',\n",
       "  'credit_id': '52fe48019251416c750acb6f',\n",
       "  'gender': 1,\n",
       "  'id': 42286,\n",
       "  'name': 'Julene Renee',\n",
       "  'order': 82}]"
      ]
     },
     "execution_count": 88,
     "metadata": {},
     "output_type": "execute_result"
    }
   ],
   "source": [
    "df2['cast'][0]"
   ]
  },
  {
   "cell_type": "code",
   "execution_count": 89,
   "metadata": {},
   "outputs": [
    {
     "data": {
      "text/plain": [
       "[{'id': 1463, 'name': 'culture clash'},\n",
       " {'id': 2964, 'name': 'future'},\n",
       " {'id': 3386, 'name': 'space war'},\n",
       " {'id': 3388, 'name': 'space colony'},\n",
       " {'id': 3679, 'name': 'society'},\n",
       " {'id': 3801, 'name': 'space travel'},\n",
       " {'id': 9685, 'name': 'futuristic'},\n",
       " {'id': 9840, 'name': 'romance'},\n",
       " {'id': 9882, 'name': 'space'},\n",
       " {'id': 9951, 'name': 'alien'},\n",
       " {'id': 10148, 'name': 'tribe'},\n",
       " {'id': 10158, 'name': 'alien planet'},\n",
       " {'id': 10987, 'name': 'cgi'},\n",
       " {'id': 11399, 'name': 'marine'},\n",
       " {'id': 13065, 'name': 'soldier'},\n",
       " {'id': 14643, 'name': 'battle'},\n",
       " {'id': 14720, 'name': 'love affair'},\n",
       " {'id': 165431, 'name': 'anti war'},\n",
       " {'id': 193554, 'name': 'power relations'},\n",
       " {'id': 206690, 'name': 'mind and soul'},\n",
       " {'id': 209714, 'name': '3d'}]"
      ]
     },
     "execution_count": 89,
     "metadata": {},
     "output_type": "execute_result"
    }
   ],
   "source": [
    "df2['keywords'][0]"
   ]
  },
  {
   "cell_type": "code",
   "execution_count": 90,
   "metadata": {},
   "outputs": [
    {
     "data": {
      "text/plain": [
       "[{'id': 28, 'name': 'Action'},\n",
       " {'id': 12, 'name': 'Adventure'},\n",
       " {'id': 14, 'name': 'Fantasy'},\n",
       " {'id': 878, 'name': 'Science Fiction'}]"
      ]
     },
     "execution_count": 90,
     "metadata": {},
     "output_type": "execute_result"
    }
   ],
   "source": [
    "df2['genres'][0]"
   ]
  },
  {
   "cell_type": "code",
   "execution_count": 91,
   "metadata": {},
   "outputs": [],
   "source": [
    "def get_inf_dir(x):\n",
    "    for i in x:\n",
    "        if i['job'] == 'Director':\n",
    "            return i['name']\n",
    "        "
   ]
  },
  {
   "cell_type": "code",
   "execution_count": 92,
   "metadata": {},
   "outputs": [],
   "source": [
    "def get_list(x):\n",
    "    if isinstance(x, list):\n",
    "        names = [i['name'] for i in x]\n",
    "        if len(names) > 5:\n",
    "            names = names[:5]\n",
    "        return names\n",
    "    return []"
   ]
  },
  {
   "cell_type": "code",
   "execution_count": 93,
   "metadata": {},
   "outputs": [],
   "source": [
    "df2['director'] = df2['crew'].apply(get_inf_dir)"
   ]
  },
  {
   "cell_type": "code",
   "execution_count": 94,
   "metadata": {},
   "outputs": [
    {
     "data": {
      "text/plain": [
       "'James Cameron'"
      ]
     },
     "execution_count": 94,
     "metadata": {},
     "output_type": "execute_result"
    }
   ],
   "source": [
    "df2['director'][0]"
   ]
  },
  {
   "cell_type": "code",
   "execution_count": 95,
   "metadata": {},
   "outputs": [
    {
     "data": {
      "text/plain": [
       "4798    Robert Rodriguez\n",
       "4799        Edward Burns\n",
       "4800         Scott Smith\n",
       "4801         Daniel Hsia\n",
       "4802    Brian Herzlinger\n",
       "Name: director, dtype: object"
      ]
     },
     "execution_count": 95,
     "metadata": {},
     "output_type": "execute_result"
    }
   ],
   "source": [
    "df2['director'].tail()"
   ]
  },
  {
   "cell_type": "code",
   "execution_count": 96,
   "metadata": {},
   "outputs": [],
   "source": [
    "features = ['cast', 'keywords', 'genres']"
   ]
  },
  {
   "cell_type": "code",
   "execution_count": 97,
   "metadata": {},
   "outputs": [],
   "source": [
    "for x in features:\n",
    "    df2[x] = df2[x].apply(get_list)"
   ]
  },
  {
   "cell_type": "code",
   "execution_count": 98,
   "metadata": {},
   "outputs": [
    {
     "data": {
      "text/plain": [
       "0       [Action, Adventure, Fantasy, Science Fiction]\n",
       "1                        [Adventure, Fantasy, Action]\n",
       "2                          [Action, Adventure, Crime]\n",
       "3                    [Action, Crime, Drama, Thriller]\n",
       "4                [Action, Adventure, Science Fiction]\n",
       "                            ...                      \n",
       "4798                        [Action, Crime, Thriller]\n",
       "4799                                [Comedy, Romance]\n",
       "4800               [Comedy, Drama, Romance, TV Movie]\n",
       "4801                                               []\n",
       "4802                                    [Documentary]\n",
       "Name: genres, Length: 4803, dtype: object"
      ]
     },
     "execution_count": 98,
     "metadata": {},
     "output_type": "execute_result"
    }
   ],
   "source": [
    "df2['genres']"
   ]
  },
  {
   "cell_type": "code",
   "execution_count": 99,
   "metadata": {},
   "outputs": [
    {
     "data": {
      "text/plain": [
       "0"
      ]
     },
     "execution_count": 99,
     "metadata": {},
     "output_type": "execute_result"
    }
   ],
   "source": [
    "df2['genres'].isnull().sum()"
   ]
  },
  {
   "cell_type": "code",
   "execution_count": 100,
   "metadata": {},
   "outputs": [],
   "source": [
    "def clean_data(x):\n",
    "    if isinstance(x, list):\n",
    "        return [str.lower(i.replace(\" \",\"\")) for i in x]\n",
    "    else:\n",
    "        if isinstance(x, str):\n",
    "            return str.lower(x)\n",
    "        else:\n",
    "            return ''"
   ]
  },
  {
   "cell_type": "code",
   "execution_count": 101,
   "metadata": {},
   "outputs": [],
   "source": [
    "features = ['cast', 'keywords', 'genres' , 'director']"
   ]
  },
  {
   "cell_type": "code",
   "execution_count": 102,
   "metadata": {},
   "outputs": [
    {
     "data": {
      "text/plain": [
       "0       [culture clash, future, space war, space colon...\n",
       "1       [ocean, drug abuse, exotic island, east india ...\n",
       "2        [spy, based on novel, secret agent, sequel, mi6]\n",
       "3       [dc comics, crime fighter, terrorist, secret i...\n",
       "4       [based on novel, mars, medallion, space travel...\n",
       "                              ...                        \n",
       "4798    [united states–mexico barrier, legs, arms, pap...\n",
       "4799                                                   []\n",
       "4800    [date, love at first sight, narration, investi...\n",
       "4801                                                   []\n",
       "4802            [obsession, camcorder, crush, dream girl]\n",
       "Name: keywords, Length: 4803, dtype: object"
      ]
     },
     "execution_count": 102,
     "metadata": {},
     "output_type": "execute_result"
    }
   ],
   "source": [
    "df2['keywords']"
   ]
  },
  {
   "cell_type": "code",
   "execution_count": 103,
   "metadata": {},
   "outputs": [],
   "source": [
    "for x in features:\n",
    "    df2[x] = df2[x].apply(clean_data)"
   ]
  },
  {
   "cell_type": "code",
   "execution_count": 104,
   "metadata": {},
   "outputs": [],
   "source": [
    "def create_feature(x):\n",
    "    return ' '.join(x['keywords']) + ' ' + ' '.join(x['cast']) + ' '+ ' '.join(x['genres']) + ' '+ ' '.join(x['director'])"
   ]
  },
  {
   "cell_type": "code",
   "execution_count": 105,
   "metadata": {},
   "outputs": [],
   "source": [
    "df2['soup'] = df2.apply(create_feature, axis=1)"
   ]
  },
  {
   "cell_type": "code",
   "execution_count": 106,
   "metadata": {},
   "outputs": [
    {
     "data": {
      "text/plain": [
       "'cultureclash future spacewar spacecolony society samworthington zoesaldana sigourneyweaver stephenlang michellerodriguez action adventure fantasy sciencefiction j a m e s   c a m e r o n'"
      ]
     },
     "execution_count": 106,
     "metadata": {},
     "output_type": "execute_result"
    }
   ],
   "source": [
    "df2['soup'][0]"
   ]
  },
  {
   "cell_type": "code",
   "execution_count": 107,
   "metadata": {},
   "outputs": [],
   "source": [
    "from sklearn.feature_extraction.text import TfidfVectorizer"
   ]
  },
  {
   "cell_type": "code",
   "execution_count": 108,
   "metadata": {},
   "outputs": [],
   "source": [
    "tfid1 = TfidfVectorizer(stop_words = 'english')\n",
    "matrix1 = tfid1.fit_transform(df2['soup'])"
   ]
  },
  {
   "cell_type": "code",
   "execution_count": 109,
   "metadata": {},
   "outputs": [
    {
     "data": {
      "text/plain": [
       "<4803x14775 sparse matrix of type '<class 'numpy.float64'>'\n",
       "\twith 55567 stored elements in Compressed Sparse Row format>"
      ]
     },
     "execution_count": 109,
     "metadata": {},
     "output_type": "execute_result"
    }
   ],
   "source": [
    "matrix1"
   ]
  },
  {
   "cell_type": "code",
   "execution_count": 110,
   "metadata": {},
   "outputs": [],
   "source": [
    "from sklearn.metrics.pairwise import cosine_similarity"
   ]
  },
  {
   "cell_type": "code",
   "execution_count": 111,
   "metadata": {},
   "outputs": [],
   "source": [
    "cos_sim1 = cosine_similarity(matrix1, matrix1)"
   ]
  },
  {
   "cell_type": "code",
   "execution_count": 112,
   "metadata": {},
   "outputs": [
    {
     "data": {
      "text/plain": [
       "(4803, 4803)"
      ]
     },
     "execution_count": 112,
     "metadata": {},
     "output_type": "execute_result"
    }
   ],
   "source": [
    "cos_sim1.shape"
   ]
  },
  {
   "cell_type": "code",
   "execution_count": 113,
   "metadata": {},
   "outputs": [],
   "source": [
    "def get_5_rec(title, cos_sim1 = cos_sim1):\n",
    "    #found the index of movie\n",
    "    idx = indicies[title]\n",
    "    \n",
    "    # exttracting sim. scores for idx index movie\n",
    "    sim_scs = list(enumerate(cos_sim1[idx]))\n",
    "    \n",
    "    #sorted the list above\n",
    "    sim_scs = sorted(sim_scs, key=lambda x:x[1], reverse = True)\n",
    "    \n",
    "    #we extract top 5 reccom.\n",
    "    sim_scs = sim_scs[1:6]\n",
    "    \n",
    "    #we saved our all of the reccom. index \n",
    "    movie_idx = [i[0] for i in sim_scs]\n",
    "    \n",
    "    #returned reccom. movies title\n",
    "    return df2['title_y'].iloc[movie_idx]"
   ]
  },
  {
   "cell_type": "code",
   "execution_count": 114,
   "metadata": {},
   "outputs": [
    {
     "data": {
      "text/plain": [
       "373              Mission to Mars\n",
       "270                  The Martian\n",
       "122     X-Men Origins: Wolverine\n",
       "1508               The Number 23\n",
       "2964       The Last Days on Mars\n",
       "Name: title_y, dtype: object"
      ]
     },
     "execution_count": 114,
     "metadata": {},
     "output_type": "execute_result"
    }
   ],
   "source": [
    "get_5_rec('John Carter')"
   ]
  },
  {
   "cell_type": "code",
   "execution_count": null,
   "metadata": {},
   "outputs": [],
   "source": []
  },
  {
   "cell_type": "code",
   "execution_count": null,
   "metadata": {},
   "outputs": [],
   "source": []
  },
  {
   "cell_type": "code",
   "execution_count": null,
   "metadata": {},
   "outputs": [],
   "source": []
  }
 ],
 "metadata": {
  "kernelspec": {
   "display_name": "Python 3",
   "language": "python",
   "name": "python3"
  },
  "language_info": {
   "codemirror_mode": {
    "name": "ipython",
    "version": 3
   },
   "file_extension": ".py",
   "mimetype": "text/x-python",
   "name": "python",
   "nbconvert_exporter": "python",
   "pygments_lexer": "ipython3",
   "version": "3.8.3"
  }
 },
 "nbformat": 4,
 "nbformat_minor": 4
}
